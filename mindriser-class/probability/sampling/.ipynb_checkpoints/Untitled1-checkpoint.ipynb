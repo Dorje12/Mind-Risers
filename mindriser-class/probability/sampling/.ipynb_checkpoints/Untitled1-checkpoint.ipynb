{
 "cells": [
  {
   "cell_type": "code",
   "execution_count": 1,
   "id": "5539dbaf-c7c0-4b16-ba78-fde601febf03",
   "metadata": {},
   "outputs": [],
   "source": [
    "import numpy as np\n",
    "import pandas as pd\n",
    "import matplotlib.pyplot as plt\n",
    "from scipy import stats\n",
    "import statsmodels.api as sm"
   ]
  },
  {
   "cell_type": "code",
   "execution_count": 2,
   "id": "84504898-3d9a-4002-82f9-c4c574ccf072",
   "metadata": {},
   "outputs": [],
   "source": [
    "aqi = pd.read_csv(\"c4_epa_air_quality.csv\")\n",
    "aqi = aqi.dropna()"
   ]
  },
  {
   "cell_type": "code",
   "execution_count": 53,
   "id": "a96d59d5-ab7b-49ae-b452-5437efeeecc7",
   "metadata": {},
   "outputs": [
    {
     "data": {
      "text/html": [
       "<div>\n",
       "<style scoped>\n",
       "    .dataframe tbody tr th:only-of-type {\n",
       "        vertical-align: middle;\n",
       "    }\n",
       "\n",
       "    .dataframe tbody tr th {\n",
       "        vertical-align: top;\n",
       "    }\n",
       "\n",
       "    .dataframe thead th {\n",
       "        text-align: right;\n",
       "    }\n",
       "</style>\n",
       "<table border=\"1\" class=\"dataframe\">\n",
       "  <thead>\n",
       "    <tr style=\"text-align: right;\">\n",
       "      <th></th>\n",
       "      <th>Unnamed: 0</th>\n",
       "      <th>date_local</th>\n",
       "      <th>state_name</th>\n",
       "      <th>county_name</th>\n",
       "      <th>city_name</th>\n",
       "      <th>local_site_name</th>\n",
       "      <th>parameter_name</th>\n",
       "      <th>units_of_measure</th>\n",
       "      <th>arithmetic_mean</th>\n",
       "      <th>aqi</th>\n",
       "    </tr>\n",
       "  </thead>\n",
       "  <tbody>\n",
       "    <tr>\n",
       "      <th>0</th>\n",
       "      <td>0</td>\n",
       "      <td>2018-01-01</td>\n",
       "      <td>Arizona</td>\n",
       "      <td>Maricopa</td>\n",
       "      <td>Buckeye</td>\n",
       "      <td>BUCKEYE</td>\n",
       "      <td>Carbon monoxide</td>\n",
       "      <td>Parts per million</td>\n",
       "      <td>0.473684</td>\n",
       "      <td>7</td>\n",
       "    </tr>\n",
       "    <tr>\n",
       "      <th>1</th>\n",
       "      <td>1</td>\n",
       "      <td>2018-01-01</td>\n",
       "      <td>Ohio</td>\n",
       "      <td>Belmont</td>\n",
       "      <td>Shadyside</td>\n",
       "      <td>Shadyside</td>\n",
       "      <td>Carbon monoxide</td>\n",
       "      <td>Parts per million</td>\n",
       "      <td>0.263158</td>\n",
       "      <td>5</td>\n",
       "    </tr>\n",
       "    <tr>\n",
       "      <th>2</th>\n",
       "      <td>2</td>\n",
       "      <td>2018-01-01</td>\n",
       "      <td>Wyoming</td>\n",
       "      <td>Teton</td>\n",
       "      <td>Not in a city</td>\n",
       "      <td>Yellowstone National Park - Old Faithful Snow ...</td>\n",
       "      <td>Carbon monoxide</td>\n",
       "      <td>Parts per million</td>\n",
       "      <td>0.111111</td>\n",
       "      <td>2</td>\n",
       "    </tr>\n",
       "    <tr>\n",
       "      <th>3</th>\n",
       "      <td>3</td>\n",
       "      <td>2018-01-01</td>\n",
       "      <td>Pennsylvania</td>\n",
       "      <td>Philadelphia</td>\n",
       "      <td>Philadelphia</td>\n",
       "      <td>North East Waste (NEW)</td>\n",
       "      <td>Carbon monoxide</td>\n",
       "      <td>Parts per million</td>\n",
       "      <td>0.300000</td>\n",
       "      <td>3</td>\n",
       "    </tr>\n",
       "    <tr>\n",
       "      <th>4</th>\n",
       "      <td>4</td>\n",
       "      <td>2018-01-01</td>\n",
       "      <td>Iowa</td>\n",
       "      <td>Polk</td>\n",
       "      <td>Des Moines</td>\n",
       "      <td>CARPENTER</td>\n",
       "      <td>Carbon monoxide</td>\n",
       "      <td>Parts per million</td>\n",
       "      <td>0.215789</td>\n",
       "      <td>3</td>\n",
       "    </tr>\n",
       "  </tbody>\n",
       "</table>\n",
       "</div>"
      ],
      "text/plain": [
       "   Unnamed: 0  date_local    state_name   county_name      city_name  \\\n",
       "0           0  2018-01-01       Arizona      Maricopa        Buckeye   \n",
       "1           1  2018-01-01          Ohio       Belmont      Shadyside   \n",
       "2           2  2018-01-01       Wyoming         Teton  Not in a city   \n",
       "3           3  2018-01-01  Pennsylvania  Philadelphia   Philadelphia   \n",
       "4           4  2018-01-01          Iowa          Polk     Des Moines   \n",
       "\n",
       "                                     local_site_name   parameter_name  \\\n",
       "0                                            BUCKEYE  Carbon monoxide   \n",
       "1                                          Shadyside  Carbon monoxide   \n",
       "2  Yellowstone National Park - Old Faithful Snow ...  Carbon monoxide   \n",
       "3                             North East Waste (NEW)  Carbon monoxide   \n",
       "4                                          CARPENTER  Carbon monoxide   \n",
       "\n",
       "    units_of_measure  arithmetic_mean  aqi  \n",
       "0  Parts per million         0.473684    7  \n",
       "1  Parts per million         0.263158    5  \n",
       "2  Parts per million         0.111111    2  \n",
       "3  Parts per million         0.300000    3  \n",
       "4  Parts per million         0.215789    3  "
      ]
     },
     "execution_count": 53,
     "metadata": {},
     "output_type": "execute_result"
    }
   ],
   "source": [
    "aqi.head()"
   ]
  },
  {
   "cell_type": "code",
   "execution_count": 54,
   "id": "e39fbc66-363a-40d0-b5a0-623ec88ba459",
   "metadata": {},
   "outputs": [
    {
     "data": {
      "text/plain": [
       "array(['Arizona', 'Ohio', 'Wyoming', 'Pennsylvania', 'Iowa', 'Hawaii',\n",
       "       'Colorado', 'Minnesota', 'Indiana', 'Missouri', 'Connecticut',\n",
       "       'California', 'Nevada', 'Virginia', 'Rhode Island', 'Texas',\n",
       "       'Illinois', 'Kansas', 'Maryland', 'New Jersey', 'Massachusetts',\n",
       "       'Maine', 'Idaho', 'Florida', 'Vermont', 'Tennessee', 'Georgia',\n",
       "       'South Dakota', 'North Carolina', 'Michigan', 'Nebraska',\n",
       "       'Alabama', 'Washington', 'Kentucky', 'Oklahoma', 'New York',\n",
       "       'North Dakota', 'Montana', 'Utah', 'Delaware', 'New Hampshire',\n",
       "       'Louisiana', 'Mississippi', 'New Mexico', 'Oregon',\n",
       "       'District Of Columbia', 'Arkansas', 'Puerto Rico',\n",
       "       'South Carolina', 'Alaska', 'Wisconsin'], dtype=object)"
      ]
     },
     "execution_count": 54,
     "metadata": {},
     "output_type": "execute_result"
    }
   ],
   "source": [
    "aqi['state_name'].unique()"
   ]
  },
  {
   "cell_type": "code",
   "execution_count": 55,
   "id": "ec49870b-89a8-4bdb-9276-063523c09a9d",
   "metadata": {},
   "outputs": [
    {
     "data": {
      "text/plain": [
       "array(['Maricopa', 'Belmont', 'Teton', 'Philadelphia', 'Polk', 'Honolulu',\n",
       "       'Larimer', 'Dakota', 'Marion', 'Hamilton', 'Jackson', 'Hartford',\n",
       "       'San Bernardino', 'Washoe', 'Sacramento', 'Pima', 'Roanoke',\n",
       "       'Linn', 'Stark', 'Providence', 'Harris', 'Clark', 'Orange',\n",
       "       'Alameda', 'Cook', 'Wyandotte', 'Baltimore', 'Hennepin', 'Bergen',\n",
       "       'Los Angeles', 'Fresno', 'Anoka', 'Suffolk', 'Cumberland', 'Ada',\n",
       "       'San Mateo', 'La Plata', 'Contra Costa', 'Arlington', 'Butte',\n",
       "       'Riverside', 'Chittenden', 'Hillsborough', 'Shelby', 'DeKalb',\n",
       "       'Summit', 'Hampden', 'Minnehaha', 'Mecklenburg', 'Denver', 'Essex',\n",
       "       'Kern', 'Cuyahoga', 'Scott', 'Allegheny', 'Wayne', 'Douglas',\n",
       "       'St. Louis City', 'Jefferson', 'King', 'Wake', 'San Joaquin',\n",
       "       'Garrett', 'Santa Barbara', 'Laramie', 'Edmonson', 'Tulsa',\n",
       "       'Santa Clara', 'Humboldt', 'Union', 'Howard', 'Erie', 'El Paso',\n",
       "       'Oklahoma', 'Pinellas', 'Mesa', 'Adams', 'New Haven', 'Imperial',\n",
       "       'Burleigh', 'Litchfield', 'Bronx', 'Miami-Dade', 'Lewis and Clark',\n",
       "       'Richmond City', 'San Diego', 'Converse', 'Monroe', 'Salt Lake',\n",
       "       'Broward', 'Marin', 'Gallatin', 'New Castle', 'York', 'Duval',\n",
       "       'San Francisco', 'Worcester', 'Franklin', 'East Baton Rouge',\n",
       "       'Bexar', 'Rutland', 'Stanislaus', 'Camden', 'Hinds', 'Bernalillo',\n",
       "       'Lake', 'Weber', 'Hudson', 'New York', 'Saint Clair', 'Wakulla',\n",
       "       'Inyo', 'Queens', 'Adair', 'Multnomah', 'Hancock', 'Rockingham',\n",
       "       'District of Columbia', 'Steuben', 'Champaign', 'Pulaski', 'Ponce',\n",
       "       'Madera', 'Hampton City', 'Ramsey', 'Weld', 'Tarrant',\n",
       "       'Vanderburgh', 'Sonoma', 'Napa', 'Richland', \"Prince George's\",\n",
       "       'Kent', 'Fulton', 'Travis', 'Monterey', 'Montgomery', 'Albany',\n",
       "       'Lackawanna', 'Solano', 'Anchorage ', 'La Paz', 'Preble',\n",
       "       'Fairbanks North Star ', 'Fairfield', 'Dallas', 'Washington',\n",
       "       'Dodge'], dtype=object)"
      ]
     },
     "execution_count": 55,
     "metadata": {},
     "output_type": "execute_result"
    }
   ],
   "source": [
    "aqi['county_name'].unique()"
   ]
  },
  {
   "cell_type": "code",
   "execution_count": 52,
   "id": "780fb0a8-86cc-4940-a860-845f1394bbc1",
   "metadata": {},
   "outputs": [],
   "source": [
    "California = aqi[aqi['state_name']=='California']"
   ]
  },
  {
   "cell_type": "code",
   "execution_count": 56,
   "id": "38a01e60-b3ed-49f4-bca7-450658fac073",
   "metadata": {},
   "outputs": [],
   "source": [
    "Los_angeles = aqi[aqi['county_name']=='Los Angeles']"
   ]
  },
  {
   "cell_type": "code",
   "execution_count": 43,
   "id": "9973ff1a-5e6f-4085-bbc8-7b07c44cd707",
   "metadata": {},
   "outputs": [],
   "source": [
    "sampled_California = California.sample(n=20, replace=True,random_state =13490)"
   ]
  },
  {
   "cell_type": "code",
   "execution_count": 57,
   "id": "d7bf3799-542e-49cb-89f9-ea2133e42a1e",
   "metadata": {},
   "outputs": [],
   "source": [
    "sampled_Los_angeles = Los_angeles.sample(n=20, replace=True,random_state =13490)"
   ]
  },
  {
   "cell_type": "code",
   "execution_count": 47,
   "id": "7bd1fd53-186a-4a2a-801e-6d88eb3dfd73",
   "metadata": {},
   "outputs": [
    {
     "name": "stdout",
     "output_type": "stream",
     "text": [
      "Index(['Unnamed: 0', 'date_local', 'state_name', 'county_name', 'city_name',\n",
      "       'local_site_name', 'parameter_name', 'units_of_measure',\n",
      "       'arithmetic_mean', 'aqi'],\n",
      "      dtype='object')\n"
     ]
    }
   ],
   "source": [
    "print(sampled_California.columns)\n"
   ]
  },
  {
   "cell_type": "code",
   "execution_count": null,
   "id": "7db97cb4-8c51-467d-88a8-a7a28e4e58af",
   "metadata": {},
   "outputs": [],
   "source": []
  }
 ],
 "metadata": {
  "kernelspec": {
   "display_name": "Python 3 (ipykernel)",
   "language": "python",
   "name": "python3"
  },
  "language_info": {
   "codemirror_mode": {
    "name": "ipython",
    "version": 3
   },
   "file_extension": ".py",
   "mimetype": "text/x-python",
   "name": "python",
   "nbconvert_exporter": "python",
   "pygments_lexer": "ipython3",
   "version": "3.12.4"
  }
 },
 "nbformat": 4,
 "nbformat_minor": 5
}
