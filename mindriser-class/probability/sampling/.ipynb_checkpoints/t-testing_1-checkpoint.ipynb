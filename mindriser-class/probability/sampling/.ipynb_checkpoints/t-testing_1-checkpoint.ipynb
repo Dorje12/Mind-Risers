{
 "cells": [
  {
   "cell_type": "code",
   "execution_count": 1,
   "id": "346d08ab-db9d-4e1b-a8a0-41056b46c0b5",
   "metadata": {},
   "outputs": [],
   "source": [
    "import numpy as np\n",
    "import pandas as pd\n",
    "import matplotlib.pyplot as plt\n",
    "from scipy import stats\n",
    "import statsmodels.api as sm"
   ]
  },
  {
   "cell_type": "code",
   "execution_count": 2,
   "id": "81d7f669-446f-4a93-b89b-2ccb0a0a02ad",
   "metadata": {},
   "outputs": [],
   "source": [
    "education_districtwise = pd.read_csv(\"education_districtwise.csv\")\n",
    "education_districtwise = education_districtwise.dropna()"
   ]
  },
  {
   "cell_type": "code",
   "execution_count": 8,
   "id": "6d456cc5-ec79-41fd-92de-fa8aa34ea61c",
   "metadata": {},
   "outputs": [
    {
     "data": {
      "text/html": [
       "<div>\n",
       "<style scoped>\n",
       "    .dataframe tbody tr th:only-of-type {\n",
       "        vertical-align: middle;\n",
       "    }\n",
       "\n",
       "    .dataframe tbody tr th {\n",
       "        vertical-align: top;\n",
       "    }\n",
       "\n",
       "    .dataframe thead th {\n",
       "        text-align: right;\n",
       "    }\n",
       "</style>\n",
       "<table border=\"1\" class=\"dataframe\">\n",
       "  <thead>\n",
       "    <tr style=\"text-align: right;\">\n",
       "      <th></th>\n",
       "      <th>AC_YEAR</th>\n",
       "      <th>STATCD</th>\n",
       "      <th>DISTCD</th>\n",
       "      <th>STATNAME</th>\n",
       "      <th>DISTNAME</th>\n",
       "      <th>DISTRICTS</th>\n",
       "      <th>BLOCKS</th>\n",
       "      <th>VILLAGES</th>\n",
       "      <th>CLUSTERS</th>\n",
       "      <th>TOTPOPULAT</th>\n",
       "      <th>...</th>\n",
       "      <th>UUNI_ALL</th>\n",
       "      <th>UUNI_SC</th>\n",
       "      <th>UUNI_ST</th>\n",
       "      <th>TOTCLS1G</th>\n",
       "      <th>TOTCLS2G</th>\n",
       "      <th>TOTCLS3G</th>\n",
       "      <th>TOTCLS4G</th>\n",
       "      <th>TOTCLS5G</th>\n",
       "      <th>TOTCLS6G</th>\n",
       "      <th>TOTCLS7G</th>\n",
       "    </tr>\n",
       "  </thead>\n",
       "  <tbody>\n",
       "    <tr>\n",
       "      <th>0</th>\n",
       "      <td>2015-16</td>\n",
       "      <td>1</td>\n",
       "      <td>101</td>\n",
       "      <td>JAMMU &amp; KASHMIR</td>\n",
       "      <td>KUPWARA</td>\n",
       "      <td>1</td>\n",
       "      <td>13</td>\n",
       "      <td>391</td>\n",
       "      <td>104</td>\n",
       "      <td>875564.0</td>\n",
       "      <td>...</td>\n",
       "      <td>21322</td>\n",
       "      <td>26</td>\n",
       "      <td>2594</td>\n",
       "      <td>3489</td>\n",
       "      <td>5315</td>\n",
       "      <td>27</td>\n",
       "      <td>62</td>\n",
       "      <td>23</td>\n",
       "      <td>852</td>\n",
       "      <td>239</td>\n",
       "    </tr>\n",
       "    <tr>\n",
       "      <th>1</th>\n",
       "      <td>2015-16</td>\n",
       "      <td>1</td>\n",
       "      <td>102</td>\n",
       "      <td>JAMMU &amp; KASHMIR</td>\n",
       "      <td>BARAMULA</td>\n",
       "      <td>1</td>\n",
       "      <td>18</td>\n",
       "      <td>678</td>\n",
       "      <td>144</td>\n",
       "      <td>1015503.0</td>\n",
       "      <td>...</td>\n",
       "      <td>17307</td>\n",
       "      <td>0</td>\n",
       "      <td>1571</td>\n",
       "      <td>4127</td>\n",
       "      <td>5800</td>\n",
       "      <td>210</td>\n",
       "      <td>53</td>\n",
       "      <td>30</td>\n",
       "      <td>1665</td>\n",
       "      <td>360</td>\n",
       "    </tr>\n",
       "    <tr>\n",
       "      <th>2</th>\n",
       "      <td>2015-16</td>\n",
       "      <td>1</td>\n",
       "      <td>103</td>\n",
       "      <td>JAMMU &amp; KASHMIR</td>\n",
       "      <td>SRINAGAR</td>\n",
       "      <td>1</td>\n",
       "      <td>8</td>\n",
       "      <td>94</td>\n",
       "      <td>65</td>\n",
       "      <td>1269751.0</td>\n",
       "      <td>...</td>\n",
       "      <td>5444</td>\n",
       "      <td>31</td>\n",
       "      <td>408</td>\n",
       "      <td>817</td>\n",
       "      <td>3284</td>\n",
       "      <td>886</td>\n",
       "      <td>11</td>\n",
       "      <td>0</td>\n",
       "      <td>2873</td>\n",
       "      <td>40</td>\n",
       "    </tr>\n",
       "    <tr>\n",
       "      <th>3</th>\n",
       "      <td>2015-16</td>\n",
       "      <td>1</td>\n",
       "      <td>104</td>\n",
       "      <td>JAMMU &amp; KASHMIR</td>\n",
       "      <td>BADGAM</td>\n",
       "      <td>1</td>\n",
       "      <td>13</td>\n",
       "      <td>523</td>\n",
       "      <td>104</td>\n",
       "      <td>735753.0</td>\n",
       "      <td>...</td>\n",
       "      <td>12469</td>\n",
       "      <td>18</td>\n",
       "      <td>857</td>\n",
       "      <td>2290</td>\n",
       "      <td>3837</td>\n",
       "      <td>119</td>\n",
       "      <td>45</td>\n",
       "      <td>8</td>\n",
       "      <td>1035</td>\n",
       "      <td>325</td>\n",
       "    </tr>\n",
       "    <tr>\n",
       "      <th>4</th>\n",
       "      <td>2015-16</td>\n",
       "      <td>1</td>\n",
       "      <td>105</td>\n",
       "      <td>JAMMU &amp; KASHMIR</td>\n",
       "      <td>PULWAMA</td>\n",
       "      <td>1</td>\n",
       "      <td>8</td>\n",
       "      <td>359</td>\n",
       "      <td>64</td>\n",
       "      <td>570060.0</td>\n",
       "      <td>...</td>\n",
       "      <td>7408</td>\n",
       "      <td>17</td>\n",
       "      <td>855</td>\n",
       "      <td>1688</td>\n",
       "      <td>2584</td>\n",
       "      <td>151</td>\n",
       "      <td>67</td>\n",
       "      <td>5</td>\n",
       "      <td>1101</td>\n",
       "      <td>209</td>\n",
       "    </tr>\n",
       "  </tbody>\n",
       "</table>\n",
       "<p>5 rows × 819 columns</p>\n",
       "</div>"
      ],
      "text/plain": [
       "   AC_YEAR  STATCD  DISTCD         STATNAME  DISTNAME  DISTRICTS  BLOCKS  \\\n",
       "0  2015-16       1     101  JAMMU & KASHMIR   KUPWARA          1      13   \n",
       "1  2015-16       1     102  JAMMU & KASHMIR  BARAMULA          1      18   \n",
       "2  2015-16       1     103  JAMMU & KASHMIR  SRINAGAR          1       8   \n",
       "3  2015-16       1     104  JAMMU & KASHMIR    BADGAM          1      13   \n",
       "4  2015-16       1     105  JAMMU & KASHMIR   PULWAMA          1       8   \n",
       "\n",
       "   VILLAGES  CLUSTERS  TOTPOPULAT  ...  UUNI_ALL  UUNI_SC  UUNI_ST  TOTCLS1G  \\\n",
       "0       391       104    875564.0  ...     21322       26     2594      3489   \n",
       "1       678       144   1015503.0  ...     17307        0     1571      4127   \n",
       "2        94        65   1269751.0  ...      5444       31      408       817   \n",
       "3       523       104    735753.0  ...     12469       18      857      2290   \n",
       "4       359        64    570060.0  ...      7408       17      855      1688   \n",
       "\n",
       "   TOTCLS2G  TOTCLS3G  TOTCLS4G  TOTCLS5G  TOTCLS6G  TOTCLS7G  \n",
       "0      5315        27        62        23       852       239  \n",
       "1      5800       210        53        30      1665       360  \n",
       "2      3284       886        11         0      2873        40  \n",
       "3      3837       119        45         8      1035       325  \n",
       "4      2584       151        67         5      1101       209  \n",
       "\n",
       "[5 rows x 819 columns]"
      ]
     },
     "execution_count": 8,
     "metadata": {},
     "output_type": "execute_result"
    }
   ],
   "source": [
    "education_districtwise.head()"
   ]
  },
  {
   "cell_type": "code",
   "execution_count": 9,
   "id": "152b1eac-d06d-499e-99ca-1a0122e65ebe",
   "metadata": {},
   "outputs": [
    {
     "data": {
      "text/plain": [
       "array(['JAMMU & KASHMIR', 'HIMACHAL PRADESH', 'PUNJAB', 'CHANDIGARH',\n",
       "       'UTTARAKHAND', 'HARYANA', 'DELHI', 'RAJASTHAN', 'UTTAR PRADESH',\n",
       "       'BIHAR', 'SIKKIM', 'ARUNACHAL PRADESH', 'NAGALAND', 'MANIPUR',\n",
       "       'MIZORAM', 'TRIPURA', 'MEGHALAYA', 'ASSAM', 'WEST BENGAL',\n",
       "       'JHARKHAND', 'ODISHA', 'CHHATTISGARH', 'MADHYA PRADESH', 'GUJARAT',\n",
       "       'DAMAN & DIU', 'DADRA & NAGAR HAVELI', 'MAHARASHTRA',\n",
       "       'ANDHRA PRADESH', 'KARNATAKA', 'GOA', 'LAKSHADWEEP', 'KERALA',\n",
       "       'TAMIL NADU', 'PUDUCHERRY', 'A & N ISLANDS', 'TELANGANA'],\n",
       "      dtype=object)"
      ]
     },
     "execution_count": 9,
     "metadata": {},
     "output_type": "execute_result"
    }
   ],
   "source": [
    "education_districtwise['STATNAME'].unique()"
   ]
  },
  {
   "cell_type": "code",
   "execution_count": 12,
   "id": "41582761-d34b-41fe-b2e5-8c5878dbb7b5",
   "metadata": {},
   "outputs": [],
   "source": [
    "UTTARAKHAND = education_districtwise[education_districtwise['STATNAME']==\"UTTARAKHAND\"]"
   ]
  },
  {
   "cell_type": "code",
   "execution_count": 13,
   "id": "ce59f188-5b10-4c2b-b33b-d24799eb1851",
   "metadata": {},
   "outputs": [],
   "source": [
    "SIKKIM = education_districtwise[education_districtwise['STATNAME']==\"SIKKIM\"]"
   ]
  },
  {
   "cell_type": "code",
   "execution_count": 14,
   "id": "0a25afcd-bab5-4b6b-994a-0856f0f7c7a1",
   "metadata": {},
   "outputs": [],
   "source": [
    "sampled_UTTARAKHAND= UTTARAKHAND.sample(n=20, replace= True, random_state = 13490)"
   ]
  },
  {
   "cell_type": "code",
   "execution_count": 15,
   "id": "78fe421a-d155-427a-8bbb-74a8a2c7adfa",
   "metadata": {},
   "outputs": [],
   "source": [
    "sampled_SIKKIM= SIKKIM.sample(n=20, replace= True, random_state = 39103)"
   ]
  },
  {
   "cell_type": "code",
   "execution_count": 16,
   "id": "72895ba9-7c36-443d-b908-d7b9c0cc6eb3",
   "metadata": {},
   "outputs": [
    {
     "data": {
      "text/plain": [
       "78.532"
      ]
     },
     "execution_count": 16,
     "metadata": {},
     "output_type": "execute_result"
    }
   ],
   "source": [
    "sampled_UTTARAKHAND['OVERALL_LI'].mean()"
   ]
  },
  {
   "cell_type": "code",
   "execution_count": 17,
   "id": "1b106088-e658-4ac3-9b1a-86caec231ced",
   "metadata": {},
   "outputs": [
    {
     "data": {
      "text/plain": [
       "81.925"
      ]
     },
     "execution_count": 17,
     "metadata": {},
     "output_type": "execute_result"
    }
   ],
   "source": [
    "sampled_SIKKIM['OVERALL_LI'].mean()"
   ]
  },
  {
   "cell_type": "code",
   "execution_count": 18,
   "id": "ccaa0a6d-0e70-45d0-b2c7-3e8b0b7dcb37",
   "metadata": {},
   "outputs": [
    {
     "data": {
      "text/plain": [
       "TtestResult(statistic=-3.0239462816212535, pvalue=0.004695920326203838, df=34.35974828132103)"
      ]
     },
     "execution_count": 18,
     "metadata": {},
     "output_type": "execute_result"
    }
   ],
   "source": [
    "stats.ttest_ind(a=sampled_UTTARAKHAND['OVERALL_LI'], b =sampled_SIKKIM['OVERALL_LI'], equal_var= False)"
   ]
  },
  {
   "cell_type": "markdown",
   "id": "45654d8b-204b-470d-b980-6425f88e3c38",
   "metadata": {},
   "source": [
    "### since p value is lower then  significance value it should be rejected null hypo//accept alternative"
   ]
  },
  {
   "cell_type": "code",
   "execution_count": null,
   "id": "55b7b371-8cf5-41fa-a669-60e8839347a0",
   "metadata": {},
   "outputs": [],
   "source": []
  }
 ],
 "metadata": {
  "kernelspec": {
   "display_name": "Python 3 (ipykernel)",
   "language": "python",
   "name": "python3"
  },
  "language_info": {
   "codemirror_mode": {
    "name": "ipython",
    "version": 3
   },
   "file_extension": ".py",
   "mimetype": "text/x-python",
   "name": "python",
   "nbconvert_exporter": "python",
   "pygments_lexer": "ipython3",
   "version": "3.12.4"
  }
 },
 "nbformat": 4,
 "nbformat_minor": 5
}
