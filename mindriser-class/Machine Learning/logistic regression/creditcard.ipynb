{
 "cells": [
  {
   "cell_type": "markdown",
   "id": "6c9e51f0-f0fc-4c95-bbb4-3ebc2f050196",
   "metadata": {},
   "source": [
    "### please download the Credit-card Fraud detection csv file from viber and proceed it to find whether a transation is fraud or legit using logistic regression, decision tree classifier and random forest classifier.mcompare the result and show which performed better in this classification task."
   ]
  },
  {
   "cell_type": "code",
   "execution_count": 8,
   "id": "2aff50de-3d54-4b77-936b-7d31be226d25",
   "metadata": {},
   "outputs": [],
   "source": [
    "import pandas as pd\n",
    "from sklearn.model_selection import train_test_split\n",
    "from sklearn.tree import DecisionTreeClassifier\n",
    "from sklearn.metrics import accuracy_score, classification_report, confusion_matrix\n",
    "from sklearn import tree\n",
    "import matplotlib.pyplot as plt\n"
   ]
  },
  {
   "cell_type": "code",
   "execution_count": 64,
   "id": "3e9d1746-13d3-4e85-bf87-4d1b78572f32",
   "metadata": {},
   "outputs": [],
   "source": [
    "data = pd.read_csv('credit_card_fraud.csv')"
   ]
  },
  {
   "cell_type": "code",
   "execution_count": 65,
   "id": "af7c8dae-ce2b-4a6c-a0bc-983ff8a2bdd5",
   "metadata": {},
   "outputs": [
    {
     "name": "stdout",
     "output_type": "stream",
     "text": [
      "<class 'pandas.core.frame.DataFrame'>\n",
      "RangeIndex: 1010000 entries, 0 to 1009999\n",
      "Data columns (total 14 columns):\n",
      " #   Column                   Non-Null Count    Dtype  \n",
      "---  ------                   --------------    -----  \n",
      " 0   Transaction_ID           1010000 non-null  int64  \n",
      " 1   Transaction_Amount       989809 non-null   float64\n",
      " 2   Transaction_Time         1010000 non-null  int64  \n",
      " 3   Transaction_Date         1010000 non-null  object \n",
      " 4   Merchant_Category        1010000 non-null  object \n",
      " 5   Merchant_Location        1010000 non-null  object \n",
      " 6   Payment_Type             1010000 non-null  object \n",
      " 7   Device_Type              1010000 non-null  object \n",
      " 8   Customer_Age             989823 non-null   float64\n",
      " 9   Customer_Gender          1010000 non-null  object \n",
      " 10  Customer_Account_Tenure  1010000 non-null  float64\n",
      " 11  Customer_Income_Bracket  989814 non-null   object \n",
      " 12  Customer_Country         1010000 non-null  object \n",
      " 13  Fraud_Flag               1010000 non-null  int64  \n",
      "dtypes: float64(3), int64(3), object(8)\n",
      "memory usage: 107.9+ MB\n"
     ]
    },
    {
     "data": {
      "text/plain": [
       "(   Transaction_ID  Transaction_Amount  Transaction_Time     Transaction_Date  \\\n",
       " 0          617962             2443.38                13  2024-03-05 03:21:00   \n",
       " 1          110796             4084.92                 6  2023-03-18 22:35:00   \n",
       " 2          988942             3108.85                10  2024-11-17 18:21:00   \n",
       " 3          152882             1579.51                 0  2023-04-17 04:01:00   \n",
       " 4          669258              556.63                21  2024-04-09 18:17:00   \n",
       " \n",
       "   Merchant_Category Merchant_Location Payment_Type Device_Type  Customer_Age  \\\n",
       " 0              Fuel          New York       Credit     Desktop          45.0   \n",
       " 1          Clothing     San Francisco      Prepaid      Mobile          69.0   \n",
       " 2              Fuel     San Francisco       Credit      Tablet          50.0   \n",
       " 3       Electronics       Los Angeles       Credit      Mobile          27.0   \n",
       " 4       Restaurants          New York       Credit      Mobile          75.0   \n",
       " \n",
       "   Customer_Gender  Customer_Account_Tenure Customer_Income_Bracket  \\\n",
       " 0            Male                    15.13                     Low   \n",
       " 1           Other                     2.69                     Low   \n",
       " 2            Male                     1.69                    High   \n",
       " 3           Other                     7.90                    High   \n",
       " 4          Female                    10.74                     NaN   \n",
       " \n",
       "   Customer_Country  Fraud_Flag  \n",
       " 0            India           0  \n",
       " 1          Germany           0  \n",
       " 2            India           0  \n",
       " 3               UK           0  \n",
       " 4            India           0  ,\n",
       " None)"
      ]
     },
     "execution_count": 65,
     "metadata": {},
     "output_type": "execute_result"
    }
   ],
   "source": [
    "data.head(), data.info()"
   ]
  },
  {
   "cell_type": "code",
   "execution_count": 66,
   "id": "51eaecb0-861e-4ca5-bddc-395b29d74b23",
   "metadata": {},
   "outputs": [
    {
     "data": {
      "text/plain": [
       "Transaction_ID                 0\n",
       "Transaction_Amount         20191\n",
       "Transaction_Time               0\n",
       "Transaction_Date               0\n",
       "Merchant_Category              0\n",
       "Merchant_Location              0\n",
       "Payment_Type                   0\n",
       "Device_Type                    0\n",
       "Customer_Age               20177\n",
       "Customer_Gender                0\n",
       "Customer_Account_Tenure        0\n",
       "Customer_Income_Bracket    20186\n",
       "Customer_Country               0\n",
       "Fraud_Flag                     0\n",
       "dtype: int64"
      ]
     },
     "execution_count": 66,
     "metadata": {},
     "output_type": "execute_result"
    }
   ],
   "source": [
    "data.isnull().sum()"
   ]
  },
  {
   "cell_type": "code",
   "execution_count": 67,
   "id": "c70e8aee-bafb-4f2d-9846-b8c8205c0725",
   "metadata": {},
   "outputs": [
    {
     "data": {
      "text/html": [
       "<div>\n",
       "<style scoped>\n",
       "    .dataframe tbody tr th:only-of-type {\n",
       "        vertical-align: middle;\n",
       "    }\n",
       "\n",
       "    .dataframe tbody tr th {\n",
       "        vertical-align: top;\n",
       "    }\n",
       "\n",
       "    .dataframe thead th {\n",
       "        text-align: right;\n",
       "    }\n",
       "</style>\n",
       "<table border=\"1\" class=\"dataframe\">\n",
       "  <thead>\n",
       "    <tr style=\"text-align: right;\">\n",
       "      <th></th>\n",
       "      <th>Transaction_ID</th>\n",
       "      <th>Transaction_Amount</th>\n",
       "      <th>Transaction_Time</th>\n",
       "      <th>Transaction_Date</th>\n",
       "      <th>Merchant_Category</th>\n",
       "      <th>Merchant_Location</th>\n",
       "      <th>Payment_Type</th>\n",
       "      <th>Device_Type</th>\n",
       "      <th>Customer_Age</th>\n",
       "      <th>Customer_Gender</th>\n",
       "      <th>Customer_Account_Tenure</th>\n",
       "      <th>Customer_Income_Bracket</th>\n",
       "      <th>Customer_Country</th>\n",
       "      <th>Fraud_Flag</th>\n",
       "    </tr>\n",
       "  </thead>\n",
       "  <tbody>\n",
       "    <tr>\n",
       "      <th>0</th>\n",
       "      <td>617962</td>\n",
       "      <td>2443.38</td>\n",
       "      <td>13</td>\n",
       "      <td>2024-03-05 03:21:00</td>\n",
       "      <td>Fuel</td>\n",
       "      <td>New York</td>\n",
       "      <td>Credit</td>\n",
       "      <td>Desktop</td>\n",
       "      <td>45.0</td>\n",
       "      <td>Male</td>\n",
       "      <td>15.13</td>\n",
       "      <td>Low</td>\n",
       "      <td>India</td>\n",
       "      <td>0</td>\n",
       "    </tr>\n",
       "    <tr>\n",
       "      <th>1</th>\n",
       "      <td>110796</td>\n",
       "      <td>4084.92</td>\n",
       "      <td>6</td>\n",
       "      <td>2023-03-18 22:35:00</td>\n",
       "      <td>Clothing</td>\n",
       "      <td>San Francisco</td>\n",
       "      <td>Prepaid</td>\n",
       "      <td>Mobile</td>\n",
       "      <td>69.0</td>\n",
       "      <td>Other</td>\n",
       "      <td>2.69</td>\n",
       "      <td>Low</td>\n",
       "      <td>Germany</td>\n",
       "      <td>0</td>\n",
       "    </tr>\n",
       "    <tr>\n",
       "      <th>2</th>\n",
       "      <td>988942</td>\n",
       "      <td>3108.85</td>\n",
       "      <td>10</td>\n",
       "      <td>2024-11-17 18:21:00</td>\n",
       "      <td>Fuel</td>\n",
       "      <td>San Francisco</td>\n",
       "      <td>Credit</td>\n",
       "      <td>Tablet</td>\n",
       "      <td>50.0</td>\n",
       "      <td>Male</td>\n",
       "      <td>1.69</td>\n",
       "      <td>High</td>\n",
       "      <td>India</td>\n",
       "      <td>0</td>\n",
       "    </tr>\n",
       "    <tr>\n",
       "      <th>3</th>\n",
       "      <td>152882</td>\n",
       "      <td>1579.51</td>\n",
       "      <td>0</td>\n",
       "      <td>2023-04-17 04:01:00</td>\n",
       "      <td>Electronics</td>\n",
       "      <td>Los Angeles</td>\n",
       "      <td>Credit</td>\n",
       "      <td>Mobile</td>\n",
       "      <td>27.0</td>\n",
       "      <td>Other</td>\n",
       "      <td>7.90</td>\n",
       "      <td>High</td>\n",
       "      <td>UK</td>\n",
       "      <td>0</td>\n",
       "    </tr>\n",
       "    <tr>\n",
       "      <th>4</th>\n",
       "      <td>669258</td>\n",
       "      <td>556.63</td>\n",
       "      <td>21</td>\n",
       "      <td>2024-04-09 18:17:00</td>\n",
       "      <td>Restaurants</td>\n",
       "      <td>New York</td>\n",
       "      <td>Credit</td>\n",
       "      <td>Mobile</td>\n",
       "      <td>75.0</td>\n",
       "      <td>Female</td>\n",
       "      <td>10.74</td>\n",
       "      <td>NaN</td>\n",
       "      <td>India</td>\n",
       "      <td>0</td>\n",
       "    </tr>\n",
       "  </tbody>\n",
       "</table>\n",
       "</div>"
      ],
      "text/plain": [
       "   Transaction_ID  Transaction_Amount  Transaction_Time     Transaction_Date  \\\n",
       "0          617962             2443.38                13  2024-03-05 03:21:00   \n",
       "1          110796             4084.92                 6  2023-03-18 22:35:00   \n",
       "2          988942             3108.85                10  2024-11-17 18:21:00   \n",
       "3          152882             1579.51                 0  2023-04-17 04:01:00   \n",
       "4          669258              556.63                21  2024-04-09 18:17:00   \n",
       "\n",
       "  Merchant_Category Merchant_Location Payment_Type Device_Type  Customer_Age  \\\n",
       "0              Fuel          New York       Credit     Desktop          45.0   \n",
       "1          Clothing     San Francisco      Prepaid      Mobile          69.0   \n",
       "2              Fuel     San Francisco       Credit      Tablet          50.0   \n",
       "3       Electronics       Los Angeles       Credit      Mobile          27.0   \n",
       "4       Restaurants          New York       Credit      Mobile          75.0   \n",
       "\n",
       "  Customer_Gender  Customer_Account_Tenure Customer_Income_Bracket  \\\n",
       "0            Male                    15.13                     Low   \n",
       "1           Other                     2.69                     Low   \n",
       "2            Male                     1.69                    High   \n",
       "3           Other                     7.90                    High   \n",
       "4          Female                    10.74                     NaN   \n",
       "\n",
       "  Customer_Country  Fraud_Flag  \n",
       "0            India           0  \n",
       "1          Germany           0  \n",
       "2            India           0  \n",
       "3               UK           0  \n",
       "4            India           0  "
      ]
     },
     "execution_count": 67,
     "metadata": {},
     "output_type": "execute_result"
    }
   ],
   "source": [
    "data.head()"
   ]
  },
  {
   "cell_type": "code",
   "execution_count": 68,
   "id": "59429923-0a52-4c3e-8ed4-f2cc6d231beb",
   "metadata": {},
   "outputs": [
    {
     "data": {
      "text/plain": [
       "Transaction_ID                 0\n",
       "Transaction_Amount         20191\n",
       "Transaction_Time               0\n",
       "Transaction_Date               0\n",
       "Merchant_Category              0\n",
       "Merchant_Location              0\n",
       "Payment_Type                   0\n",
       "Device_Type                    0\n",
       "Customer_Age               20177\n",
       "Customer_Gender                0\n",
       "Customer_Account_Tenure        0\n",
       "Customer_Income_Bracket    20186\n",
       "Customer_Country               0\n",
       "Fraud_Flag                     0\n",
       "dtype: int64"
      ]
     },
     "execution_count": 68,
     "metadata": {},
     "output_type": "execute_result"
    }
   ],
   "source": [
    "data.isnull().sum()"
   ]
  },
  {
   "cell_type": "code",
   "execution_count": 69,
   "id": "c4d77f95-c6fc-4813-8c15-3c07ae0721a9",
   "metadata": {},
   "outputs": [
    {
     "name": "stderr",
     "output_type": "stream",
     "text": [
      "C:\\Users\\nimad\\AppData\\Local\\Temp\\ipykernel_8004\\1295065790.py:1: FutureWarning: A value is trying to be set on a copy of a DataFrame or Series through chained assignment using an inplace method.\n",
      "The behavior will change in pandas 3.0. This inplace method will never work because the intermediate object on which we are setting values always behaves as a copy.\n",
      "\n",
      "For example, when doing 'df[col].method(value, inplace=True)', try using 'df.method({col: value}, inplace=True)' or df[col] = df[col].method(value) instead, to perform the operation inplace on the original object.\n",
      "\n",
      "\n",
      "  data['Customer_Income_Bracket'].fillna(data['Customer_Income_Bracket'].mode()[0], inplace = True)\n",
      "C:\\Users\\nimad\\AppData\\Local\\Temp\\ipykernel_8004\\1295065790.py:2: FutureWarning: A value is trying to be set on a copy of a DataFrame or Series through chained assignment using an inplace method.\n",
      "The behavior will change in pandas 3.0. This inplace method will never work because the intermediate object on which we are setting values always behaves as a copy.\n",
      "\n",
      "For example, when doing 'df[col].method(value, inplace=True)', try using 'df.method({col: value}, inplace=True)' or df[col] = df[col].method(value) instead, to perform the operation inplace on the original object.\n",
      "\n",
      "\n",
      "  data['Customer_Age'].fillna(data['Customer_Age'].median(), inplace = True)\n",
      "C:\\Users\\nimad\\AppData\\Local\\Temp\\ipykernel_8004\\1295065790.py:3: FutureWarning: A value is trying to be set on a copy of a DataFrame or Series through chained assignment using an inplace method.\n",
      "The behavior will change in pandas 3.0. This inplace method will never work because the intermediate object on which we are setting values always behaves as a copy.\n",
      "\n",
      "For example, when doing 'df[col].method(value, inplace=True)', try using 'df.method({col: value}, inplace=True)' or df[col] = df[col].method(value) instead, to perform the operation inplace on the original object.\n",
      "\n",
      "\n",
      "  data['Transaction_Amount'].fillna(data['Transaction_Amount'].median(), inplace= True)\n"
     ]
    }
   ],
   "source": [
    "data['Customer_Income_Bracket'].fillna(data['Customer_Income_Bracket'].mode()[0], inplace = True)\n",
    "data['Customer_Age'].fillna(data['Customer_Age'].median(), inplace = True)\n",
    "data['Transaction_Amount'].fillna(data['Transaction_Amount'].median(), inplace= True)"
   ]
  },
  {
   "cell_type": "code",
   "execution_count": 70,
   "id": "64092c84-25f4-4033-a10a-922fc3c45407",
   "metadata": {},
   "outputs": [
    {
     "data": {
      "text/plain": [
       "Transaction_ID             0\n",
       "Transaction_Amount         0\n",
       "Transaction_Time           0\n",
       "Transaction_Date           0\n",
       "Merchant_Category          0\n",
       "Merchant_Location          0\n",
       "Payment_Type               0\n",
       "Device_Type                0\n",
       "Customer_Age               0\n",
       "Customer_Gender            0\n",
       "Customer_Account_Tenure    0\n",
       "Customer_Income_Bracket    0\n",
       "Customer_Country           0\n",
       "Fraud_Flag                 0\n",
       "dtype: int64"
      ]
     },
     "execution_count": 70,
     "metadata": {},
     "output_type": "execute_result"
    }
   ],
   "source": [
    "data.isnull().sum()"
   ]
  },
  {
   "cell_type": "code",
   "execution_count": 77,
   "id": "a3ffbd90-6aa0-439a-b26e-a004a5ca27a5",
   "metadata": {},
   "outputs": [],
   "source": [
    "data['date']= data['Transaction_Date'].str[:10]\n",
    "data['time']= data['Transaction_Date'].str[11:]"
   ]
  },
  {
   "cell_type": "code",
   "execution_count": 78,
   "id": "db75dff5-9e94-45d6-a777-99ad9ab765e7",
   "metadata": {},
   "outputs": [],
   "source": [
    "data['date'] =pd.to_datetime(data['date'],format='%Y-%m-%d').dt.date\n",
    "data['time'] = pd.to_datetime(data['time'], format='%H:%M:%S').dt.time"
   ]
  },
  {
   "cell_type": "code",
   "execution_count": 79,
   "id": "85e51d31-edce-4872-9284-437dc750afcc",
   "metadata": {},
   "outputs": [
    {
     "name": "stdout",
     "output_type": "stream",
     "text": [
      "<class 'pandas.core.frame.DataFrame'>\n",
      "RangeIndex: 1010000 entries, 0 to 1009999\n",
      "Data columns (total 16 columns):\n",
      " #   Column                   Non-Null Count    Dtype  \n",
      "---  ------                   --------------    -----  \n",
      " 0   Transaction_ID           1010000 non-null  int64  \n",
      " 1   Transaction_Amount       1010000 non-null  float64\n",
      " 2   Transaction_Time         1010000 non-null  int64  \n",
      " 3   Transaction_Date         1010000 non-null  object \n",
      " 4   Merchant_Category        1010000 non-null  object \n",
      " 5   Merchant_Location        1010000 non-null  object \n",
      " 6   Payment_Type             1010000 non-null  object \n",
      " 7   Device_Type              1010000 non-null  object \n",
      " 8   Customer_Age             1010000 non-null  float64\n",
      " 9   Customer_Gender          1010000 non-null  object \n",
      " 10  Customer_Account_Tenure  1010000 non-null  float64\n",
      " 11  Customer_Income_Bracket  1010000 non-null  object \n",
      " 12  Customer_Country         1010000 non-null  object \n",
      " 13  Fraud_Flag               1010000 non-null  int64  \n",
      " 14  date                     1010000 non-null  object \n",
      " 15  time                     1010000 non-null  object \n",
      "dtypes: float64(3), int64(3), object(10)\n",
      "memory usage: 123.3+ MB\n"
     ]
    }
   ],
   "source": [
    "data.info()"
   ]
  },
  {
   "cell_type": "code",
   "execution_count": 81,
   "id": "08119114-0a3e-4189-9250-329d619b59ce",
   "metadata": {},
   "outputs": [
    {
     "data": {
      "text/plain": [
       "['Transaction_Date',\n",
       " 'Merchant_Category',\n",
       " 'Merchant_Location',\n",
       " 'Payment_Type',\n",
       " 'Device_Type',\n",
       " 'Customer_Gender',\n",
       " 'Customer_Income_Bracket',\n",
       " 'Customer_Country',\n",
       " 'date',\n",
       " 'time']"
      ]
     },
     "execution_count": 81,
     "metadata": {},
     "output_type": "execute_result"
    }
   ],
   "source": [
    "cat_columns = data.select_dtypes(include=['object', 'category']).columns.tolist()\n",
    "num_columns = data.select_dtypes(include=['int64', 'float64']).columns.tolist()\n",
    "cat_columns"
   ]
  },
  {
   "cell_type": "code",
   "execution_count": 74,
   "id": "fc81c7a1-0805-4c09-9b45-b54ba56c15ca",
   "metadata": {},
   "outputs": [
    {
     "data": {
      "text/plain": [
       "['Transaction_ID',\n",
       " 'Transaction_Amount',\n",
       " 'Transaction_Time',\n",
       " 'Customer_Age',\n",
       " 'Customer_Account_Tenure',\n",
       " 'Fraud_Flag']"
      ]
     },
     "execution_count": 74,
     "metadata": {},
     "output_type": "execute_result"
    }
   ],
   "source": [
    "num_columns"
   ]
  },
  {
   "cell_type": "code",
   "execution_count": 60,
   "id": "f7fee8b2-ad15-4d64-bd93-228a274ab30d",
   "metadata": {},
   "outputs": [
    {
     "name": "stdout",
     "output_type": "stream",
     "text": [
      "<class 'pandas.core.frame.DataFrame'>\n",
      "RangeIndex: 1010000 entries, 0 to 1009999\n",
      "Data columns (total 16 columns):\n",
      " #   Column                   Non-Null Count    Dtype  \n",
      "---  ------                   --------------    -----  \n",
      " 0   Transaction_ID           1010000 non-null  int64  \n",
      " 1   Transaction_Amount       989809 non-null   float64\n",
      " 2   Transaction_Time         1010000 non-null  int64  \n",
      " 3   Transaction_Date         1010000 non-null  int32  \n",
      " 4   Merchant_Category        1010000 non-null  int32  \n",
      " 5   Merchant_Location        1010000 non-null  int32  \n",
      " 6   Payment_Type             1010000 non-null  int32  \n",
      " 7   Device_Type              1010000 non-null  int32  \n",
      " 8   Customer_Age             989823 non-null   float64\n",
      " 9   Customer_Gender          1010000 non-null  int32  \n",
      " 10  Customer_Account_Tenure  1010000 non-null  float64\n",
      " 11  Customer_Income_Bracket  1010000 non-null  int32  \n",
      " 12  Customer_Country         1010000 non-null  int32  \n",
      " 13  Fraud_Flag               1010000 non-null  int64  \n",
      " 14  date                     1010000 non-null  int32  \n",
      " 15  time                     1010000 non-null  int32  \n",
      "dtypes: float64(3), int32(10), int64(3)\n",
      "memory usage: 84.8 MB\n"
     ]
    },
    {
     "data": {
      "text/plain": [
       "(None,\n",
       "    Transaction_ID  Transaction_Amount  Transaction_Time  Transaction_Date  \\\n",
       " 0          617962             2443.38                13            617961   \n",
       " 1          110796             4084.92                 6            110795   \n",
       " 2          988942             3108.85                10            988941   \n",
       " 3          152882             1579.51                 0            152881   \n",
       " 4          669258              556.63                21            669257   \n",
       " \n",
       "    Merchant_Category  Merchant_Location  Payment_Type  Device_Type  \\\n",
       " 0                  2                  4             0            0   \n",
       " 1                  0                  5             2            1   \n",
       " 2                  2                  5             0            2   \n",
       " 3                  1                  2             0            1   \n",
       " 4                  4                  4             0            1   \n",
       " \n",
       "    Customer_Age  Customer_Gender  Customer_Account_Tenure  \\\n",
       " 0          45.0                1                    15.13   \n",
       " 1          69.0                2                     2.69   \n",
       " 2          50.0                1                     1.69   \n",
       " 3          27.0                2                     7.90   \n",
       " 4          75.0                0                    10.74   \n",
       " \n",
       "    Customer_Income_Bracket  Customer_Country  Fraud_Flag  date  time  \n",
       " 0                        1                 3           0   429   201  \n",
       " 1                        1                 2           0    76  1355  \n",
       " 2                        0                 3           0   686  1101  \n",
       " 3                        0                 4           0   106   241  \n",
       " 4                        3                 3           0   464  1097  )"
      ]
     },
     "execution_count": 60,
     "metadata": {},
     "output_type": "execute_result"
    }
   ],
   "source": [
    "from sklearn.preprocessing import LabelEncoder\n",
    "\n",
    "le = LabelEncoder()\n",
    "for col in cat_columns:\n",
    "    data[col]= le.fit_transform(data[col])\n",
    "\n",
    "data.info(), data.head()"
   ]
  },
  {
   "cell_type": "code",
   "execution_count": 80,
   "id": "d8699511-27b1-4b64-b084-7dc22af9da51",
   "metadata": {},
   "outputs": [
    {
     "data": {
      "text/html": [
       "<div>\n",
       "<style scoped>\n",
       "    .dataframe tbody tr th:only-of-type {\n",
       "        vertical-align: middle;\n",
       "    }\n",
       "\n",
       "    .dataframe tbody tr th {\n",
       "        vertical-align: top;\n",
       "    }\n",
       "\n",
       "    .dataframe thead th {\n",
       "        text-align: right;\n",
       "    }\n",
       "</style>\n",
       "<table border=\"1\" class=\"dataframe\">\n",
       "  <thead>\n",
       "    <tr style=\"text-align: right;\">\n",
       "      <th></th>\n",
       "      <th>Transaction_ID</th>\n",
       "      <th>Transaction_Amount</th>\n",
       "      <th>Transaction_Time</th>\n",
       "      <th>Transaction_Date</th>\n",
       "      <th>Merchant_Category</th>\n",
       "      <th>Merchant_Location</th>\n",
       "      <th>Payment_Type</th>\n",
       "      <th>Device_Type</th>\n",
       "      <th>Customer_Age</th>\n",
       "      <th>Customer_Gender</th>\n",
       "      <th>Customer_Account_Tenure</th>\n",
       "      <th>Customer_Income_Bracket</th>\n",
       "      <th>Customer_Country</th>\n",
       "      <th>Fraud_Flag</th>\n",
       "      <th>date</th>\n",
       "      <th>time</th>\n",
       "    </tr>\n",
       "  </thead>\n",
       "  <tbody>\n",
       "    <tr>\n",
       "      <th>0</th>\n",
       "      <td>617962</td>\n",
       "      <td>2443.38</td>\n",
       "      <td>13</td>\n",
       "      <td>2024-03-05 03:21:00</td>\n",
       "      <td>Fuel</td>\n",
       "      <td>New York</td>\n",
       "      <td>Credit</td>\n",
       "      <td>Desktop</td>\n",
       "      <td>45.0</td>\n",
       "      <td>Male</td>\n",
       "      <td>15.13</td>\n",
       "      <td>Low</td>\n",
       "      <td>India</td>\n",
       "      <td>0</td>\n",
       "      <td>2024-03-05</td>\n",
       "      <td>03:21:00</td>\n",
       "    </tr>\n",
       "    <tr>\n",
       "      <th>1</th>\n",
       "      <td>110796</td>\n",
       "      <td>4084.92</td>\n",
       "      <td>6</td>\n",
       "      <td>2023-03-18 22:35:00</td>\n",
       "      <td>Clothing</td>\n",
       "      <td>San Francisco</td>\n",
       "      <td>Prepaid</td>\n",
       "      <td>Mobile</td>\n",
       "      <td>69.0</td>\n",
       "      <td>Other</td>\n",
       "      <td>2.69</td>\n",
       "      <td>Low</td>\n",
       "      <td>Germany</td>\n",
       "      <td>0</td>\n",
       "      <td>2023-03-18</td>\n",
       "      <td>22:35:00</td>\n",
       "    </tr>\n",
       "    <tr>\n",
       "      <th>2</th>\n",
       "      <td>988942</td>\n",
       "      <td>3108.85</td>\n",
       "      <td>10</td>\n",
       "      <td>2024-11-17 18:21:00</td>\n",
       "      <td>Fuel</td>\n",
       "      <td>San Francisco</td>\n",
       "      <td>Credit</td>\n",
       "      <td>Tablet</td>\n",
       "      <td>50.0</td>\n",
       "      <td>Male</td>\n",
       "      <td>1.69</td>\n",
       "      <td>High</td>\n",
       "      <td>India</td>\n",
       "      <td>0</td>\n",
       "      <td>2024-11-17</td>\n",
       "      <td>18:21:00</td>\n",
       "    </tr>\n",
       "    <tr>\n",
       "      <th>3</th>\n",
       "      <td>152882</td>\n",
       "      <td>1579.51</td>\n",
       "      <td>0</td>\n",
       "      <td>2023-04-17 04:01:00</td>\n",
       "      <td>Electronics</td>\n",
       "      <td>Los Angeles</td>\n",
       "      <td>Credit</td>\n",
       "      <td>Mobile</td>\n",
       "      <td>27.0</td>\n",
       "      <td>Other</td>\n",
       "      <td>7.90</td>\n",
       "      <td>High</td>\n",
       "      <td>UK</td>\n",
       "      <td>0</td>\n",
       "      <td>2023-04-17</td>\n",
       "      <td>04:01:00</td>\n",
       "    </tr>\n",
       "    <tr>\n",
       "      <th>4</th>\n",
       "      <td>669258</td>\n",
       "      <td>556.63</td>\n",
       "      <td>21</td>\n",
       "      <td>2024-04-09 18:17:00</td>\n",
       "      <td>Restaurants</td>\n",
       "      <td>New York</td>\n",
       "      <td>Credit</td>\n",
       "      <td>Mobile</td>\n",
       "      <td>75.0</td>\n",
       "      <td>Female</td>\n",
       "      <td>10.74</td>\n",
       "      <td>Medium</td>\n",
       "      <td>India</td>\n",
       "      <td>0</td>\n",
       "      <td>2024-04-09</td>\n",
       "      <td>18:17:00</td>\n",
       "    </tr>\n",
       "  </tbody>\n",
       "</table>\n",
       "</div>"
      ],
      "text/plain": [
       "   Transaction_ID  Transaction_Amount  Transaction_Time     Transaction_Date  \\\n",
       "0          617962             2443.38                13  2024-03-05 03:21:00   \n",
       "1          110796             4084.92                 6  2023-03-18 22:35:00   \n",
       "2          988942             3108.85                10  2024-11-17 18:21:00   \n",
       "3          152882             1579.51                 0  2023-04-17 04:01:00   \n",
       "4          669258              556.63                21  2024-04-09 18:17:00   \n",
       "\n",
       "  Merchant_Category Merchant_Location Payment_Type Device_Type  Customer_Age  \\\n",
       "0              Fuel          New York       Credit     Desktop          45.0   \n",
       "1          Clothing     San Francisco      Prepaid      Mobile          69.0   \n",
       "2              Fuel     San Francisco       Credit      Tablet          50.0   \n",
       "3       Electronics       Los Angeles       Credit      Mobile          27.0   \n",
       "4       Restaurants          New York       Credit      Mobile          75.0   \n",
       "\n",
       "  Customer_Gender  Customer_Account_Tenure Customer_Income_Bracket  \\\n",
       "0            Male                    15.13                     Low   \n",
       "1           Other                     2.69                     Low   \n",
       "2            Male                     1.69                    High   \n",
       "3           Other                     7.90                    High   \n",
       "4          Female                    10.74                  Medium   \n",
       "\n",
       "  Customer_Country  Fraud_Flag        date      time  \n",
       "0            India           0  2024-03-05  03:21:00  \n",
       "1          Germany           0  2023-03-18  22:35:00  \n",
       "2            India           0  2024-11-17  18:21:00  \n",
       "3               UK           0  2023-04-17  04:01:00  \n",
       "4            India           0  2024-04-09  18:17:00  "
      ]
     },
     "execution_count": 80,
     "metadata": {},
     "output_type": "execute_result"
    }
   ],
   "source": [
    "data.head()"
   ]
  },
  {
   "cell_type": "code",
   "execution_count": 39,
   "id": "0eddc7f8-96de-40b1-8235-e3cc6025cb7f",
   "metadata": {},
   "outputs": [
    {
     "name": "stdout",
     "output_type": "stream",
     "text": [
      "Number of duplicate rows: 9778\n"
     ]
    }
   ],
   "source": [
    "duplicates = data.duplicated()\n",
    "print(f\"Number of duplicate rows: {duplicates.sum()}\")"
   ]
  },
  {
   "cell_type": "code",
   "execution_count": null,
   "id": "e092ee29-811c-45e7-97cc-51214cf246fc",
   "metadata": {},
   "outputs": [],
   "source": []
  }
 ],
 "metadata": {
  "kernelspec": {
   "display_name": "Python 3 (ipykernel)",
   "language": "python",
   "name": "python3"
  },
  "language_info": {
   "codemirror_mode": {
    "name": "ipython",
    "version": 3
   },
   "file_extension": ".py",
   "mimetype": "text/x-python",
   "name": "python",
   "nbconvert_exporter": "python",
   "pygments_lexer": "ipython3",
   "version": "3.12.4"
  }
 },
 "nbformat": 4,
 "nbformat_minor": 5
}
