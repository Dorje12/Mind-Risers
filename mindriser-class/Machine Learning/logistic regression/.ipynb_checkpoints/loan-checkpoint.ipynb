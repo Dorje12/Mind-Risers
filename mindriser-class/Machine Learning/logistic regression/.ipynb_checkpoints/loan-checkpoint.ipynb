{
 "cells": [
  {
   "cell_type": "code",
   "execution_count": 1,
   "id": "e48c7527",
   "metadata": {},
   "outputs": [
    {
     "name": "stdout",
     "output_type": "stream",
     "text": [
      "<class 'pandas.core.frame.DataFrame'>\n",
      "RangeIndex: 396030 entries, 0 to 396029\n",
      "Data columns (total 27 columns):\n",
      " #   Column                Non-Null Count   Dtype  \n",
      "---  ------                --------------   -----  \n",
      " 0   loan_amnt             396030 non-null  float64\n",
      " 1   term                  396030 non-null  object \n",
      " 2   int_rate              396030 non-null  float64\n",
      " 3   installment           396030 non-null  float64\n",
      " 4   grade                 396030 non-null  object \n",
      " 5   sub_grade             396030 non-null  object \n",
      " 6   emp_title             373103 non-null  object \n",
      " 7   emp_length            377729 non-null  object \n",
      " 8   home_ownership        396030 non-null  object \n",
      " 9   annual_inc            396030 non-null  float64\n",
      " 10  verification_status   396030 non-null  object \n",
      " 11  issue_d               396030 non-null  object \n",
      " 12  loan_status           396030 non-null  object \n",
      " 13  purpose               396030 non-null  object \n",
      " 14  title                 394275 non-null  object \n",
      " 15  dti                   396030 non-null  float64\n",
      " 16  earliest_cr_line      396030 non-null  object \n",
      " 17  open_acc              396030 non-null  float64\n",
      " 18  pub_rec               396030 non-null  float64\n",
      " 19  revol_bal             396030 non-null  float64\n",
      " 20  revol_util            395754 non-null  float64\n",
      " 21  total_acc             396030 non-null  float64\n",
      " 22  initial_list_status   396030 non-null  object \n",
      " 23  application_type      396030 non-null  object \n",
      " 24  mort_acc              358235 non-null  float64\n",
      " 25  pub_rec_bankruptcies  395495 non-null  float64\n",
      " 26  address               396030 non-null  object \n",
      "dtypes: float64(12), object(15)\n",
      "memory usage: 81.6+ MB\n"
     ]
    },
    {
     "data": {
      "text/plain": [
       "(None,\n",
       "    loan_amnt        term  int_rate  installment grade sub_grade  \\\n",
       " 0    10000.0   36 months     11.44       329.48     B        B4   \n",
       " 1     8000.0   36 months     11.99       265.68     B        B5   \n",
       " 2    15600.0   36 months     10.49       506.97     B        B3   \n",
       " 3     7200.0   36 months      6.49       220.65     A        A2   \n",
       " 4    24375.0   60 months     17.27       609.33     C        C5   \n",
       " \n",
       "                  emp_title emp_length home_ownership  annual_inc  ...  \\\n",
       " 0                Marketing  10+ years           RENT    117000.0  ...   \n",
       " 1          Credit analyst     4 years       MORTGAGE     65000.0  ...   \n",
       " 2             Statistician   < 1 year           RENT     43057.0  ...   \n",
       " 3          Client Advocate    6 years           RENT     54000.0  ...   \n",
       " 4  Destiny Management Inc.    9 years       MORTGAGE     55000.0  ...   \n",
       " \n",
       "   open_acc pub_rec revol_bal revol_util total_acc  initial_list_status  \\\n",
       " 0     16.0     0.0   36369.0       41.8      25.0                    w   \n",
       " 1     17.0     0.0   20131.0       53.3      27.0                    f   \n",
       " 2     13.0     0.0   11987.0       92.2      26.0                    f   \n",
       " 3      6.0     0.0    5472.0       21.5      13.0                    f   \n",
       " 4     13.0     0.0   24584.0       69.8      43.0                    f   \n",
       " \n",
       "   application_type  mort_acc  pub_rec_bankruptcies  \\\n",
       " 0       INDIVIDUAL       0.0                   0.0   \n",
       " 1       INDIVIDUAL       3.0                   0.0   \n",
       " 2       INDIVIDUAL       0.0                   0.0   \n",
       " 3       INDIVIDUAL       0.0                   0.0   \n",
       " 4       INDIVIDUAL       1.0                   0.0   \n",
       " \n",
       "                                            address  \n",
       " 0     0174 Michelle Gateway\\nMendozaberg, OK 22690  \n",
       " 1  1076 Carney Fort Apt. 347\\nLoganmouth, SD 05113  \n",
       " 2  87025 Mark Dale Apt. 269\\nNew Sabrina, WV 05113  \n",
       " 3            823 Reid Ford\\nDelacruzside, MA 00813  \n",
       " 4             679 Luna Roads\\nGreggshire, VA 11650  \n",
       " \n",
       " [5 rows x 27 columns])"
      ]
     },
     "execution_count": 1,
     "metadata": {},
     "output_type": "execute_result"
    }
   ],
   "source": [
    "# Importing necessary libraries\n",
    "import pandas as pd\n",
    "\n",
    "# Load the dataset from the provided path\n",
    "file_path = 'loan_data.csv'\n",
    "\n",
    "# Reading the dataset into a pandas dataframe\n",
    "loan_data = pd.read_csv(file_path)\n",
    "\n",
    "# Displaying basic information and first few rows of the dataset to understand its structure\n",
    "loan_data.info(), loan_data.head()\n"
   ]
  },
  {
   "cell_type": "markdown",
   "id": "d69f2571",
   "metadata": {},
   "source": [
    "The dataset contains 396,030 entries and 27 columns, including both numerical and categorical features. The dependent variable for classification will be the loan_status column."
   ]
  },
  {
   "cell_type": "markdown",
   "id": "bcc44ec1",
   "metadata": {},
   "source": [
    "### Handling missing values - filling missing numerical columns with the median and categorical columns with mode"
   ]
  },
  {
   "cell_type": "code",
   "execution_count": 2,
   "id": "3b47cb38",
   "metadata": {},
   "outputs": [],
   "source": [
    "\n",
    "loan_data['emp_title'].fillna(loan_data['emp_title'].mode()[0], inplace=True)\n",
    "loan_data['emp_length'].fillna(loan_data['emp_length'].mode()[0], inplace=True)\n",
    "loan_data['title'].fillna(loan_data['title'].mode()[0], inplace=True)\n",
    "loan_data['revol_util'].fillna(loan_data['revol_util'].median(), inplace=True)\n",
    "loan_data['mort_acc'].fillna(loan_data['mort_acc'].median(), inplace=True)\n",
    "loan_data['pub_rec_bankruptcies'].fillna(loan_data['pub_rec_bankruptcies'].median(), inplace=True)\n",
    "\n"
   ]
  },
  {
   "cell_type": "markdown",
   "id": "78260102",
   "metadata": {},
   "source": [
    "### Encoding categorical columns using Label Encoding for simplicity (Loan_status and other categories)\n"
   ]
  },
  {
   "cell_type": "code",
   "execution_count": 3,
   "id": "3476eb6a",
   "metadata": {},
   "outputs": [],
   "source": [
    "\n",
    "\n",
    "# List of columns to encode\n",
    "#cat_columns = ['term', 'grade', 'sub_grade', 'emp_length', 'home_ownership', \n",
    "               #'verification_status', 'loan_status', 'purpose', 'title', 'initial_list_status', \n",
    "               #'application_type']\n",
    "\n",
    "\n"
   ]
  },
  {
   "cell_type": "markdown",
   "id": "06050123",
   "metadata": {},
   "source": [
    "### Separate categorical and numerical columns based on dtype\n"
   ]
  },
  {
   "cell_type": "code",
   "execution_count": 4,
   "id": "9d9929a1",
   "metadata": {},
   "outputs": [
    {
     "data": {
      "text/plain": [
       "['term',\n",
       " 'grade',\n",
       " 'sub_grade',\n",
       " 'emp_title',\n",
       " 'emp_length',\n",
       " 'home_ownership',\n",
       " 'verification_status',\n",
       " 'issue_d',\n",
       " 'loan_status',\n",
       " 'purpose',\n",
       " 'title',\n",
       " 'earliest_cr_line',\n",
       " 'initial_list_status',\n",
       " 'application_type',\n",
       " 'address']"
      ]
     },
     "execution_count": 4,
     "metadata": {},
     "output_type": "execute_result"
    }
   ],
   "source": [
    "cat_columns = loan_data.select_dtypes(include=['object', 'category']).columns.tolist()\n",
    "num_columns = loan_data.select_dtypes(include=['int64', 'float64']).columns.tolist()\n",
    "cat_columns # displaying columns with categorical values"
   ]
  },
  {
   "cell_type": "code",
   "execution_count": 5,
   "id": "5fcf12d8",
   "metadata": {},
   "outputs": [
    {
     "data": {
      "text/plain": [
       "['loan_amnt',\n",
       " 'int_rate',\n",
       " 'installment',\n",
       " 'annual_inc',\n",
       " 'dti',\n",
       " 'open_acc',\n",
       " 'pub_rec',\n",
       " 'revol_bal',\n",
       " 'revol_util',\n",
       " 'total_acc',\n",
       " 'mort_acc',\n",
       " 'pub_rec_bankruptcies']"
      ]
     },
     "execution_count": 5,
     "metadata": {},
     "output_type": "execute_result"
    }
   ],
   "source": [
    "num_columns # displaying columns with numerical values"
   ]
  },
  {
   "cell_type": "markdown",
   "id": "83459bc2",
   "metadata": {},
   "source": [
    "### Initialize the label encoder\n"
   ]
  },
  {
   "cell_type": "code",
   "execution_count": 6,
   "id": "87fe94cb",
   "metadata": {},
   "outputs": [
    {
     "name": "stdout",
     "output_type": "stream",
     "text": [
      "<class 'pandas.core.frame.DataFrame'>\n",
      "RangeIndex: 396030 entries, 0 to 396029\n",
      "Data columns (total 27 columns):\n",
      " #   Column                Non-Null Count   Dtype  \n",
      "---  ------                --------------   -----  \n",
      " 0   loan_amnt             396030 non-null  float64\n",
      " 1   term                  396030 non-null  int64  \n",
      " 2   int_rate              396030 non-null  float64\n",
      " 3   installment           396030 non-null  float64\n",
      " 4   grade                 396030 non-null  int64  \n",
      " 5   sub_grade             396030 non-null  int64  \n",
      " 6   emp_title             396030 non-null  int64  \n",
      " 7   emp_length            396030 non-null  int64  \n",
      " 8   home_ownership        396030 non-null  int64  \n",
      " 9   annual_inc            396030 non-null  float64\n",
      " 10  verification_status   396030 non-null  int64  \n",
      " 11  issue_d               396030 non-null  int64  \n",
      " 12  loan_status           396030 non-null  int64  \n",
      " 13  purpose               396030 non-null  int64  \n",
      " 14  title                 396030 non-null  int64  \n",
      " 15  dti                   396030 non-null  float64\n",
      " 16  earliest_cr_line      396030 non-null  int64  \n",
      " 17  open_acc              396030 non-null  float64\n",
      " 18  pub_rec               396030 non-null  float64\n",
      " 19  revol_bal             396030 non-null  float64\n",
      " 20  revol_util            396030 non-null  float64\n",
      " 21  total_acc             396030 non-null  float64\n",
      " 22  initial_list_status   396030 non-null  int64  \n",
      " 23  application_type      396030 non-null  int64  \n",
      " 24  mort_acc              396030 non-null  float64\n",
      " 25  pub_rec_bankruptcies  396030 non-null  float64\n",
      " 26  address               396030 non-null  int64  \n",
      "dtypes: float64(12), int64(15)\n",
      "memory usage: 81.6 MB\n"
     ]
    },
    {
     "data": {
      "text/plain": [
       "(None,\n",
       "    loan_amnt  term  int_rate  installment  grade  sub_grade  emp_title  \\\n",
       " 0    10000.0     0     11.44       329.48      1          8      80956   \n",
       " 1     8000.0     0     11.99       265.68      1          9      33317   \n",
       " 2    15600.0     0     10.49       506.97      1          7     127182   \n",
       " 3     7200.0     0      6.49       220.65      0          1      27760   \n",
       " 4    24375.0     1     17.27       609.33      2         14      38300   \n",
       " \n",
       "    emp_length  home_ownership  annual_inc  ...  open_acc  pub_rec  revol_bal  \\\n",
       " 0           1               5    117000.0  ...      16.0      0.0    36369.0   \n",
       " 1           4               1     65000.0  ...      17.0      0.0    20131.0   \n",
       " 2          10               5     43057.0  ...      13.0      0.0    11987.0   \n",
       " 3           6               5     54000.0  ...       6.0      0.0     5472.0   \n",
       " 4           9               1     55000.0  ...      13.0      0.0    24584.0   \n",
       " \n",
       "    revol_util  total_acc  initial_list_status  application_type  mort_acc  \\\n",
       " 0        41.8       25.0                    1                 1       0.0   \n",
       " 1        53.3       27.0                    0                 1       3.0   \n",
       " 2        92.2       26.0                    0                 1       0.0   \n",
       " 3        21.5       13.0                    0                 1       0.0   \n",
       " 4        69.8       43.0                    0                 1       1.0   \n",
       " \n",
       "    pub_rec_bankruptcies  address  \n",
       " 0                   0.0     6206  \n",
       " 1                   0.0    38135  \n",
       " 2                   0.0   307942  \n",
       " 3                   0.0   291181  \n",
       " 4                   0.0   240127  \n",
       " \n",
       " [5 rows x 27 columns])"
      ]
     },
     "execution_count": 6,
     "metadata": {},
     "output_type": "execute_result"
    }
   ],
   "source": [
    "from sklearn.preprocessing import LabelEncoder\n",
    "\n",
    "le = LabelEncoder()\n",
    "\n",
    "# Applying label encoding to each of the categorical columns\n",
    "for col in cat_columns:\n",
    "    loan_data[col] = le.fit_transform(loan_data[col])\n",
    "\n",
    "# Now, the dataset should be preprocessed and ready for feature selection and modeling\n",
    "loan_data.info(), loan_data.head()\n"
   ]
  },
  {
   "cell_type": "markdown",
   "id": "ab7b0597",
   "metadata": {},
   "source": [
    "The preprocessing step is complete, and the dataset is now ready for feature selection and modeling. Here's what we have done:\n",
    "\n",
    "    Missing values were filled with either the mode (for categorical columns) or the median (for numerical columns).\n",
    "    Categorical columns were label-encoded to numerical values for compatibility with machine learning algorithms."
   ]
  },
  {
   "cell_type": "markdown",
   "id": "0cc34304",
   "metadata": {},
   "source": [
    "### Importing necessary libraries for model building and evaluation\n"
   ]
  },
  {
   "cell_type": "code",
   "execution_count": 7,
   "id": "72808561",
   "metadata": {},
   "outputs": [],
   "source": [
    "from sklearn.model_selection import train_test_split\n",
    "from sklearn.tree import DecisionTreeClassifier\n",
    "from sklearn.metrics import accuracy_score, confusion_matrix\n"
   ]
  },
  {
   "cell_type": "markdown",
   "id": "9e185c4c",
   "metadata": {},
   "source": [
    "### Defining independent variables (X) and dependent variable (y)\n",
    "\n"
   ]
  },
  {
   "cell_type": "code",
   "execution_count": 8,
   "id": "c74beaf5",
   "metadata": {},
   "outputs": [],
   "source": [
    "X = loan_data.drop(columns=['loan_status', 'emp_title', 'issue_d', 'earliest_cr_line', 'address'])  # Dropping non-relevant columns\n",
    "y = loan_data['loan_status']"
   ]
  },
  {
   "cell_type": "markdown",
   "id": "78424587",
   "metadata": {},
   "source": [
    "We'll build a Decision Tree Classifier using the loan_status as the target variable and the remaining columns as predictors."
   ]
  },
  {
   "cell_type": "markdown",
   "id": "2156011a",
   "metadata": {},
   "source": [
    "### Splitting the data into training (80%) and testing (20%) sets"
   ]
  },
  {
   "cell_type": "code",
   "execution_count": 9,
   "id": "24e7cfe7",
   "metadata": {},
   "outputs": [],
   "source": [
    "X_train, X_test, y_train, y_test = train_test_split(X, y, test_size=0.2, random_state=42)"
   ]
  },
  {
   "cell_type": "markdown",
   "id": "a931c353",
   "metadata": {},
   "source": [
    "###  Initializing and training the Decision Tree Classifier"
   ]
  },
  {
   "cell_type": "code",
   "execution_count": 10,
   "id": "56a4cf67",
   "metadata": {},
   "outputs": [
    {
     "data": {
      "text/html": [
       "<style>#sk-container-id-1 {color: black;background-color: white;}#sk-container-id-1 pre{padding: 0;}#sk-container-id-1 div.sk-toggleable {background-color: white;}#sk-container-id-1 label.sk-toggleable__label {cursor: pointer;display: block;width: 100%;margin-bottom: 0;padding: 0.3em;box-sizing: border-box;text-align: center;}#sk-container-id-1 label.sk-toggleable__label-arrow:before {content: \"▸\";float: left;margin-right: 0.25em;color: #696969;}#sk-container-id-1 label.sk-toggleable__label-arrow:hover:before {color: black;}#sk-container-id-1 div.sk-estimator:hover label.sk-toggleable__label-arrow:before {color: black;}#sk-container-id-1 div.sk-toggleable__content {max-height: 0;max-width: 0;overflow: hidden;text-align: left;background-color: #f0f8ff;}#sk-container-id-1 div.sk-toggleable__content pre {margin: 0.2em;color: black;border-radius: 0.25em;background-color: #f0f8ff;}#sk-container-id-1 input.sk-toggleable__control:checked~div.sk-toggleable__content {max-height: 200px;max-width: 100%;overflow: auto;}#sk-container-id-1 input.sk-toggleable__control:checked~label.sk-toggleable__label-arrow:before {content: \"▾\";}#sk-container-id-1 div.sk-estimator input.sk-toggleable__control:checked~label.sk-toggleable__label {background-color: #d4ebff;}#sk-container-id-1 div.sk-label input.sk-toggleable__control:checked~label.sk-toggleable__label {background-color: #d4ebff;}#sk-container-id-1 input.sk-hidden--visually {border: 0;clip: rect(1px 1px 1px 1px);clip: rect(1px, 1px, 1px, 1px);height: 1px;margin: -1px;overflow: hidden;padding: 0;position: absolute;width: 1px;}#sk-container-id-1 div.sk-estimator {font-family: monospace;background-color: #f0f8ff;border: 1px dotted black;border-radius: 0.25em;box-sizing: border-box;margin-bottom: 0.5em;}#sk-container-id-1 div.sk-estimator:hover {background-color: #d4ebff;}#sk-container-id-1 div.sk-parallel-item::after {content: \"\";width: 100%;border-bottom: 1px solid gray;flex-grow: 1;}#sk-container-id-1 div.sk-label:hover label.sk-toggleable__label {background-color: #d4ebff;}#sk-container-id-1 div.sk-serial::before {content: \"\";position: absolute;border-left: 1px solid gray;box-sizing: border-box;top: 0;bottom: 0;left: 50%;z-index: 0;}#sk-container-id-1 div.sk-serial {display: flex;flex-direction: column;align-items: center;background-color: white;padding-right: 0.2em;padding-left: 0.2em;position: relative;}#sk-container-id-1 div.sk-item {position: relative;z-index: 1;}#sk-container-id-1 div.sk-parallel {display: flex;align-items: stretch;justify-content: center;background-color: white;position: relative;}#sk-container-id-1 div.sk-item::before, #sk-container-id-1 div.sk-parallel-item::before {content: \"\";position: absolute;border-left: 1px solid gray;box-sizing: border-box;top: 0;bottom: 0;left: 50%;z-index: -1;}#sk-container-id-1 div.sk-parallel-item {display: flex;flex-direction: column;z-index: 1;position: relative;background-color: white;}#sk-container-id-1 div.sk-parallel-item:first-child::after {align-self: flex-end;width: 50%;}#sk-container-id-1 div.sk-parallel-item:last-child::after {align-self: flex-start;width: 50%;}#sk-container-id-1 div.sk-parallel-item:only-child::after {width: 0;}#sk-container-id-1 div.sk-dashed-wrapped {border: 1px dashed gray;margin: 0 0.4em 0.5em 0.4em;box-sizing: border-box;padding-bottom: 0.4em;background-color: white;}#sk-container-id-1 div.sk-label label {font-family: monospace;font-weight: bold;display: inline-block;line-height: 1.2em;}#sk-container-id-1 div.sk-label-container {text-align: center;}#sk-container-id-1 div.sk-container {/* jupyter's `normalize.less` sets `[hidden] { display: none; }` but bootstrap.min.css set `[hidden] { display: none !important; }` so we also need the `!important` here to be able to override the default hidden behavior on the sphinx rendered scikit-learn.org. See: https://github.com/scikit-learn/scikit-learn/issues/21755 */display: inline-block !important;position: relative;}#sk-container-id-1 div.sk-text-repr-fallback {display: none;}</style><div id=\"sk-container-id-1\" class=\"sk-top-container\"><div class=\"sk-text-repr-fallback\"><pre>DecisionTreeClassifier(random_state=42)</pre><b>In a Jupyter environment, please rerun this cell to show the HTML representation or trust the notebook. <br />On GitHub, the HTML representation is unable to render, please try loading this page with nbviewer.org.</b></div><div class=\"sk-container\" hidden><div class=\"sk-item\"><div class=\"sk-estimator sk-toggleable\"><input class=\"sk-toggleable__control sk-hidden--visually\" id=\"sk-estimator-id-1\" type=\"checkbox\" checked><label for=\"sk-estimator-id-1\" class=\"sk-toggleable__label sk-toggleable__label-arrow\">DecisionTreeClassifier</label><div class=\"sk-toggleable__content\"><pre>DecisionTreeClassifier(random_state=42)</pre></div></div></div></div></div>"
      ],
      "text/plain": [
       "DecisionTreeClassifier(random_state=42)"
      ]
     },
     "execution_count": 10,
     "metadata": {},
     "output_type": "execute_result"
    }
   ],
   "source": [
    "tree_clf = DecisionTreeClassifier(random_state=42)\n",
    "tree_clf.fit(X_train, y_train)"
   ]
  },
  {
   "cell_type": "markdown",
   "id": "1ac87f2e",
   "metadata": {},
   "source": [
    "### Making predictions on the test set"
   ]
  },
  {
   "cell_type": "code",
   "execution_count": 11,
   "id": "5af82d95",
   "metadata": {},
   "outputs": [],
   "source": [
    "y_pred = tree_clf.predict(X_test)"
   ]
  },
  {
   "cell_type": "markdown",
   "id": "913e1ec4",
   "metadata": {},
   "source": [
    "### Evaluating model performance"
   ]
  },
  {
   "cell_type": "code",
   "execution_count": 12,
   "id": "603be588",
   "metadata": {},
   "outputs": [],
   "source": [
    "accuracy = accuracy_score(y_test, y_pred)\n",
    "conf_matrix = confusion_matrix(y_test, y_pred)"
   ]
  },
  {
   "cell_type": "markdown",
   "id": "4581f136",
   "metadata": {},
   "source": [
    "### Getting feature importance from the trained model"
   ]
  },
  {
   "cell_type": "code",
   "execution_count": 13,
   "id": "2ee9a197",
   "metadata": {},
   "outputs": [],
   "source": [
    "feature_importances = tree_clf.feature_importances_"
   ]
  },
  {
   "cell_type": "code",
   "execution_count": 14,
   "id": "74c8ede3",
   "metadata": {},
   "outputs": [
    {
     "data": {
      "text/plain": [
       "0.7041890765851072"
      ]
     },
     "execution_count": 14,
     "metadata": {},
     "output_type": "execute_result"
    }
   ],
   "source": [
    "accuracy"
   ]
  },
  {
   "cell_type": "code",
   "execution_count": 15,
   "id": "1a67be85",
   "metadata": {},
   "outputs": [
    {
     "data": {
      "text/plain": [
       "array([[ 4592, 10985],\n",
       "       [12445, 51184]])"
      ]
     },
     "execution_count": 15,
     "metadata": {},
     "output_type": "execute_result"
    }
   ],
   "source": [
    "conf_matrix"
   ]
  },
  {
   "cell_type": "code",
   "execution_count": 16,
   "id": "44ca56e2",
   "metadata": {},
   "outputs": [
    {
     "data": {
      "text/plain": [
       "array([0.04507793, 0.0049767 , 0.0548494 , 0.07461699, 0.00327091,\n",
       "       0.08698289, 0.04161787, 0.01281924, 0.08427486, 0.01700044,\n",
       "       0.02013734, 0.05144465, 0.11388186, 0.05735229, 0.00999808,\n",
       "       0.10329507, 0.09884682, 0.07401184, 0.01049358, 0.00025082,\n",
       "       0.02847054, 0.00632988])"
      ]
     },
     "execution_count": 16,
     "metadata": {},
     "output_type": "execute_result"
    }
   ],
   "source": [
    "feature_importances"
   ]
  },
  {
   "cell_type": "code",
   "execution_count": 17,
   "id": "48405a4b",
   "metadata": {},
   "outputs": [
    {
     "data": {
      "text/plain": [
       "Index(['loan_amnt', 'term', 'int_rate', 'installment', 'grade', 'sub_grade',\n",
       "       'emp_length', 'home_ownership', 'annual_inc', 'verification_status',\n",
       "       'purpose', 'title', 'dti', 'open_acc', 'pub_rec', 'revol_bal',\n",
       "       'revol_util', 'total_acc', 'initial_list_status', 'application_type',\n",
       "       'mort_acc', 'pub_rec_bankruptcies'],\n",
       "      dtype='object')"
      ]
     },
     "execution_count": 17,
     "metadata": {},
     "output_type": "execute_result"
    }
   ],
   "source": [
    "X.columns"
   ]
  },
  {
   "cell_type": "code",
   "execution_count": 18,
   "id": "b069b59e",
   "metadata": {},
   "outputs": [
    {
     "data": {
      "text/html": [
       "<div>\n",
       "<style scoped>\n",
       "    .dataframe tbody tr th:only-of-type {\n",
       "        vertical-align: middle;\n",
       "    }\n",
       "\n",
       "    .dataframe tbody tr th {\n",
       "        vertical-align: top;\n",
       "    }\n",
       "\n",
       "    .dataframe thead th {\n",
       "        text-align: right;\n",
       "    }\n",
       "</style>\n",
       "<table border=\"1\" class=\"dataframe\">\n",
       "  <thead>\n",
       "    <tr style=\"text-align: right;\">\n",
       "      <th></th>\n",
       "      <th>Feature</th>\n",
       "      <th>Importance</th>\n",
       "    </tr>\n",
       "  </thead>\n",
       "  <tbody>\n",
       "    <tr>\n",
       "      <th>0</th>\n",
       "      <td>loan_amnt</td>\n",
       "      <td>0.045078</td>\n",
       "    </tr>\n",
       "    <tr>\n",
       "      <th>1</th>\n",
       "      <td>term</td>\n",
       "      <td>0.004977</td>\n",
       "    </tr>\n",
       "    <tr>\n",
       "      <th>2</th>\n",
       "      <td>int_rate</td>\n",
       "      <td>0.054849</td>\n",
       "    </tr>\n",
       "    <tr>\n",
       "      <th>3</th>\n",
       "      <td>installment</td>\n",
       "      <td>0.074617</td>\n",
       "    </tr>\n",
       "    <tr>\n",
       "      <th>4</th>\n",
       "      <td>grade</td>\n",
       "      <td>0.003271</td>\n",
       "    </tr>\n",
       "    <tr>\n",
       "      <th>5</th>\n",
       "      <td>sub_grade</td>\n",
       "      <td>0.086983</td>\n",
       "    </tr>\n",
       "    <tr>\n",
       "      <th>6</th>\n",
       "      <td>emp_length</td>\n",
       "      <td>0.041618</td>\n",
       "    </tr>\n",
       "    <tr>\n",
       "      <th>7</th>\n",
       "      <td>home_ownership</td>\n",
       "      <td>0.012819</td>\n",
       "    </tr>\n",
       "    <tr>\n",
       "      <th>8</th>\n",
       "      <td>annual_inc</td>\n",
       "      <td>0.084275</td>\n",
       "    </tr>\n",
       "    <tr>\n",
       "      <th>9</th>\n",
       "      <td>verification_status</td>\n",
       "      <td>0.017000</td>\n",
       "    </tr>\n",
       "    <tr>\n",
       "      <th>10</th>\n",
       "      <td>purpose</td>\n",
       "      <td>0.020137</td>\n",
       "    </tr>\n",
       "    <tr>\n",
       "      <th>11</th>\n",
       "      <td>title</td>\n",
       "      <td>0.051445</td>\n",
       "    </tr>\n",
       "    <tr>\n",
       "      <th>12</th>\n",
       "      <td>dti</td>\n",
       "      <td>0.113882</td>\n",
       "    </tr>\n",
       "    <tr>\n",
       "      <th>13</th>\n",
       "      <td>open_acc</td>\n",
       "      <td>0.057352</td>\n",
       "    </tr>\n",
       "    <tr>\n",
       "      <th>14</th>\n",
       "      <td>pub_rec</td>\n",
       "      <td>0.009998</td>\n",
       "    </tr>\n",
       "    <tr>\n",
       "      <th>15</th>\n",
       "      <td>revol_bal</td>\n",
       "      <td>0.103295</td>\n",
       "    </tr>\n",
       "    <tr>\n",
       "      <th>16</th>\n",
       "      <td>revol_util</td>\n",
       "      <td>0.098847</td>\n",
       "    </tr>\n",
       "    <tr>\n",
       "      <th>17</th>\n",
       "      <td>total_acc</td>\n",
       "      <td>0.074012</td>\n",
       "    </tr>\n",
       "    <tr>\n",
       "      <th>18</th>\n",
       "      <td>initial_list_status</td>\n",
       "      <td>0.010494</td>\n",
       "    </tr>\n",
       "    <tr>\n",
       "      <th>19</th>\n",
       "      <td>application_type</td>\n",
       "      <td>0.000251</td>\n",
       "    </tr>\n",
       "    <tr>\n",
       "      <th>20</th>\n",
       "      <td>mort_acc</td>\n",
       "      <td>0.028471</td>\n",
       "    </tr>\n",
       "    <tr>\n",
       "      <th>21</th>\n",
       "      <td>pub_rec_bankruptcies</td>\n",
       "      <td>0.006330</td>\n",
       "    </tr>\n",
       "  </tbody>\n",
       "</table>\n",
       "</div>"
      ],
      "text/plain": [
       "                 Feature  Importance\n",
       "0              loan_amnt    0.045078\n",
       "1                   term    0.004977\n",
       "2               int_rate    0.054849\n",
       "3            installment    0.074617\n",
       "4                  grade    0.003271\n",
       "5              sub_grade    0.086983\n",
       "6             emp_length    0.041618\n",
       "7         home_ownership    0.012819\n",
       "8             annual_inc    0.084275\n",
       "9    verification_status    0.017000\n",
       "10               purpose    0.020137\n",
       "11                 title    0.051445\n",
       "12                   dti    0.113882\n",
       "13              open_acc    0.057352\n",
       "14               pub_rec    0.009998\n",
       "15             revol_bal    0.103295\n",
       "16            revol_util    0.098847\n",
       "17             total_acc    0.074012\n",
       "18   initial_list_status    0.010494\n",
       "19      application_type    0.000251\n",
       "20              mort_acc    0.028471\n",
       "21  pub_rec_bankruptcies    0.006330"
      ]
     },
     "execution_count": 18,
     "metadata": {},
     "output_type": "execute_result"
    }
   ],
   "source": [
    "# Create a DataFrame for feature importances\n",
    "feature_importance= pd.DataFrame({\n",
    "    'Feature': X.columns,\n",
    "    'Importance': feature_importances\n",
    "})\n",
    "feature_importance"
   ]
  },
  {
   "cell_type": "code",
   "execution_count": 19,
   "id": "26d829d8",
   "metadata": {},
   "outputs": [
    {
     "data": {
      "text/html": [
       "<div>\n",
       "<style scoped>\n",
       "    .dataframe tbody tr th:only-of-type {\n",
       "        vertical-align: middle;\n",
       "    }\n",
       "\n",
       "    .dataframe tbody tr th {\n",
       "        vertical-align: top;\n",
       "    }\n",
       "\n",
       "    .dataframe thead th {\n",
       "        text-align: right;\n",
       "    }\n",
       "</style>\n",
       "<table border=\"1\" class=\"dataframe\">\n",
       "  <thead>\n",
       "    <tr style=\"text-align: right;\">\n",
       "      <th></th>\n",
       "      <th>Feature</th>\n",
       "      <th>Importance</th>\n",
       "    </tr>\n",
       "  </thead>\n",
       "  <tbody>\n",
       "    <tr>\n",
       "      <th>0</th>\n",
       "      <td>dti</td>\n",
       "      <td>0.113882</td>\n",
       "    </tr>\n",
       "    <tr>\n",
       "      <th>1</th>\n",
       "      <td>revol_bal</td>\n",
       "      <td>0.103295</td>\n",
       "    </tr>\n",
       "    <tr>\n",
       "      <th>2</th>\n",
       "      <td>revol_util</td>\n",
       "      <td>0.098847</td>\n",
       "    </tr>\n",
       "    <tr>\n",
       "      <th>3</th>\n",
       "      <td>sub_grade</td>\n",
       "      <td>0.086983</td>\n",
       "    </tr>\n",
       "    <tr>\n",
       "      <th>4</th>\n",
       "      <td>annual_inc</td>\n",
       "      <td>0.084275</td>\n",
       "    </tr>\n",
       "    <tr>\n",
       "      <th>5</th>\n",
       "      <td>installment</td>\n",
       "      <td>0.074617</td>\n",
       "    </tr>\n",
       "    <tr>\n",
       "      <th>6</th>\n",
       "      <td>total_acc</td>\n",
       "      <td>0.074012</td>\n",
       "    </tr>\n",
       "    <tr>\n",
       "      <th>7</th>\n",
       "      <td>open_acc</td>\n",
       "      <td>0.057352</td>\n",
       "    </tr>\n",
       "    <tr>\n",
       "      <th>8</th>\n",
       "      <td>int_rate</td>\n",
       "      <td>0.054849</td>\n",
       "    </tr>\n",
       "    <tr>\n",
       "      <th>9</th>\n",
       "      <td>title</td>\n",
       "      <td>0.051445</td>\n",
       "    </tr>\n",
       "    <tr>\n",
       "      <th>10</th>\n",
       "      <td>loan_amnt</td>\n",
       "      <td>0.045078</td>\n",
       "    </tr>\n",
       "    <tr>\n",
       "      <th>11</th>\n",
       "      <td>emp_length</td>\n",
       "      <td>0.041618</td>\n",
       "    </tr>\n",
       "    <tr>\n",
       "      <th>12</th>\n",
       "      <td>mort_acc</td>\n",
       "      <td>0.028471</td>\n",
       "    </tr>\n",
       "    <tr>\n",
       "      <th>13</th>\n",
       "      <td>purpose</td>\n",
       "      <td>0.020137</td>\n",
       "    </tr>\n",
       "    <tr>\n",
       "      <th>14</th>\n",
       "      <td>verification_status</td>\n",
       "      <td>0.017000</td>\n",
       "    </tr>\n",
       "    <tr>\n",
       "      <th>15</th>\n",
       "      <td>home_ownership</td>\n",
       "      <td>0.012819</td>\n",
       "    </tr>\n",
       "    <tr>\n",
       "      <th>16</th>\n",
       "      <td>initial_list_status</td>\n",
       "      <td>0.010494</td>\n",
       "    </tr>\n",
       "    <tr>\n",
       "      <th>17</th>\n",
       "      <td>pub_rec</td>\n",
       "      <td>0.009998</td>\n",
       "    </tr>\n",
       "    <tr>\n",
       "      <th>18</th>\n",
       "      <td>pub_rec_bankruptcies</td>\n",
       "      <td>0.006330</td>\n",
       "    </tr>\n",
       "    <tr>\n",
       "      <th>19</th>\n",
       "      <td>term</td>\n",
       "      <td>0.004977</td>\n",
       "    </tr>\n",
       "    <tr>\n",
       "      <th>20</th>\n",
       "      <td>grade</td>\n",
       "      <td>0.003271</td>\n",
       "    </tr>\n",
       "    <tr>\n",
       "      <th>21</th>\n",
       "      <td>application_type</td>\n",
       "      <td>0.000251</td>\n",
       "    </tr>\n",
       "  </tbody>\n",
       "</table>\n",
       "</div>"
      ],
      "text/plain": [
       "                 Feature  Importance\n",
       "0                    dti    0.113882\n",
       "1              revol_bal    0.103295\n",
       "2             revol_util    0.098847\n",
       "3              sub_grade    0.086983\n",
       "4             annual_inc    0.084275\n",
       "5            installment    0.074617\n",
       "6              total_acc    0.074012\n",
       "7               open_acc    0.057352\n",
       "8               int_rate    0.054849\n",
       "9                  title    0.051445\n",
       "10             loan_amnt    0.045078\n",
       "11            emp_length    0.041618\n",
       "12              mort_acc    0.028471\n",
       "13               purpose    0.020137\n",
       "14   verification_status    0.017000\n",
       "15        home_ownership    0.012819\n",
       "16   initial_list_status    0.010494\n",
       "17               pub_rec    0.009998\n",
       "18  pub_rec_bankruptcies    0.006330\n",
       "19                  term    0.004977\n",
       "20                 grade    0.003271\n",
       "21      application_type    0.000251"
      ]
     },
     "execution_count": 19,
     "metadata": {},
     "output_type": "execute_result"
    }
   ],
   "source": [
    "# Sort the DataFrame by importance in descending order\n",
    "feature_importance = feature_importance.sort_values(by='Importance', ascending=False).reset_index(drop=True)\n",
    "feature_importance"
   ]
  },
  {
   "cell_type": "code",
   "execution_count": 20,
   "id": "715a9457",
   "metadata": {},
   "outputs": [
    {
     "data": {
      "image/png": "[encoded data removed]",
      "text/plain": [
       "<Figure size 800x600 with 2 Axes>"
      ]
     },
     "metadata": {},
     "output_type": "display_data"
    }
   ],
   "source": [
    "import matplotlib.pyplot as plt\n",
    "import seaborn as sns\n",
    "\n",
    "plt.figure(figsize=(8, 6))\n",
    "sns.heatmap(conf_matrix, annot=True, fmt=\"d\", cmap=\"Blues\")\n",
    "plt.xlabel('Predicted Label')\n",
    "plt.ylabel('True Label')\n",
    "plt.title('Confusion Matrix')\n",
    "plt.show()"
   ]
  },
  {
   "cell_type": "markdown",
   "id": "396bf330",
   "metadata": {},
   "source": [
    "## Results from Decision Tree Classification:"
   ]
  },
  {
   "cell_type": "markdown",
   "id": "329bf424",
   "metadata": {},
   "source": [
    "Model Accuracy: The Decision Tree model achieved an accuracy of 70.42% on the test data, which indicates that the model is correctly predicting the loan_status around 70% of the time.\n",
    "\n",
    "Confusion Matrix: The confusion matrix indicates the number of correct and incorrect predictions for each class:\n",
    "\n",
    "    True Positives (TP): 51,184\n",
    "    True Negatives (TN): 4,592\n",
    "    False Positives (FP): 10,985\n",
    "    False Negatives (FN): 12,445\n",
    "\n",
    "Feature Importance: The Decision Tree model also provides the importance of each feature in determining the loan status.\n",
    "\n",
    "These features have the most influence in predicting loan status"
   ]
  },
  {
   "cell_type": "markdown",
   "id": "29084d6a",
   "metadata": {},
   "source": [
    "## Tune this model or try other machine learning algorithms to improve the results?"
   ]
  },
  {
   "cell_type": "markdown",
   "id": "a7b45ea3",
   "metadata": {},
   "source": [
    "To tune the Decision Tree model, we'll focus on optimizing key hyperparameters to improve performance. The main hyperparameters to tune for Decision Trees are:\n",
    "\n",
    "    max_depth: Maximum depth of the tree (controls overfitting).\n",
    "    min_samples_split: Minimum number of samples required to split an internal node.\n",
    "    min_samples_leaf: Minimum number of samples required to be at a leaf node.\n",
    "    criterion: The function to measure the quality of a split (e.g., \"gini\" or \"entropy\")."
   ]
  },
  {
   "cell_type": "markdown",
   "id": "681fef68",
   "metadata": {},
   "source": [
    "### We will use Grid Search Cross-Validation to explore different values of these hyperparameters and find the optimal combination."
   ]
  },
  {
   "cell_type": "code",
   "execution_count": 21,
   "id": "8b2d1774",
   "metadata": {},
   "outputs": [
    {
     "name": "stdout",
     "output_type": "stream",
     "text": [
      "Fitting 3 folds for each of 72 candidates, totalling 216 fits\n"
     ]
    },
    {
     "data": {
      "text/plain": [
       "({'criterion': 'entropy',\n",
       "  'max_depth': 10,\n",
       "  'min_samples_leaf': 5,\n",
       "  'min_samples_split': 20},\n",
       " 0.8033608565007702,\n",
       " array([[ 1187, 14390],\n",
       "        [ 1185, 62444]]))"
      ]
     },
     "execution_count": 21,
     "metadata": {},
     "output_type": "execute_result"
    }
   ],
   "source": [
    "# Importing the necessary library for hyperparameter tuning\n",
    "from sklearn.model_selection import GridSearchCV\n",
    "\n",
    "# Setting up the hyperparameters for tuning\n",
    "param_grid = {\n",
    "    'max_depth': [10, 20, 30, None],\n",
    "    'min_samples_split': [2, 10, 20],\n",
    "    'min_samples_leaf': [1, 5, 10],\n",
    "    'criterion': ['gini', 'entropy']\n",
    "}\n",
    "\n",
    "# Setting up the GridSearchCV to find the best parameters\n",
    "grid_search = GridSearchCV(estimator=tree_clf, param_grid=param_grid, \n",
    "                           cv=3, scoring='accuracy', n_jobs=-1, verbose=1)\n",
    "\n",
    "# Fitting the grid search to the data\n",
    "grid_search.fit(X_train, y_train)\n",
    "\n",
    "# Get the best parameters from the grid search\n",
    "best_params = grid_search.best_params_\n",
    "\n",
    "# Train a new Decision Tree with the best parameters\n",
    "best_tree_clf = grid_search.best_estimator_\n",
    "\n",
    "# Evaluating the optimized model\n",
    "y_pred_tuned = best_tree_clf.predict(X_test)\n",
    "tuned_accuracy = accuracy_score(y_test, y_pred_tuned)\n",
    "tuned_conf_matrix = confusion_matrix(y_test, y_pred_tuned)\n",
    "\n",
    "best_params, tuned_accuracy, tuned_conf_matrix\n"
   ]
  },
  {
   "cell_type": "code",
   "execution_count": 22,
   "id": "6a96d8bc",
   "metadata": {},
   "outputs": [
    {
     "data": {
      "image/png": "[encoded data removed]",
      "text/plain": [
       "<Figure size 800x600 with 2 Axes>"
      ]
     },
     "metadata": {},
     "output_type": "display_data"
    }
   ],
   "source": [
    "import matplotlib.pyplot as plt\n",
    "import seaborn as sns\n",
    "\n",
    "plt.figure(figsize=(8, 6))\n",
    "sns.heatmap(tuned_conf_matrix, annot=True, fmt=\"d\", cmap=\"Blues\")\n",
    "plt.xlabel('Predicted Label')\n",
    "plt.ylabel('True Label')\n",
    "plt.title('Confusion Matrix')\n",
    "plt.show()"
   ]
  },
  {
   "cell_type": "markdown",
   "id": "88e3b008",
   "metadata": {},
   "source": [
    "Components Explained\n",
    "GridSearchCV:\n",
    "\n",
    "This is the main class from Scikit-learn used to perform grid search with cross-validation.\n",
    "estimator:\n",
    "\n",
    "estimator=tree_clf: This specifies the machine learning model you want to optimize. In this case, tree_clf is presumably a Decision Tree Classifier (or any other model). This model will be trained with different combinations of hyperparameters as defined in param_grid.\n",
    "param_grid:\n",
    "\n",
    "param_grid=param_grid: This parameter defines a dictionary where the keys are the hyperparameters of the model, and the values are lists of settings to be tested.\n",
    "    \n",
    "cv:\n",
    "\n",
    "cv=3: This specifies the number of cross-validation folds. Here, the dataset will be split into 3 parts (folds), and the model will be trained on 2 parts and validated on 1 part in each iteration. This process will repeat for all combinations of parameters, allowing for a more robust evaluation of model performance.\n",
    "scoring:\n",
    "\n",
    "scoring='accuracy': This specifies the metric to evaluate the performance of the model during cross-validation. In this case, the model will be evaluated based on its accuracy, which is the proportion of correctly predicted instances to the total instances.\n",
    "n_jobs:\n",
    "\n",
    "n_jobs=-1: This parameter controls the number of jobs to run in parallel. Setting n_jobs=-1 means that all available cores will be used, which can significantly speed up the search process.\n",
    "verbose:\n",
    "\n",
    "verbose=1: This controls the level of detail displayed during the fitting process. A value of 1 means that progress messages will be printed, allowing you to monitor how the grid search is progressing. Higher values (e.g., 2) provide more detailed messages.\n",
    "Summary of GridSearchCV Process\n",
    "Exhaustive Search: GridSearchCV will perform an exhaustive search over all combinations of the parameters specified in param_grid.\n",
    "\n",
    "Cross-Validation: For each combination of parameters, the model will be evaluated using cross-validation. The average accuracy score across all folds will be calculated.\n",
    "\n",
    "Best Parameters: After evaluating all combinations, GridSearchCV will identify the combination of hyperparameters that resulted in the highest average accuracy.\n",
    "\n",
    "Final Model: The model is then trained using the best-found parameters on the entire training dataset."
   ]
  },
  {
   "cell_type": "code",
   "execution_count": null,
   "id": "de78a41d",
   "metadata": {},
   "outputs": [],
   "source": []
  }
 ],
 "metadata": {
  "kernelspec": {
   "display_name": "Python 3 (ipykernel)",
   "language": "python",
   "name": "python3"
  },
  "language_info": {
   "codemirror_mode": {
    "name": "ipython",
    "version": 3
   },
   "file_extension": ".py",
   "mimetype": "text/x-python",
   "name": "python",
   "nbconvert_exporter": "python",
   "pygments_lexer": "ipython3",
   "version": "3.9.13"
  }
 },
 "nbformat": 4,
 "nbformat_minor": 5
}
