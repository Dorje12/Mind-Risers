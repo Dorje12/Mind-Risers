{
 "cells": [
  {
   "cell_type": "code",
   "execution_count": 1,
   "id": "b836f724-99fd-4a21-a0fd-99257eacf76f",
   "metadata": {},
   "outputs": [],
   "source": [
    "import pandas as pd\n",
    "import numpy as np"
   ]
  },
  {
   "cell_type": "code",
   "execution_count": 3,
   "id": "e3551077-17b4-4d5d-b965-329b6d2647b6",
   "metadata": {},
   "outputs": [
    {
     "name": "stdout",
     "output_type": "stream",
     "text": [
      "<class 'pandas.core.frame.DataFrame'>\n",
      "RangeIndex: 396030 entries, 0 to 396029\n",
      "Data columns (total 27 columns):\n",
      " #   Column                Non-Null Count   Dtype  \n",
      "---  ------                --------------   -----  \n",
      " 0   loan_amnt             396030 non-null  float64\n",
      " 1   term                  396030 non-null  object \n",
      " 2   int_rate              396030 non-null  float64\n",
      " 3   installment           396030 non-null  float64\n",
      " 4   grade                 396030 non-null  object \n",
      " 5   sub_grade             396030 non-null  object \n",
      " 6   emp_title             373103 non-null  object \n",
      " 7   emp_length            377729 non-null  object \n",
      " 8   home_ownership        396030 non-null  object \n",
      " 9   annual_inc            396030 non-null  float64\n",
      " 10  verification_status   396030 non-null  object \n",
      " 11  issue_d               396030 non-null  object \n",
      " 12  loan_status           396030 non-null  object \n",
      " 13  purpose               396030 non-null  object \n",
      " 14  title                 394274 non-null  object \n",
      " 15  dti                   396030 non-null  float64\n",
      " 16  earliest_cr_line      396030 non-null  object \n",
      " 17  open_acc              396030 non-null  float64\n",
      " 18  pub_rec               396030 non-null  float64\n",
      " 19  revol_bal             396030 non-null  float64\n",
      " 20  revol_util            395754 non-null  float64\n",
      " 21  total_acc             396030 non-null  float64\n",
      " 22  initial_list_status   396030 non-null  object \n",
      " 23  application_type      396030 non-null  object \n",
      " 24  mort_acc              358235 non-null  float64\n",
      " 25  pub_rec_bankruptcies  395495 non-null  float64\n",
      " 26  address               396030 non-null  object \n",
      "dtypes: float64(12), object(15)\n",
      "memory usage: 81.6+ MB\n"
     ]
    },
    {
     "data": {
      "text/plain": [
       "(   loan_amnt        term  int_rate  installment grade sub_grade  \\\n",
       " 0    10000.0   36 months     11.44       329.48     B        B4   \n",
       " 1     8000.0   36 months     11.99       265.68     B        B5   \n",
       " 2    15600.0   36 months     10.49       506.97     B        B3   \n",
       " 3     7200.0   36 months      6.49       220.65     A        A2   \n",
       " 4    24375.0   60 months     17.27       609.33     C        C5   \n",
       " \n",
       "                  emp_title emp_length home_ownership  annual_inc  ...  \\\n",
       " 0                Marketing  10+ years           RENT    117000.0  ...   \n",
       " 1          Credit analyst     4 years       MORTGAGE     65000.0  ...   \n",
       " 2             Statistician   < 1 year           RENT     43057.0  ...   \n",
       " 3          Client Advocate    6 years           RENT     54000.0  ...   \n",
       " 4  Destiny Management Inc.    9 years       MORTGAGE     55000.0  ...   \n",
       " \n",
       "   open_acc pub_rec revol_bal revol_util total_acc  initial_list_status  \\\n",
       " 0     16.0     0.0   36369.0       41.8      25.0                    w   \n",
       " 1     17.0     0.0   20131.0       53.3      27.0                    f   \n",
       " 2     13.0     0.0   11987.0       92.2      26.0                    f   \n",
       " 3      6.0     0.0    5472.0       21.5      13.0                    f   \n",
       " 4     13.0     0.0   24584.0       69.8      43.0                    f   \n",
       " \n",
       "   application_type  mort_acc  pub_rec_bankruptcies  \\\n",
       " 0       INDIVIDUAL       0.0                   0.0   \n",
       " 1       INDIVIDUAL       3.0                   0.0   \n",
       " 2       INDIVIDUAL       0.0                   0.0   \n",
       " 3       INDIVIDUAL       0.0                   0.0   \n",
       " 4       INDIVIDUAL       1.0                   0.0   \n",
       " \n",
       "                                            address  \n",
       " 0     0174 Michelle Gateway\\nMendozaberg, OK 22690  \n",
       " 1  1076 Carney Fort Apt. 347\\nLoganmouth, SD 05113  \n",
       " 2  87025 Mark Dale Apt. 269\\nNew Sabrina, WV 05113  \n",
       " 3            823 Reid Ford\\nDelacruzside, MA 00813  \n",
       " 4             679 Luna Roads\\nGreggshire, VA 11650  \n",
       " \n",
       " [5 rows x 27 columns],\n",
       " None)"
      ]
     },
     "execution_count": 3,
     "metadata": {},
     "output_type": "execute_result"
    }
   ],
   "source": [
    "loan_data = pd.read_csv(\"loan_data.csv\")\n",
    "loan_data.head(), loan_data.info()"
   ]
  },
  {
   "cell_type": "code",
   "execution_count": null,
   "id": "8f338a49-2189-4311-aad7-00cf6198da74",
   "metadata": {},
   "outputs": [],
   "source": []
  }
 ],
 "metadata": {
  "kernelspec": {
   "display_name": "Python 3 (ipykernel)",
   "language": "python",
   "name": "python3"
  },
  "language_info": {
   "codemirror_mode": {
    "name": "ipython",
    "version": 3
   },
   "file_extension": ".py",
   "mimetype": "text/x-python",
   "name": "python",
   "nbconvert_exporter": "python",
   "pygments_lexer": "ipython3",
   "version": "3.12.4"
  }
 },
 "nbformat": 4,
 "nbformat_minor": 5
}
