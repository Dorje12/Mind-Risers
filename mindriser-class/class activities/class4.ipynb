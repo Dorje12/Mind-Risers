{
 "cells": [
  {
   "cell_type": "code",
   "execution_count": 1,
   "id": "9dd69572-b1ca-44d0-958e-8b522dbad67f",
   "metadata": {},
   "outputs": [],
   "source": [
    "import numpy as np"
   ]
  },
  {
   "cell_type": "code",
   "execution_count": 2,
   "id": "a5c18e87-5473-476e-be05-6912db185fdb",
   "metadata": {},
   "outputs": [],
   "source": [
    "x1 = np.random.randint(10, size=6)\n",
    "x2 = np.random.randint(10, size=(4,3))\n",
    "x3 = np.random.randint(10, size=(2,3,4))"
   ]
  },
  {
   "cell_type": "code",
   "execution_count": 3,
   "id": "23edada5-1fc6-47c8-a65b-c14a0cb0cfb4",
   "metadata": {},
   "outputs": [
    {
     "data": {
      "text/plain": [
       "array([7, 1, 8, 7, 7, 6])"
      ]
     },
     "execution_count": 3,
     "metadata": {},
     "output_type": "execute_result"
    }
   ],
   "source": [
    "x1"
   ]
  },
  {
   "cell_type": "code",
   "execution_count": 4,
   "id": "92a0df29-b5f6-4cd2-b5b5-aae0a758fe6f",
   "metadata": {},
   "outputs": [
    {
     "data": {
      "text/plain": [
       "array([[9, 6, 3],\n",
       "       [8, 1, 7],\n",
       "       [5, 5, 7],\n",
       "       [4, 3, 5]])"
      ]
     },
     "execution_count": 4,
     "metadata": {},
     "output_type": "execute_result"
    }
   ],
   "source": [
    "x2"
   ]
  },
  {
   "cell_type": "code",
   "execution_count": 5,
   "id": "794cdf37-060c-4719-9007-ef7ae840e5bd",
   "metadata": {},
   "outputs": [
    {
     "data": {
      "text/plain": [
       "array([[[5, 5, 5, 5],\n",
       "        [5, 1, 0, 8],\n",
       "        [3, 8, 7, 2]],\n",
       "\n",
       "       [[4, 5, 5, 4],\n",
       "        [4, 8, 3, 3],\n",
       "        [2, 5, 4, 3]]])"
      ]
     },
     "execution_count": 5,
     "metadata": {},
     "output_type": "execute_result"
    }
   ],
   "source": [
    "x3"
   ]
  },
  {
   "cell_type": "code",
   "execution_count": 6,
   "id": "1da9577e-5c82-40e3-b908-a053ff305871",
   "metadata": {},
   "outputs": [
    {
     "name": "stdout",
     "output_type": "stream",
     "text": [
      "3\n"
     ]
    }
   ],
   "source": [
    "print(x3.ndim)"
   ]
  },
  {
   "cell_type": "code",
   "execution_count": 8,
   "id": "d45688b4-4e55-43a3-8888-c54687f46368",
   "metadata": {},
   "outputs": [
    {
     "name": "stdout",
     "output_type": "stream",
     "text": [
      "2\n"
     ]
    }
   ],
   "source": [
    "print(x2.ndim)"
   ]
  },
  {
   "cell_type": "code",
   "execution_count": 9,
   "id": "de94850e-1740-4442-9b64-cb93b74866d6",
   "metadata": {},
   "outputs": [
    {
     "name": "stdout",
     "output_type": "stream",
     "text": [
      "(4, 3)\n"
     ]
    }
   ],
   "source": [
    "print(x2.shape)"
   ]
  },
  {
   "cell_type": "code",
   "execution_count": 10,
   "id": "03801d82-46c8-413e-882b-21139de09845",
   "metadata": {},
   "outputs": [
    {
     "name": "stdout",
     "output_type": "stream",
     "text": [
      "(2, 3, 4)\n"
     ]
    }
   ],
   "source": [
    "print(x3.shape)"
   ]
  },
  {
   "cell_type": "code",
   "execution_count": 11,
   "id": "c7c98ef3-9b91-49e0-b271-c77f1d931249",
   "metadata": {},
   "outputs": [
    {
     "name": "stdout",
     "output_type": "stream",
     "text": [
      "(6,)\n"
     ]
    }
   ],
   "source": [
    "print(x1.shape)\n"
   ]
  },
  {
   "cell_type": "code",
   "execution_count": 12,
   "id": "e1a3697c-75a0-4ba4-8606-d7402e72afc6",
   "metadata": {},
   "outputs": [
    {
     "name": "stdout",
     "output_type": "stream",
     "text": [
      "6\n"
     ]
    }
   ],
   "source": [
    "print(x1.size)"
   ]
  },
  {
   "cell_type": "code",
   "execution_count": 13,
   "id": "cedf7752-cdb8-4b65-9545-7f2898dd0deb",
   "metadata": {},
   "outputs": [
    {
     "name": "stdout",
     "output_type": "stream",
     "text": [
      "12\n"
     ]
    }
   ],
   "source": [
    "print(x2.size)"
   ]
  },
  {
   "cell_type": "code",
   "execution_count": 14,
   "id": "b6ccff16-4270-4291-a0a3-1138db0d9662",
   "metadata": {},
   "outputs": [
    {
     "name": "stdout",
     "output_type": "stream",
     "text": [
      "24\n"
     ]
    }
   ],
   "source": [
    "print(x3.size)"
   ]
  },
  {
   "cell_type": "code",
   "execution_count": 15,
   "id": "bd253981-b119-4538-8ce0-fdcce6e7d1cc",
   "metadata": {},
   "outputs": [
    {
     "data": {
      "text/plain": [
       "dtype('int32')"
      ]
     },
     "execution_count": 15,
     "metadata": {},
     "output_type": "execute_result"
    }
   ],
   "source": [
    "x1.dtype"
   ]
  },
  {
   "cell_type": "code",
   "execution_count": 16,
   "id": "70ae5b87-eefd-40ec-b70e-466901c5f16c",
   "metadata": {},
   "outputs": [
    {
     "data": {
      "text/plain": [
       "dtype('int32')"
      ]
     },
     "execution_count": 16,
     "metadata": {},
     "output_type": "execute_result"
    }
   ],
   "source": [
    "x3.dtype"
   ]
  },
  {
   "cell_type": "code",
   "execution_count": 17,
   "id": "70954931-5b80-461e-889e-2a0b5e0ef197",
   "metadata": {},
   "outputs": [
    {
     "data": {
      "text/plain": [
       "4"
      ]
     },
     "execution_count": 17,
     "metadata": {},
     "output_type": "execute_result"
    }
   ],
   "source": [
    "x2.itemsize"
   ]
  },
  {
   "cell_type": "code",
   "execution_count": 18,
   "id": "a42dbdb0-2b72-46a2-b2b6-2ff399834410",
   "metadata": {},
   "outputs": [
    {
     "data": {
      "text/plain": [
       "96"
      ]
     },
     "execution_count": 18,
     "metadata": {},
     "output_type": "execute_result"
    }
   ],
   "source": [
    "x3.nbytes"
   ]
  },
  {
   "cell_type": "markdown",
   "id": "eb3b80e2-b0db-49a4-905f-0cc41817a3a2",
   "metadata": {},
   "source": [
    "#### for indexing "
   ]
  },
  {
   "cell_type": "code",
   "execution_count": 20,
   "id": "d40aa583-d486-4316-9007-232524d1d33c",
   "metadata": {},
   "outputs": [
    {
     "name": "stdout",
     "output_type": "stream",
     "text": [
      "7\n"
     ]
    }
   ],
   "source": [
    "print(x1[0])"
   ]
  },
  {
   "cell_type": "code",
   "execution_count": 28,
   "id": "e7808c4a-f413-443a-9aa1-72e25fac4822",
   "metadata": {},
   "outputs": [
    {
     "name": "stdout",
     "output_type": "stream",
     "text": [
      "5\n"
     ]
    }
   ],
   "source": [
    "print(x2[2,1])"
   ]
  },
  {
   "cell_type": "code",
   "execution_count": 30,
   "id": "dfa6f7b6-dcd5-414c-a505-3e3f92e23838",
   "metadata": {},
   "outputs": [
    {
     "name": "stdout",
     "output_type": "stream",
     "text": [
      "7\n"
     ]
    }
   ],
   "source": [
    "print(x2[2,-1])"
   ]
  },
  {
   "cell_type": "markdown",
   "id": "d4e39566-ba48-4369-ade1-c1de205434c0",
   "metadata": {},
   "source": [
    "##### updating value"
   ]
  },
  {
   "cell_type": "code",
   "execution_count": 32,
   "id": "6b3b15cf-c5b9-472d-9485-bdb3a6227205",
   "metadata": {},
   "outputs": [
    {
     "name": "stdout",
     "output_type": "stream",
     "text": [
      "3\n"
     ]
    }
   ],
   "source": [
    "x2 [2,-1] = 3.14159\n",
    "print(x2[2,-1])"
   ]
  },
  {
   "cell_type": "code",
   "execution_count": 35,
   "id": "57c42e45-429e-4d70-bb1d-b9c9b72afd2c",
   "metadata": {},
   "outputs": [],
   "source": [
    "x = np.arange(10)"
   ]
  },
  {
   "cell_type": "code",
   "execution_count": 36,
   "id": "341cb099-bf1d-48b0-890a-92ceba193a51",
   "metadata": {},
   "outputs": [
    {
     "name": "stdout",
     "output_type": "stream",
     "text": [
      "[0 1 2 3 4 5 6 7 8 9]\n"
     ]
    }
   ],
   "source": [
    "print(x)"
   ]
  },
  {
   "cell_type": "code",
   "execution_count": 38,
   "id": "bba97ef4-bfb7-460f-8beb-83cce71724c4",
   "metadata": {},
   "outputs": [
    {
     "name": "stdout",
     "output_type": "stream",
     "text": [
      "x[7:3:-1] = [7 6 5 4]\n"
     ]
    }
   ],
   "source": [
    "print(\"x[7:3:-1] =\" , x[7:3:-1])"
   ]
  },
  {
   "cell_type": "code",
   "execution_count": 39,
   "id": "fd13570a-64db-4dc8-8c51-fd2d94649a83",
   "metadata": {},
   "outputs": [
    {
     "name": "stdout",
     "output_type": "stream",
     "text": [
      "[[9 6 3]\n",
      " [8 1 7]\n",
      " [5 5 3]\n",
      " [4 3 5]]\n"
     ]
    }
   ],
   "source": [
    "print(x2)"
   ]
  },
  {
   "cell_type": "markdown",
   "id": "2d3a514c-6d7f-4838-b8ae-da35c642f50d",
   "metadata": {},
   "source": [
    "#### printing 2 dimentional "
   ]
  },
  {
   "cell_type": "code",
   "execution_count": 40,
   "id": "92cef10a-e01a-4145-a37d-96ecdad1b47c",
   "metadata": {},
   "outputs": [
    {
     "name": "stdout",
     "output_type": "stream",
     "text": [
      "[[9 6]\n",
      " [8 1]\n",
      " [5 5]]\n"
     ]
    }
   ],
   "source": [
    "print(x2[:3,:2])"
   ]
  },
  {
   "cell_type": "code",
   "execution_count": 41,
   "id": "e7e8f6ee-f385-44c8-924e-3f9f7c1010d2",
   "metadata": {},
   "outputs": [
    {
     "name": "stdout",
     "output_type": "stream",
     "text": [
      "[[9 6 3]\n",
      " [5 5 3]]\n"
     ]
    }
   ],
   "source": [
    "print(x2[::2,:])"
   ]
  },
  {
   "cell_type": "code",
   "execution_count": 42,
   "id": "8b45e58f-8dc8-4b74-9a99-b23b4c7a70e7",
   "metadata": {},
   "outputs": [
    {
     "data": {
      "text/plain": [
       "array([8, 1, 7])"
      ]
     },
     "execution_count": 42,
     "metadata": {},
     "output_type": "execute_result"
    }
   ],
   "source": [
    "x2[1,:]"
   ]
  },
  {
   "cell_type": "markdown",
   "id": "12e87787-cd12-4897-b4ef-e681f58caa05",
   "metadata": {},
   "source": [
    "#### reshaping array"
   ]
  },
  {
   "cell_type": "code",
   "execution_count": 47,
   "id": "e007e0b4-2c91-437c-a251-4567a533844e",
   "metadata": {},
   "outputs": [],
   "source": [
    "z =np.arange(1,10)"
   ]
  },
  {
   "cell_type": "code",
   "execution_count": 51,
   "id": "ca1487cc-93ae-4612-a0ca-fb6393a78494",
   "metadata": {},
   "outputs": [
    {
     "data": {
      "text/plain": [
       "array([1, 2, 3, 4, 5, 6, 7, 8, 9])"
      ]
     },
     "execution_count": 51,
     "metadata": {},
     "output_type": "execute_result"
    }
   ],
   "source": [
    "z"
   ]
  },
  {
   "cell_type": "code",
   "execution_count": 50,
   "id": "a8d4eb3a-21bb-4e6a-8e52-b1e362908143",
   "metadata": {},
   "outputs": [
    {
     "data": {
      "text/plain": [
       "array([[1, 2, 3],\n",
       "       [4, 5, 6],\n",
       "       [7, 8, 9]])"
      ]
     },
     "execution_count": 50,
     "metadata": {},
     "output_type": "execute_result"
    }
   ],
   "source": [
    "z.reshape(3,3)"
   ]
  },
  {
   "cell_type": "code",
   "execution_count": 52,
   "id": "786d36ce-5405-48af-b90e-ec0e0a3e3fe7",
   "metadata": {},
   "outputs": [
    {
     "ename": "ValueError",
     "evalue": "cannot reshape array of size 9 into shape (4,4)",
     "output_type": "error",
     "traceback": [
      "\u001b[1;31m---------------------------------------------------------------------------\u001b[0m",
      "\u001b[1;31mValueError\u001b[0m                                Traceback (most recent call last)",
      "Cell \u001b[1;32mIn[52], line 1\u001b[0m\n\u001b[1;32m----> 1\u001b[0m z\u001b[38;5;241m.\u001b[39mreshape(\u001b[38;5;241m4\u001b[39m,\u001b[38;5;241m4\u001b[39m)\n",
      "\u001b[1;31mValueError\u001b[0m: cannot reshape array of size 9 into shape (4,4)"
     ]
    }
   ],
   "source": [
    "z.reshape(4,4)"
   ]
  },
  {
   "cell_type": "code",
   "execution_count": 55,
   "id": "b61261bb-fcd6-4a67-9d8c-bb4d0fdc8245",
   "metadata": {},
   "outputs": [
    {
     "data": {
      "text/plain": [
       "array([1, 2, 3, 4, 5, 6])"
      ]
     },
     "execution_count": 55,
     "metadata": {},
     "output_type": "execute_result"
    }
   ],
   "source": [
    "x = np.array([1,2,3])\n",
    "y = np.array([4,5,6])\n",
    "np.concatenate([x,y])"
   ]
  },
  {
   "cell_type": "code",
   "execution_count": 57,
   "id": "2ac81352-4b59-46cf-9110-9e59fe1fff11",
   "metadata": {},
   "outputs": [
    {
     "data": {
      "text/plain": [
       "array([1, 2, 3, 4, 5, 6, 7, 8, 9])"
      ]
     },
     "execution_count": 57,
     "metadata": {},
     "output_type": "execute_result"
    }
   ],
   "source": [
    "z = np.array([7,8,9])\n",
    "np.concatenate([x,y,z])"
   ]
  },
  {
   "cell_type": "code",
   "execution_count": 61,
   "id": "5a1ec9ef-c911-4066-adc4-3f0d509af346",
   "metadata": {},
   "outputs": [
    {
     "ename": "TypeError",
     "evalue": "Field elements must be 2- or 3-tuples, got '4'",
     "output_type": "error",
     "traceback": [
      "\u001b[1;31m---------------------------------------------------------------------------\u001b[0m",
      "\u001b[1;31mTypeError\u001b[0m                                 Traceback (most recent call last)",
      "Cell \u001b[1;32mIn[61], line 1\u001b[0m\n\u001b[1;32m----> 1\u001b[0m arr2d \u001b[38;5;241m=\u001b[39mnp\u001b[38;5;241m.\u001b[39marray([\u001b[38;5;241m1\u001b[39m,\u001b[38;5;241m2\u001b[39m,\u001b[38;5;241m3\u001b[39m],\n\u001b[0;32m      2\u001b[0m                 [\u001b[38;5;241m4\u001b[39m,\u001b[38;5;241m5\u001b[39m,\u001b[38;5;241m6\u001b[39m])\n\u001b[0;32m      3\u001b[0m np\u001b[38;5;241m.\u001b[39mconcatenate([arr2d,arr2d])\n",
      "\u001b[1;31mTypeError\u001b[0m: Field elements must be 2- or 3-tuples, got '4'"
     ]
    }
   ],
   "source": [
    "arr2d =np.array([1,2,3],\n",
    "                [4,5,6])\n",
    "np.concatenate([arr2d,arr2d])"
   ]
  },
  {
   "cell_type": "code",
   "execution_count": 62,
   "id": "ef1281f9-3cee-47d2-a67d-d17eea9b5687",
   "metadata": {},
   "outputs": [],
   "source": [
    "x = [1,2,3,4,5,6,7,8,9]\n",
    "x1,x2,x3 = np.split(x,[3,5])"
   ]
  },
  {
   "cell_type": "code",
   "execution_count": 64,
   "id": "eace403d-49b7-466c-a155-d572ca7871a6",
   "metadata": {},
   "outputs": [
    {
     "name": "stdout",
     "output_type": "stream",
     "text": [
      "[1 2 3] [4 5] [6 7 8 9]\n",
      "CPU times: total: 0 ns\n",
      "Wall time: 980 μs\n"
     ]
    }
   ],
   "source": [
    " %time print(x1,x2,x3)"
   ]
  },
  {
   "cell_type": "code",
   "execution_count": 66,
   "id": "8fd2596e-2fe6-4eb8-8b43-2eea4579b5da",
   "metadata": {},
   "outputs": [
    {
     "data": {
      "text/plain": [
       "array([0.        , 1.57079633, 3.14159265])"
      ]
     },
     "execution_count": 66,
     "metadata": {},
     "output_type": "execute_result"
    }
   ],
   "source": [
    "theta = np.linspace(0,np.pi,3)\n",
    "theta"
   ]
  },
  {
   "cell_type": "code",
   "execution_count": 68,
   "id": "5283de05-3d13-47e1-82d4-468de2943390",
   "metadata": {},
   "outputs": [
    {
     "name": "stdout",
     "output_type": "stream",
     "text": [
      "sin(theta)= : [0.0000000e+00 1.0000000e+00 1.2246468e-16]\n"
     ]
    }
   ],
   "source": [
    "print(\"sin(theta)= :\" , np.sin(theta))"
   ]
  },
  {
   "cell_type": "code",
   "execution_count": null,
   "id": "d8488f1a-ebbe-4f8a-b4c0-2279b9f31977",
   "metadata": {},
   "outputs": [],
   "source": []
  }
 ],
 "metadata": {
  "kernelspec": {
   "display_name": "Python 3 (ipykernel)",
   "language": "python",
   "name": "python3"
  },
  "language_info": {
   "codemirror_mode": {
    "name": "ipython",
    "version": 3
   },
   "file_extension": ".py",
   "mimetype": "text/x-python",
   "name": "python",
   "nbconvert_exporter": "python",
   "pygments_lexer": "ipython3",
   "version": "3.12.4"
  }
 },
 "nbformat": 4,
 "nbformat_minor": 5
}
