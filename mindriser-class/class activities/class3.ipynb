{
 "cells": [
  {
   "cell_type": "markdown",
   "id": "3cddc54b-b118-4da0-9b15-093797e16583",
   "metadata": {},
   "source": [
    "#### dict\n"
   ]
  },
  {
   "cell_type": "code",
   "execution_count": 4,
   "id": "c77ec9fa-430d-4984-825d-ad844704d702",
   "metadata": {},
   "outputs": [
    {
     "ename": "NameError",
     "evalue": "name 'country' is not defined",
     "output_type": "error",
     "traceback": [
      "\u001b[1;31m---------------------------------------------------------------------------\u001b[0m",
      "\u001b[1;31mNameError\u001b[0m                                 Traceback (most recent call last)",
      "Cell \u001b[1;32mIn[4], line 2\u001b[0m\n\u001b[0;32m      1\u001b[0m \u001b[38;5;28mdict\u001b[39m \u001b[38;5;241m=\u001b[39m {\n\u001b[1;32m----> 2\u001b[0m     country:\u001b[38;5;124m\"\u001b[39m\u001b[38;5;124mUSA\u001b[39m\u001b[38;5;124m\"\u001b[39m,\n\u001b[0;32m      3\u001b[0m     city:\u001b[38;5;124m\"\u001b[39m\u001b[38;5;124mGolden state\u001b[39m\u001b[38;5;124m\"\u001b[39m,\n\u001b[0;32m      4\u001b[0m     population:\u001b[38;5;241m12212\u001b[39m\n\u001b[0;32m      5\u001b[0m     \n\u001b[0;32m      6\u001b[0m }\n\u001b[0;32m      7\u001b[0m \u001b[38;5;28mdict\u001b[39m[country]\n",
      "\u001b[1;31mNameError\u001b[0m: name 'country' is not defined"
     ]
    }
   ],
   "source": [
    "dict = {\n",
    "    country:\"USA\",\n",
    "    city:\"Golden state\",\n",
    "    population:12212\n",
    "    \n",
    "}\n"
   ]
  },
  {
   "cell_type": "code",
   "execution_count": null,
   "id": "67ede70f-563e-4df0-9437-5d1329fac4d9",
   "metadata": {},
   "outputs": [],
   "source": []
  }
 ],
 "metadata": {
  "kernelspec": {
   "display_name": "Python 3 (ipykernel)",
   "language": "python",
   "name": "python3"
  },
  "language_info": {
   "codemirror_mode": {
    "name": "ipython",
    "version": 3
   },
   "file_extension": ".py",
   "mimetype": "text/x-python",
   "name": "python",
   "nbconvert_exporter": "python",
   "pygments_lexer": "ipython3",
   "version": "3.12.4"
  }
 },
 "nbformat": 4,
 "nbformat_minor": 5
}
