{
 "cells": [
  {
   "cell_type": "code",
   "execution_count": 1,
   "id": "9728da8f-cae4-4416-92f5-2b248dd8520a",
   "metadata": {},
   "outputs": [],
   "source": [
    "import numpy as np\n",
    "import pandas as pd"
   ]
  },
  {
   "cell_type": "code",
   "execution_count": 2,
   "id": "957d31b4-8077-4f85-ad1f-d588e15d3b69",
   "metadata": {},
   "outputs": [
    {
     "data": {
      "text/html": [
       "<div>\n",
       "<style scoped>\n",
       "    .dataframe tbody tr th:only-of-type {\n",
       "        vertical-align: middle;\n",
       "    }\n",
       "\n",
       "    .dataframe tbody tr th {\n",
       "        vertical-align: top;\n",
       "    }\n",
       "\n",
       "    .dataframe thead th {\n",
       "        text-align: right;\n",
       "    }\n",
       "</style>\n",
       "<table border=\"1\" class=\"dataframe\">\n",
       "  <thead>\n",
       "    <tr style=\"text-align: right;\">\n",
       "      <th></th>\n",
       "      <th>key</th>\n",
       "      <th>data1</th>\n",
       "      <th>data2</th>\n",
       "    </tr>\n",
       "  </thead>\n",
       "  <tbody>\n",
       "    <tr>\n",
       "      <th>0</th>\n",
       "      <td>A</td>\n",
       "      <td>0</td>\n",
       "      <td>5</td>\n",
       "    </tr>\n",
       "    <tr>\n",
       "      <th>1</th>\n",
       "      <td>B</td>\n",
       "      <td>1</td>\n",
       "      <td>0</td>\n",
       "    </tr>\n",
       "    <tr>\n",
       "      <th>2</th>\n",
       "      <td>C</td>\n",
       "      <td>2</td>\n",
       "      <td>3</td>\n",
       "    </tr>\n",
       "    <tr>\n",
       "      <th>3</th>\n",
       "      <td>A</td>\n",
       "      <td>3</td>\n",
       "      <td>3</td>\n",
       "    </tr>\n",
       "    <tr>\n",
       "      <th>4</th>\n",
       "      <td>B</td>\n",
       "      <td>4</td>\n",
       "      <td>7</td>\n",
       "    </tr>\n",
       "    <tr>\n",
       "      <th>5</th>\n",
       "      <td>C</td>\n",
       "      <td>5</td>\n",
       "      <td>9</td>\n",
       "    </tr>\n",
       "  </tbody>\n",
       "</table>\n",
       "</div>"
      ],
      "text/plain": [
       "  key  data1  data2\n",
       "0   A      0      5\n",
       "1   B      1      0\n",
       "2   C      2      3\n",
       "3   A      3      3\n",
       "4   B      4      7\n",
       "5   C      5      9"
      ]
     },
     "execution_count": 2,
     "metadata": {},
     "output_type": "execute_result"
    }
   ],
   "source": [
    "rng = np.random.RandomState(0)\n",
    "df = pd.DataFrame({'key':['A','B','C','A','B','C'],\n",
    "                   'data1': range(6),\n",
    "                   'data2': rng.randint(0,10,6)},\n",
    "                  columns =['key','data1','data2'])\n",
    "df"
   ]
  },
  {
   "cell_type": "code",
   "execution_count": 3,
   "id": "30b5cd74-390a-4900-99ce-606a920c38f0",
   "metadata": {},
   "outputs": [
    {
     "name": "stderr",
     "output_type": "stream",
     "text": [
      "C:\\Users\\nimad\\AppData\\Local\\Temp\\ipykernel_16496\\2943854441.py:1: FutureWarning: The provided callable <built-in function min> is currently using SeriesGroupBy.min. In a future version of pandas, the provided callable will be used directly. To keep current behavior pass the string \"min\" instead.\n",
      "  df.groupby('key').aggregate([min,np.median,max])\n",
      "C:\\Users\\nimad\\AppData\\Local\\Temp\\ipykernel_16496\\2943854441.py:1: FutureWarning: The provided callable <function median at 0x000002137653D300> is currently using SeriesGroupBy.median. In a future version of pandas, the provided callable will be used directly. To keep current behavior pass the string \"median\" instead.\n",
      "  df.groupby('key').aggregate([min,np.median,max])\n",
      "C:\\Users\\nimad\\AppData\\Local\\Temp\\ipykernel_16496\\2943854441.py:1: FutureWarning: The provided callable <built-in function max> is currently using SeriesGroupBy.max. In a future version of pandas, the provided callable will be used directly. To keep current behavior pass the string \"max\" instead.\n",
      "  df.groupby('key').aggregate([min,np.median,max])\n",
      "C:\\Users\\nimad\\AppData\\Local\\Temp\\ipykernel_16496\\2943854441.py:1: FutureWarning: The provided callable <built-in function min> is currently using SeriesGroupBy.min. In a future version of pandas, the provided callable will be used directly. To keep current behavior pass the string \"min\" instead.\n",
      "  df.groupby('key').aggregate([min,np.median,max])\n"
     ]
    },
    {
     "data": {
      "text/html": [
       "<div>\n",
       "<style scoped>\n",
       "    .dataframe tbody tr th:only-of-type {\n",
       "        vertical-align: middle;\n",
       "    }\n",
       "\n",
       "    .dataframe tbody tr th {\n",
       "        vertical-align: top;\n",
       "    }\n",
       "\n",
       "    .dataframe thead tr th {\n",
       "        text-align: left;\n",
       "    }\n",
       "\n",
       "    .dataframe thead tr:last-of-type th {\n",
       "        text-align: right;\n",
       "    }\n",
       "</style>\n",
       "<table border=\"1\" class=\"dataframe\">\n",
       "  <thead>\n",
       "    <tr>\n",
       "      <th></th>\n",
       "      <th colspan=\"3\" halign=\"left\">data1</th>\n",
       "      <th colspan=\"3\" halign=\"left\">data2</th>\n",
       "    </tr>\n",
       "    <tr>\n",
       "      <th></th>\n",
       "      <th>min</th>\n",
       "      <th>median</th>\n",
       "      <th>max</th>\n",
       "      <th>min</th>\n",
       "      <th>median</th>\n",
       "      <th>max</th>\n",
       "    </tr>\n",
       "    <tr>\n",
       "      <th>key</th>\n",
       "      <th></th>\n",
       "      <th></th>\n",
       "      <th></th>\n",
       "      <th></th>\n",
       "      <th></th>\n",
       "      <th></th>\n",
       "    </tr>\n",
       "  </thead>\n",
       "  <tbody>\n",
       "    <tr>\n",
       "      <th>A</th>\n",
       "      <td>0</td>\n",
       "      <td>1.5</td>\n",
       "      <td>3</td>\n",
       "      <td>3</td>\n",
       "      <td>4.0</td>\n",
       "      <td>5</td>\n",
       "    </tr>\n",
       "    <tr>\n",
       "      <th>B</th>\n",
       "      <td>1</td>\n",
       "      <td>2.5</td>\n",
       "      <td>4</td>\n",
       "      <td>0</td>\n",
       "      <td>3.5</td>\n",
       "      <td>7</td>\n",
       "    </tr>\n",
       "    <tr>\n",
       "      <th>C</th>\n",
       "      <td>2</td>\n",
       "      <td>3.5</td>\n",
       "      <td>5</td>\n",
       "      <td>3</td>\n",
       "      <td>6.0</td>\n",
       "      <td>9</td>\n",
       "    </tr>\n",
       "  </tbody>\n",
       "</table>\n",
       "</div>"
      ],
      "text/plain": [
       "    data1            data2           \n",
       "      min median max   min median max\n",
       "key                                  \n",
       "A       0    1.5   3     3    4.0   5\n",
       "B       1    2.5   4     0    3.5   7\n",
       "C       2    3.5   5     3    6.0   9"
      ]
     },
     "execution_count": 3,
     "metadata": {},
     "output_type": "execute_result"
    }
   ],
   "source": [
    "df.groupby('key').aggregate([min,np.median,max])"
   ]
  },
  {
   "cell_type": "code",
   "execution_count": 4,
   "id": "55b5f327-95f3-40a2-acb2-99208e55a494",
   "metadata": {},
   "outputs": [
    {
     "data": {
      "text/html": [
       "<div>\n",
       "<style scoped>\n",
       "    .dataframe tbody tr th:only-of-type {\n",
       "        vertical-align: middle;\n",
       "    }\n",
       "\n",
       "    .dataframe tbody tr th {\n",
       "        vertical-align: top;\n",
       "    }\n",
       "\n",
       "    .dataframe thead th {\n",
       "        text-align: right;\n",
       "    }\n",
       "</style>\n",
       "<table border=\"1\" class=\"dataframe\">\n",
       "  <thead>\n",
       "    <tr style=\"text-align: right;\">\n",
       "      <th></th>\n",
       "      <th>data1</th>\n",
       "      <th>data2</th>\n",
       "    </tr>\n",
       "    <tr>\n",
       "      <th>key</th>\n",
       "      <th></th>\n",
       "      <th></th>\n",
       "    </tr>\n",
       "  </thead>\n",
       "  <tbody>\n",
       "    <tr>\n",
       "      <th>A</th>\n",
       "      <td>0</td>\n",
       "      <td>5</td>\n",
       "    </tr>\n",
       "    <tr>\n",
       "      <th>B</th>\n",
       "      <td>1</td>\n",
       "      <td>7</td>\n",
       "    </tr>\n",
       "    <tr>\n",
       "      <th>C</th>\n",
       "      <td>2</td>\n",
       "      <td>9</td>\n",
       "    </tr>\n",
       "  </tbody>\n",
       "</table>\n",
       "</div>"
      ],
      "text/plain": [
       "     data1  data2\n",
       "key              \n",
       "A        0      5\n",
       "B        1      7\n",
       "C        2      9"
      ]
     },
     "execution_count": 4,
     "metadata": {},
     "output_type": "execute_result"
    }
   ],
   "source": [
    "df.groupby('key').aggregate({'data1':'min',\n",
    "                             'data2':'max'})"
   ]
  },
  {
   "cell_type": "code",
   "execution_count": 7,
   "id": "acba2eb6-7ae6-4794-b2e1-bf758ce422f0",
   "metadata": {},
   "outputs": [
    {
     "data": {
      "text/html": [
       "<div>\n",
       "<style scoped>\n",
       "    .dataframe tbody tr th:only-of-type {\n",
       "        vertical-align: middle;\n",
       "    }\n",
       "\n",
       "    .dataframe tbody tr th {\n",
       "        vertical-align: top;\n",
       "    }\n",
       "\n",
       "    .dataframe thead th {\n",
       "        text-align: right;\n",
       "    }\n",
       "</style>\n",
       "<table border=\"1\" class=\"dataframe\">\n",
       "  <thead>\n",
       "    <tr style=\"text-align: right;\">\n",
       "      <th></th>\n",
       "      <th>data1</th>\n",
       "      <th>data2</th>\n",
       "    </tr>\n",
       "  </thead>\n",
       "  <tbody>\n",
       "    <tr>\n",
       "      <th>0</th>\n",
       "      <td>-1.5</td>\n",
       "      <td>1.0</td>\n",
       "    </tr>\n",
       "    <tr>\n",
       "      <th>1</th>\n",
       "      <td>-1.5</td>\n",
       "      <td>-3.5</td>\n",
       "    </tr>\n",
       "    <tr>\n",
       "      <th>2</th>\n",
       "      <td>-1.5</td>\n",
       "      <td>-3.0</td>\n",
       "    </tr>\n",
       "    <tr>\n",
       "      <th>3</th>\n",
       "      <td>1.5</td>\n",
       "      <td>-1.0</td>\n",
       "    </tr>\n",
       "    <tr>\n",
       "      <th>4</th>\n",
       "      <td>1.5</td>\n",
       "      <td>3.5</td>\n",
       "    </tr>\n",
       "    <tr>\n",
       "      <th>5</th>\n",
       "      <td>1.5</td>\n",
       "      <td>3.0</td>\n",
       "    </tr>\n",
       "  </tbody>\n",
       "</table>\n",
       "</div>"
      ],
      "text/plain": [
       "   data1  data2\n",
       "0   -1.5    1.0\n",
       "1   -1.5   -3.5\n",
       "2   -1.5   -3.0\n",
       "3    1.5   -1.0\n",
       "4    1.5    3.5\n",
       "5    1.5    3.0"
      ]
     },
     "execution_count": 7,
     "metadata": {},
     "output_type": "execute_result"
    }
   ],
   "source": [
    "df.groupby('key').transform(lambda x: x-x.mean())"
   ]
  },
  {
   "cell_type": "code",
   "execution_count": 8,
   "id": "bceb3968-f3b2-494c-afea-de19e2006e2c",
   "metadata": {},
   "outputs": [
    {
     "data": {
      "text/plain": [
       "datetime.datetime(2016, 7, 24, 0, 0)"
      ]
     },
     "execution_count": 8,
     "metadata": {},
     "output_type": "execute_result"
    }
   ],
   "source": [
    "from datetime import datetime\n",
    "\n",
    "datetime(year=2016, month=7, day = 24)"
   ]
  },
  {
   "cell_type": "code",
   "execution_count": 9,
   "id": "896b828b-c36e-491f-8e1c-28215f7e1a5f",
   "metadata": {},
   "outputs": [
    {
     "data": {
      "text/plain": [
       "datetime.datetime(2019, 5, 3, 0, 0)"
      ]
     },
     "execution_count": 9,
     "metadata": {},
     "output_type": "execute_result"
    }
   ],
   "source": [
    "from dateutil import parser\n",
    "date = parser.parse(\"3rd of May, 2019\")\n",
    "date"
   ]
  },
  {
   "cell_type": "code",
   "execution_count": 10,
   "id": "0b6b1260-3a11-43b9-b991-d20c2e25c8ed",
   "metadata": {},
   "outputs": [
    {
     "data": {
      "text/plain": [
       "'Friday'"
      ]
     },
     "execution_count": 10,
     "metadata": {},
     "output_type": "execute_result"
    }
   ],
   "source": [
    "date.strftime('%A')"
   ]
  },
  {
   "cell_type": "code",
   "execution_count": 11,
   "id": "48354e67-392f-4366-8f56-563173ba4211",
   "metadata": {},
   "outputs": [
    {
     "data": {
      "text/plain": [
       "Timestamp('1963-08-05 00:00:00')"
      ]
     },
     "execution_count": 11,
     "metadata": {},
     "output_type": "execute_result"
    }
   ],
   "source": [
    "date = pd.to_datetime('5th of August, 1963')\n",
    "date"
   ]
  },
  {
   "cell_type": "code",
   "execution_count": 12,
   "id": "bf025aeb-26f1-4644-b4a0-a9948170a1c3",
   "metadata": {},
   "outputs": [
    {
     "data": {
      "text/plain": [
       "'Monday'"
      ]
     },
     "execution_count": 12,
     "metadata": {},
     "output_type": "execute_result"
    }
   ],
   "source": [
    "date.strftime('%A')"
   ]
  },
  {
   "cell_type": "code",
   "execution_count": 15,
   "id": "973bdc6f-b87e-4023-8f97-2a2c2275ca58",
   "metadata": {},
   "outputs": [
    {
     "name": "stderr",
     "output_type": "stream",
     "text": [
      "C:\\Users\\nimad\\AppData\\Local\\Temp\\ipykernel_16496\\3592071386.py:1: FutureWarning: 'H' is deprecated and will be removed in a future version. Please use 'h' instead of 'H'.\n",
      "  date + pd.to_timedelta(np.arange(10),'H')\n"
     ]
    },
    {
     "data": {
      "text/plain": [
       "DatetimeIndex(['1963-08-05 00:00:00', '1963-08-05 01:00:00',\n",
       "               '1963-08-05 02:00:00', '1963-08-05 03:00:00',\n",
       "               '1963-08-05 04:00:00', '1963-08-05 05:00:00',\n",
       "               '1963-08-05 06:00:00', '1963-08-05 07:00:00',\n",
       "               '1963-08-05 08:00:00', '1963-08-05 09:00:00'],\n",
       "              dtype='datetime64[ns]', freq=None)"
      ]
     },
     "execution_count": 15,
     "metadata": {},
     "output_type": "execute_result"
    }
   ],
   "source": [
    "date + pd.to_timedelta(np.arange(10),'H')"
   ]
  },
  {
   "cell_type": "code",
   "execution_count": 16,
   "id": "c22c6e22-6c9b-429f-968d-579858b211d3",
   "metadata": {},
   "outputs": [],
   "source": [
    "index = pd.DatetimeIndex(['2015-4-25','2015-6-3','2016-7-19','2016-9-20'])\n",
    "\n",
    "data = pd.Series([0,1,2,3], index= index)"
   ]
  },
  {
   "cell_type": "code",
   "execution_count": 17,
   "id": "8238372d-3749-43af-a0fe-2f130d6bb0f5",
   "metadata": {},
   "outputs": [
    {
     "data": {
      "text/plain": [
       "2015-04-25    0\n",
       "2015-06-03    1\n",
       "2016-07-19    2\n",
       "2016-09-20    3\n",
       "dtype: int64"
      ]
     },
     "execution_count": 17,
     "metadata": {},
     "output_type": "execute_result"
    }
   ],
   "source": [
    "data"
   ]
  },
  {
   "cell_type": "code",
   "execution_count": 20,
   "id": "67b1d510-02a5-44cb-a9a9-a18d3250cbb3",
   "metadata": {},
   "outputs": [
    {
     "data": {
      "text/plain": [
       "2015-04-25    0\n",
       "2015-06-03    1\n",
       "2016-07-19    2\n",
       "dtype: int64"
      ]
     },
     "execution_count": 20,
     "metadata": {},
     "output_type": "execute_result"
    }
   ],
   "source": [
    "data['2015-4-25':'2016-7-19']"
   ]
  },
  {
   "cell_type": "code",
   "execution_count": 22,
   "id": "769fde08-2b51-4790-9c8e-647a796e19e8",
   "metadata": {},
   "outputs": [
    {
     "data": {
      "text/plain": [
       "2016-07-19    2\n",
       "2016-09-20    3\n",
       "dtype: int64"
      ]
     },
     "execution_count": 22,
     "metadata": {},
     "output_type": "execute_result"
    }
   ],
   "source": [
    "data['2016']"
   ]
  },
  {
   "cell_type": "code",
   "execution_count": 23,
   "id": "14aa4ef7-95cb-4710-9a64-981943f07da5",
   "metadata": {},
   "outputs": [
    {
     "data": {
      "text/plain": [
       "DatetimeIndex(['2016-02-28', '2020-07-15', '2018-06-05', '2017-08-06',\n",
       "               '2014-03-04'],\n",
       "              dtype='datetime64[ns]', freq=None)"
      ]
     },
     "execution_count": 23,
     "metadata": {},
     "output_type": "execute_result"
    }
   ],
   "source": [
    "dates = pd.to_datetime([datetime(2016,2,28), '15th of July, 2020','2018-Jun-5', '08-06-2017', '20140304'])\n",
    "dates"
   ]
  },
  {
   "cell_type": "code",
   "execution_count": 24,
   "id": "989c686c-2338-4c81-b2bb-f6ea5332dcd1",
   "metadata": {},
   "outputs": [
    {
     "data": {
      "text/plain": [
       "PeriodIndex(['2016-07', '2016-08', '2016-09', '2016-10', '2016-11', '2016-12',\n",
       "             '2017-01'],\n",
       "            dtype='period[M]')"
      ]
     },
     "execution_count": 24,
     "metadata": {},
     "output_type": "execute_result"
    }
   ],
   "source": [
    "pd.period_range('2016-7', periods = 7 , freq='M')"
   ]
  },
  {
   "cell_type": "code",
   "execution_count": 25,
   "id": "c07f4a0b-6a83-470a-af83-24f2d5c53411",
   "metadata": {},
   "outputs": [
    {
     "name": "stdout",
     "output_type": "stream",
     "text": [
      " Volume in drive C is Acer\n",
      " Volume Serial Number is 2E0D-DA93\n",
      "\n",
      " Directory of C:\\Users\\nimad\\Documents\\python\\class activities\n",
      "\n",
      "09/04/2024  07:42 AM    <DIR>          .\n",
      "08/28/2024  11:52 AM    <DIR>          ..\n",
      "09/04/2024  06:58 AM    <DIR>          .ipynb_checkpoints\n",
      "09/03/2024  08:00 AM            12,519 class10.ipynb\n",
      "09/04/2024  07:38 AM            17,954 class11.ipynb\n",
      "08/21/2024  07:10 AM             2,109 class3.ipynb\n",
      "08/25/2024  07:57 AM            15,480 class4.ipynb\n",
      "08/27/2024  08:00 AM            40,032 class5.ipynb\n",
      "08/28/2024  07:30 AM            43,241 class6.ipynb\n",
      "08/29/2024  08:00 AM            28,873 class7.ipynb\n",
      "09/01/2024  07:56 AM            41,811 class8.ipynb\n",
      "09/03/2024  07:43 AM           216,489 class9.ipynb\n",
      "08/18/2024  08:00 AM             1,664 Day1.ipynb\n",
      "08/20/2024  07:51 AM            11,298 day2.ipynb\n",
      "09/04/2024  07:42 AM            18,941 MSFT.csv\n",
      "08/27/2024  07:04 AM               988 president_heights.csv\n",
      "08/27/2024  07:47 AM            45,488 Seattle2014.csv\n",
      "09/03/2024  07:04 AM               872 state-abbrevs.csv\n",
      "09/03/2024  07:04 AM               835 state-areas.csv\n",
      "09/03/2024  07:04 AM            57,935 state-population.csv\n",
      "08/27/2024  07:42 AM             1,240 Untitled.ipynb\n",
      "              18 File(s)        557,769 bytes\n",
      "               3 Dir(s)  396,468,985,856 bytes free\n"
     ]
    }
   ],
   "source": [
    "ls\n"
   ]
  },
  {
   "cell_type": "code",
   "execution_count": 26,
   "id": "3396110d-6d38-4b7c-bcc7-f952f3112f2b",
   "metadata": {},
   "outputs": [
    {
     "data": {
      "text/html": [
       "<div>\n",
       "<style scoped>\n",
       "    .dataframe tbody tr th:only-of-type {\n",
       "        vertical-align: middle;\n",
       "    }\n",
       "\n",
       "    .dataframe tbody tr th {\n",
       "        vertical-align: top;\n",
       "    }\n",
       "\n",
       "    .dataframe thead th {\n",
       "        text-align: right;\n",
       "    }\n",
       "</style>\n",
       "<table border=\"1\" class=\"dataframe\">\n",
       "  <thead>\n",
       "    <tr style=\"text-align: right;\">\n",
       "      <th></th>\n",
       "      <th>Date</th>\n",
       "      <th>Open</th>\n",
       "      <th>High</th>\n",
       "      <th>Low</th>\n",
       "      <th>Close</th>\n",
       "      <th>Adj Close</th>\n",
       "      <th>Volume</th>\n",
       "    </tr>\n",
       "  </thead>\n",
       "  <tbody>\n",
       "    <tr>\n",
       "      <th>247</th>\n",
       "      <td>2022-08-09</td>\n",
       "      <td>279.640015</td>\n",
       "      <td>283.079987</td>\n",
       "      <td>277.609985</td>\n",
       "      <td>282.299988</td>\n",
       "      <td>282.299988</td>\n",
       "      <td>23405200</td>\n",
       "    </tr>\n",
       "    <tr>\n",
       "      <th>248</th>\n",
       "      <td>2022-08-10</td>\n",
       "      <td>288.170013</td>\n",
       "      <td>289.809998</td>\n",
       "      <td>286.940002</td>\n",
       "      <td>289.160004</td>\n",
       "      <td>289.160004</td>\n",
       "      <td>24687800</td>\n",
       "    </tr>\n",
       "    <tr>\n",
       "      <th>249</th>\n",
       "      <td>2022-08-11</td>\n",
       "      <td>290.850006</td>\n",
       "      <td>291.209991</td>\n",
       "      <td>286.510010</td>\n",
       "      <td>287.019989</td>\n",
       "      <td>287.019989</td>\n",
       "      <td>20065900</td>\n",
       "    </tr>\n",
       "    <tr>\n",
       "      <th>250</th>\n",
       "      <td>2022-08-12</td>\n",
       "      <td>288.480011</td>\n",
       "      <td>291.910004</td>\n",
       "      <td>286.940002</td>\n",
       "      <td>291.910004</td>\n",
       "      <td>291.910004</td>\n",
       "      <td>22601900</td>\n",
       "    </tr>\n",
       "    <tr>\n",
       "      <th>251</th>\n",
       "      <td>2022-08-15</td>\n",
       "      <td>291.000000</td>\n",
       "      <td>294.179993</td>\n",
       "      <td>290.109985</td>\n",
       "      <td>293.470001</td>\n",
       "      <td>293.470001</td>\n",
       "      <td>18072100</td>\n",
       "    </tr>\n",
       "  </tbody>\n",
       "</table>\n",
       "</div>"
      ],
      "text/plain": [
       "           Date        Open        High         Low       Close   Adj Close  \\\n",
       "247  2022-08-09  279.640015  283.079987  277.609985  282.299988  282.299988   \n",
       "248  2022-08-10  288.170013  289.809998  286.940002  289.160004  289.160004   \n",
       "249  2022-08-11  290.850006  291.209991  286.510010  287.019989  287.019989   \n",
       "250  2022-08-12  288.480011  291.910004  286.940002  291.910004  291.910004   \n",
       "251  2022-08-15  291.000000  294.179993  290.109985  293.470001  293.470001   \n",
       "\n",
       "       Volume  \n",
       "247  23405200  \n",
       "248  24687800  \n",
       "249  20065900  \n",
       "250  22601900  \n",
       "251  18072100  "
      ]
     },
     "execution_count": 26,
     "metadata": {},
     "output_type": "execute_result"
    }
   ],
   "source": [
    "msft = pd.read_csv('MSFT.csv')\n",
    "msft.tail()"
   ]
  },
  {
   "cell_type": "code",
   "execution_count": 27,
   "id": "94a37e06-20a0-4565-bc5b-9fcffd0f520f",
   "metadata": {},
   "outputs": [
    {
     "data": {
      "text/html": [
       "<div>\n",
       "<style scoped>\n",
       "    .dataframe tbody tr th:only-of-type {\n",
       "        vertical-align: middle;\n",
       "    }\n",
       "\n",
       "    .dataframe tbody tr th {\n",
       "        vertical-align: top;\n",
       "    }\n",
       "\n",
       "    .dataframe thead th {\n",
       "        text-align: right;\n",
       "    }\n",
       "</style>\n",
       "<table border=\"1\" class=\"dataframe\">\n",
       "  <thead>\n",
       "    <tr style=\"text-align: right;\">\n",
       "      <th></th>\n",
       "      <th>Open</th>\n",
       "      <th>High</th>\n",
       "      <th>Low</th>\n",
       "      <th>Close</th>\n",
       "      <th>Adj Close</th>\n",
       "      <th>Volume</th>\n",
       "    </tr>\n",
       "    <tr>\n",
       "      <th>Date</th>\n",
       "      <th></th>\n",
       "      <th></th>\n",
       "      <th></th>\n",
       "      <th></th>\n",
       "      <th></th>\n",
       "      <th></th>\n",
       "    </tr>\n",
       "  </thead>\n",
       "  <tbody>\n",
       "    <tr>\n",
       "      <th>2021-08-16</th>\n",
       "      <td>293.190002</td>\n",
       "      <td>294.820007</td>\n",
       "      <td>290.019989</td>\n",
       "      <td>294.600006</td>\n",
       "      <td>292.213959</td>\n",
       "      <td>22507600</td>\n",
       "    </tr>\n",
       "    <tr>\n",
       "      <th>2021-08-17</th>\n",
       "      <td>292.390015</td>\n",
       "      <td>293.429993</td>\n",
       "      <td>291.079987</td>\n",
       "      <td>293.079987</td>\n",
       "      <td>290.706207</td>\n",
       "      <td>20075300</td>\n",
       "    </tr>\n",
       "    <tr>\n",
       "      <th>2021-08-18</th>\n",
       "      <td>292.040009</td>\n",
       "      <td>294.820007</td>\n",
       "      <td>290.269989</td>\n",
       "      <td>290.730011</td>\n",
       "      <td>288.927338</td>\n",
       "      <td>21813000</td>\n",
       "    </tr>\n",
       "    <tr>\n",
       "      <th>2021-08-19</th>\n",
       "      <td>288.690002</td>\n",
       "      <td>297.470001</td>\n",
       "      <td>288.640015</td>\n",
       "      <td>296.769989</td>\n",
       "      <td>294.929871</td>\n",
       "      <td>29850500</td>\n",
       "    </tr>\n",
       "    <tr>\n",
       "      <th>2021-08-20</th>\n",
       "      <td>299.720001</td>\n",
       "      <td>305.839996</td>\n",
       "      <td>298.059998</td>\n",
       "      <td>304.359985</td>\n",
       "      <td>302.472809</td>\n",
       "      <td>40817600</td>\n",
       "    </tr>\n",
       "  </tbody>\n",
       "</table>\n",
       "</div>"
      ],
      "text/plain": [
       "                  Open        High         Low       Close   Adj Close  \\\n",
       "Date                                                                     \n",
       "2021-08-16  293.190002  294.820007  290.019989  294.600006  292.213959   \n",
       "2021-08-17  292.390015  293.429993  291.079987  293.079987  290.706207   \n",
       "2021-08-18  292.040009  294.820007  290.269989  290.730011  288.927338   \n",
       "2021-08-19  288.690002  297.470001  288.640015  296.769989  294.929871   \n",
       "2021-08-20  299.720001  305.839996  298.059998  304.359985  302.472809   \n",
       "\n",
       "              Volume  \n",
       "Date                  \n",
       "2021-08-16  22507600  \n",
       "2021-08-17  20075300  \n",
       "2021-08-18  21813000  \n",
       "2021-08-19  29850500  \n",
       "2021-08-20  40817600  "
      ]
     },
     "execution_count": 27,
     "metadata": {},
     "output_type": "execute_result"
    }
   ],
   "source": [
    "msft.set_index('Date', inplace = True)\n",
    "msft.head()"
   ]
  },
  {
   "cell_type": "code",
   "execution_count": null,
   "id": "7a8a3af8-210a-432d-920d-618d5cf1c93d",
   "metadata": {},
   "outputs": [],
   "source": []
  }
 ],
 "metadata": {
  "kernelspec": {
   "display_name": "Python 3 (ipykernel)",
   "language": "python",
   "name": "python3"
  },
  "language_info": {
   "codemirror_mode": {
    "name": "ipython",
    "version": 3
   },
   "file_extension": ".py",
   "mimetype": "text/x-python",
   "name": "python",
   "nbconvert_exporter": "python",
   "pygments_lexer": "ipython3",
   "version": "3.12.4"
  }
 },
 "nbformat": 4,
 "nbformat_minor": 5
}
