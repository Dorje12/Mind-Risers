{
 "cells": [
  {
   "cell_type": "code",
   "execution_count": 2,
   "id": "1abcd1a2-5fcf-43ba-ad8a-a5e84eae5981",
   "metadata": {},
   "outputs": [],
   "source": [
    "import numpy as np\n",
    "\n",
    "x = np.array([1,2,3])\n",
    "y = np.array([2,5,6])"
   ]
  },
  {
   "cell_type": "code",
   "execution_count": 3,
   "id": "92f616cc-d367-4f2d-ba0a-662ba00556ca",
   "metadata": {},
   "outputs": [
    {
     "data": {
      "text/plain": [
       "array([4, 5, 6])"
      ]
     },
     "execution_count": 3,
     "metadata": {},
     "output_type": "execute_result"
    }
   ],
   "source": [
    "x+3"
   ]
  },
  {
   "cell_type": "markdown",
   "id": "e4b64f05-f874-44a9-a3be-75754067501d",
   "metadata": {},
   "source": [
    "md_arr = np.ones((3,3))\n",
    "md_arr"
   ]
  }
 ],
 "metadata": {
  "kernelspec": {
   "display_name": "Python 3 (ipykernel)",
   "language": "python",
   "name": "python3"
  },
  "language_info": {
   "codemirror_mode": {
    "name": "ipython",
    "version": 3
   },
   "file_extension": ".py",
   "mimetype": "text/x-python",
   "name": "python",
   "nbconvert_exporter": "python",
   "pygments_lexer": "ipython3",
   "version": "3.12.4"
  }
 },
 "nbformat": 4,
 "nbformat_minor": 5
}
