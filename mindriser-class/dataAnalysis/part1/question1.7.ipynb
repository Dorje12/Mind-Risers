{
 "cells": [
  {
   "cell_type": "markdown",
   "id": "b17ec6ea-0edf-4d59-85f0-ac14bd2b25f1",
   "metadata": {},
   "source": [
    "#### Exercise 1.7 (areas of shapes)\n",
    "Create a program that can compute the areas of three shapes, triangles, rectangles and circles, when their dimensions are given.\n",
    "\n",
    "An endless loop should ask for which shape you want the area be calculated. An empty string as input will exit the loop. If the user gives a string that is none of the given shapes, the message “Unknown shape!” should be printed. Then it will ask for dimensions for that particular shape. When all the necessary dimensions are given, it prints the area, and starts the loop all over again. Use format specifier f for the area.\n",
    "\n",
    "What happens if you give incorrect dimensions, like giving string \"aa\" as radius? You don't have to check for errors in the input.\n",
    "\n",
    "Example interaction:\n",
    "\n",
    "Choose a shape (triangle, rectangle, circle): triangle\n",
    "Give base of the triangle: 20\n",
    "Give height of the triangle: 5\n",
    "The area is 50.000000\n",
    "Choose a shape (triangle, rectangle, circle): rectangel\n",
    "Unknown shape!\n",
    "Choose a shape (triangle, rectangle, circle): rectangle\n",
    "Give width of the rectangle: 20\n",
    "Give height of the rectangle: 4\n",
    "The area is 80.000000\n",
    "Choose a shape (triangle, rectangle, circle): circle\n",
    "Give radius of the circle: 10\n",
    "The area is 314.159265\n",
    "Choose a shape (triangle, rectangle, circle): "
   ]
  },
  {
   "cell_type": "code",
   "execution_count": null,
   "id": "3766b04f-8802-49af-9d96-900f7b4b4548",
   "metadata": {},
   "outputs": [],
   "source": [
    "import math  \n",
    "\n",
    "while True:\n",
    "    shape = input(\"Choose a shape (triangle, rectangle, circle) or press Enter to quit: \").strip().lower()\n",
    "    \n",
    "    if shape == \"triangle\":\n",
    "        base  = float(input(\"Give base of the triangle: \"))\n",
    "        height = float(input(\"Give height of the triangle: \"))\n",
    "        area = (1/2) * base * height\n",
    "        print(f\"The area is {area:.2f}\")\n",
    "\n",
    "    elif shape == \"rectangle\":\n",
    "        width = float(input(\"Give width of the rectangle: \"))\n",
    "        height = float(input(\"Give height of the rectangle: \"))\n",
    "        area = width * height\n",
    "        print(f\"The area is {area:.2f}\")\n",
    "\n",
    "    elif shape == \"circle\":\n",
    "        radius = float(input(\"Give radius of the circle: \"))\n",
    "        area = math.pi * radius * radius  \n",
    "        print(f\"The area is {area:.2f}\")\n",
    "    \n",
    "    elif shape == \"\":\n",
    "        break  \n",
    "\n",
    "    else:\n",
    "        print(\"Unknown shape. Please try again.\")\n",
    "\n",
    "print(\"Program terminated.\")\n"
   ]
  },
  {
   "cell_type": "code",
   "execution_count": null,
   "id": "61219a81-a7c2-462e-83e0-1627196c4f3c",
   "metadata": {},
   "outputs": [],
   "source": []
  }
 ],
 "metadata": {
  "kernelspec": {
   "display_name": "Python 3 (ipykernel)",
   "language": "python",
   "name": "python3"
  },
  "language_info": {
   "codemirror_mode": {
    "name": "ipython",
    "version": 3
   },
   "file_extension": ".py",
   "mimetype": "text/x-python",
   "name": "python",
   "nbconvert_exporter": "python",
   "pygments_lexer": "ipython3",
   "version": "3.12.4"
  }
 },
 "nbformat": 4,
 "nbformat_minor": 5
}
