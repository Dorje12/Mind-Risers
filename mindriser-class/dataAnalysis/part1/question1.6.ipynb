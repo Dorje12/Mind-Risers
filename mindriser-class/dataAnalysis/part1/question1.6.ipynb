{
 "cells": [
  {
   "cell_type": "markdown",
   "id": "d012f161-aa73-4919-8f65-f83b591f829a",
   "metadata": {},
   "source": [
    "#### Exercise 1.6 (triple square)\n",
    "Write two functions: triple and square. Function triple multiplies its parameter by three. Function square raises its parameter to the power of two. For example, we have equalities triple(5)==15 and square(5)==25.\n",
    "\n"
   ]
  },
  {
   "cell_type": "markdown",
   "id": "25351fc6-1a28-41fb-b47d-12ccab15cf7b",
   "metadata": {},
   "source": [
    "#### Part 1.\n",
    "In the main function write a for loop that iterates through values 1 to 10, and for each value prints its triple and its square. The output should be as follows:\n",
    "\n",
    "triple(1)==3 square(1)==1\n",
    "triple(2)==6 square(2)==4\n",
    "..."
   ]
  },
  {
   "cell_type": "code",
   "execution_count": 5,
   "id": "995074f3-8595-47ee-bd47-401b418dc908",
   "metadata": {},
   "outputs": [
    {
     "name": "stdout",
     "output_type": "stream",
     "text": [
      "triple(0)==0  square(0) ==0\n",
      "triple(1)==3  square(1) ==1\n",
      "triple(2)==6  square(2) ==4\n",
      "triple(3)==9  square(3) ==9\n",
      "triple(4)==12  square(4) ==16\n",
      "triple(5)==15  square(5) ==25\n",
      "triple(6)==18  square(6) ==36\n",
      "triple(7)==21  square(7) ==49\n",
      "triple(8)==24  square(8) ==64\n",
      "triple(9)==27  square(9) ==81\n",
      "triple(10)==30  square(10) ==100\n"
     ]
    }
   ],
   "source": [
    "for i in range (0,11):\n",
    "    print(f\"triple({i})=={3*i}  square({i}) =={i*i}\")"
   ]
  },
  {
   "cell_type": "markdown",
   "id": "8f3b9463-c362-49fc-aa61-30f5ca4fcdcf",
   "metadata": {},
   "source": [
    "#### Part 2.\n",
    "Now modify this for loop so that it stops iteration when the square of a value is larger than the triple of the value, without printing anything in the last iteration.\n",
    "\n",
    "Note that the test cases check that both functions triple and square are called exactly once per iteration."
   ]
  },
  {
   "cell_type": "code",
   "execution_count": 6,
   "id": "b05188e8-7645-4af1-b386-01b765dae4d0",
   "metadata": {},
   "outputs": [
    {
     "name": "stdout",
     "output_type": "stream",
     "text": [
      "triple(1)==3 square(1)==1\n",
      "triple(2)==6 square(2)==4\n",
      "triple(3)==9 square(3)==9\n"
     ]
    }
   ],
   "source": [
    "def main():\n",
    "    for i in range(1, 11):\n",
    "        triple_value = i * 3\n",
    "        square_value = i * i\n",
    "        \n",
    "        if square_value > triple_value:\n",
    "            break\n",
    "        \n",
    "        print(f\"triple({i})=={triple_value} square({i})=={square_value}\")\n",
    "\n",
    "main()\n"
   ]
  },
  {
   "cell_type": "code",
   "execution_count": null,
   "id": "9e089317-3aa1-47cd-8f01-566385e848d3",
   "metadata": {},
   "outputs": [],
   "source": []
  }
 ],
 "metadata": {
  "kernelspec": {
   "display_name": "Python 3 (ipykernel)",
   "language": "python",
   "name": "python3"
  },
  "language_info": {
   "codemirror_mode": {
    "name": "ipython",
    "version": 3
   },
   "file_extension": ".py",
   "mimetype": "text/x-python",
   "name": "python",
   "nbconvert_exporter": "python",
   "pygments_lexer": "ipython3",
   "version": "3.12.4"
  }
 },
 "nbformat": 4,
 "nbformat_minor": 5
}
