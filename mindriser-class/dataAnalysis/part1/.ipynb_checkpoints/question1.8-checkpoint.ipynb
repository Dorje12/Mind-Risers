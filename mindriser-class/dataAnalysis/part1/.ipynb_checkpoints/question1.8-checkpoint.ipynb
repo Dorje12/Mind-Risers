{
 "cells": [
  {
   "cell_type": "markdown",
   "id": "378a066b-690c-4e5e-ad06-6ec5a6abd41b",
   "metadata": {},
   "source": [
    "#### Exercise 1.8 (solve quadratic)\n",
    "In mathematics, the quadratic equation\n",
    "\n",
    "a\n",
    "x\n",
    "2\n",
    "+\n",
    "b\n",
    "x\n",
    "+\n",
    "c\n",
    "=\n",
    "0\n",
    "ax \n",
    "2\n",
    " +bx+c=0\n",
    "can be solved with the formula\n",
    "\n",
    "x\n",
    "=\n",
    "−\n",
    "b\n",
    "±\n",
    "b\n",
    "2\n",
    "−\n",
    "4\n",
    "a\n",
    "c\n",
    "2\n",
    "a\n",
    "x= \n",
    "2a\n",
    "−b± \n",
    "b \n",
    "2\n",
    " −4ac\n",
    "​\n",
    " \n",
    "​\n",
    " \n",
    "Write a function solve_quadratic, that returns both solutions of a generic quadratic as a pair (2-tuple) when the coefficients are given as parameters. It should work like this:\n",
    "\n",
    "print(solve_quadratic(1,-3,2))\n",
    "(2.0,1.0)\n",
    "print(solve_quadratic(1,2,1))\n",
    "(-1.0,-1.0)\n",
    "You may want to use the math.sqrt function from the math module in your solution. Test that your function works in the main function!\n",
    "\n"
   ]
  },
  {
   "cell_type": "code",
   "execution_count": 1,
   "id": "1c4e57fc-e683-4a10-a091-30083019684c",
   "metadata": {},
   "outputs": [
    {
     "name": "stdout",
     "output_type": "stream",
     "text": [
      "(2.0, 1.0)\n",
      "(-1.0, -1.0)\n"
     ]
    }
   ],
   "source": [
    "import math\n",
    "\n",
    "def solve_quadratic(a, b, c):\n",
    "    # Calculate the discriminant\n",
    "    discriminant = b**2 - 4*a*c\n",
    "    \n",
    "    # Check if the discriminant is negative, zero, or positive\n",
    "    if discriminant > 0:\n",
    "        # Two real and distinct roots\n",
    "        root1 = (-b + math.sqrt(discriminant)) / (2 * a)\n",
    "        root2 = (-b - math.sqrt(discriminant)) / (2 * a)\n",
    "    elif discriminant == 0:\n",
    "        # One real root (both roots are the same)\n",
    "        root1 = root2 = -b / (2 * a)\n",
    "    else:\n",
    "        # Complex roots (not handled in this function)\n",
    "        raise ValueError(\"Complex roots are not handled by this function.\")\n",
    "    \n",
    "    return (root1, root2)\n",
    "\n",
    "# Test the function\n",
    "def main():\n",
    "    print(solve_quadratic(1, -3, 2))  # Expected output: (2.0, 1.0)\n",
    "    print(solve_quadratic(1, 2, 1))   # Expected output: (-1.0, -1.0)\n",
    "\n",
    "if __name__ == \"__main__\":\n",
    "    main()\n"
   ]
  }
 ],
 "metadata": {
  "kernelspec": {
   "display_name": "Python 3 (ipykernel)",
   "language": "python",
   "name": "python3"
  },
  "language_info": {
   "codemirror_mode": {
    "name": "ipython",
    "version": 3
   },
   "file_extension": ".py",
   "mimetype": "text/x-python",
   "name": "python",
   "nbconvert_exporter": "python",
   "pygments_lexer": "ipython3",
   "version": "3.12.4"
  }
 },
 "nbformat": 4,
 "nbformat_minor": 5
}
