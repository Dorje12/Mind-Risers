{
 "cells": [
  {
   "cell_type": "markdown",
   "id": "c451b92f-fe96-4fef-bcf5-539b99535ec9",
   "metadata": {},
   "source": [
    "#### Exercise 1.9 (merge)\n",
    "Suppose we have two lists L1 and L2 that contain integers which are sorted in ascending order. Create a function merge that gets these lists as parameters and returns a new sorted list L that has all the elements of L1 and L2. So, len(L) should equal to len(L1)+len(L2). Do this using the fact that both lists are already sorted. You can’t use the sorted function or the sort method in implementing the merge method. You can however use these sorted in the main function for creating inputs to the merge function. Test with a couple of examples in the main function that your solution works correctly.\n",
    "\n",
    "Note: In Python argument lists are passed by reference to the function, they are not copied! Make sure you don't modify the original lists of the caller."
   ]
  },
  {
   "cell_type": "code",
   "execution_count": 10,
   "id": "5fdafde9-b94c-41b5-927c-b4c600fb03ed",
   "metadata": {},
   "outputs": [
    {
     "name": "stdout",
     "output_type": "stream",
     "text": [
      "None\n"
     ]
    }
   ],
   "source": [
    "def merge(l1,l2):\n",
    "    l1.extend(l2)\n",
    "    print(l1)\n",
    "one= [1,2,3,4]\n",
    "two =[5,6,7,8]\n",
    "merge(one,two)"
   ]
  },
  {
   "cell_type": "code",
   "execution_count": null,
   "id": "344a05e1-b7a0-49b3-ad20-f956b8368b6f",
   "metadata": {},
   "outputs": [],
   "source": []
  }
 ],
 "metadata": {
  "kernelspec": {
   "display_name": "Python 3 (ipykernel)",
   "language": "python",
   "name": "python3"
  },
  "language_info": {
   "codemirror_mode": {
    "name": "ipython",
    "version": 3
   },
   "file_extension": ".py",
   "mimetype": "text/x-python",
   "name": "python",
   "nbconvert_exporter": "python",
   "pygments_lexer": "ipython3",
   "version": "3.12.4"
  }
 },
 "nbformat": 4,
 "nbformat_minor": 5
}
