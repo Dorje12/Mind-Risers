{
 "cells": [
  {
   "cell_type": "markdown",
   "id": "d14ff2fd-b9fb-4009-8ce1-7e9ef7c4d92c",
   "metadata": {},
   "source": [
    "#### Exercise 1.1 (hello world)\n",
    "Fill in the missing piece in the solution stub file hello_world.py in folder src to make it print the following:\n",
    "\n",
    "Hello, world!\n",
    "Make sure you use correct indenting. You can run it with command python3 src/hello_world.py. If the output looks good, then you can test it with command tmc test. If the tests pass, submit your solution to the server with command tmc submit."
   ]
  },
  {
   "cell_type": "code",
   "execution_count": 2,
   "id": "b2596816-c38e-4d0b-8b6a-68d1ca94cfbe",
   "metadata": {},
   "outputs": [
    {
     "name": "stdout",
     "output_type": "stream",
     "text": [
      "Hello, world!\n"
     ]
    }
   ],
   "source": [
    "print(\"Hello, world!\")"
   ]
  },
  {
   "cell_type": "markdown",
   "id": "df288bfb-0474-4f2c-8da8-18305ada8be3",
   "metadata": {},
   "source": [
    "#### Exercise 1.2 (compliment)\n",
    "Fill in the stub solution to make the program work as follows. The program should ask the user for an input, and then print an answer as the examples below show.\n",
    "\n",
    "What country are you from? Sweden\n",
    "I have heard that Sweden is a beautiful country.\n",
    "What country are you from? Chile  \n",
    "I have heard that Chile is a beautiful country."
   ]
  },
  {
   "cell_type": "code",
   "execution_count": 4,
   "id": "1f0b4fec-9713-4482-b404-8cf739a67ab3",
   "metadata": {},
   "outputs": [
    {
     "name": "stdin",
     "output_type": "stream",
     "text": [
      "What country are you from?  Nepal\n"
     ]
    },
    {
     "name": "stdout",
     "output_type": "stream",
     "text": [
      "Nepal I have heard that Nepal is a beautiful country\n"
     ]
    }
   ],
   "source": [
    "country = input(\"What country are you from? \")\n",
    "print(f\"{country} I have heard that {country} is a beautiful country\")"
   ]
  },
  {
   "cell_type": "markdown",
   "id": "6f28773c-dd15-4ce9-9fd8-f8048eb55966",
   "metadata": {},
   "source": [
    "#### Exercise 1.3 (multiplication)\n",
    "Make a program that gives the following output. You should use a for loop in your solution.\n",
    "\n",
    "4 multiplied by 0 is 0\n",
    "4 multiplied by 1 is 4\n",
    "4 multiplied by 2 is 8\n",
    "4 multiplied by 3 is 12\n",
    "4 multiplied by 4 is 16\n",
    "4 multiplied by 5 is 20\n",
    "4 multiplied by 6 is 24\n",
    "4 multiplied by 7 is 28\n",
    "4 multiplied by 8 is 32\n",
    "4 multiplied by 9 is 36\n",
    "4 multiplied by 10 is 40"
   ]
  },
  {
   "cell_type": "code",
   "execution_count": 7,
   "id": "3892755d-98bc-4720-8420-c8daf4cdb34b",
   "metadata": {},
   "outputs": [
    {
     "name": "stdout",
     "output_type": "stream",
     "text": [
      "4 multiplied by 0 is 0\n",
      "4 multiplied by 1 is 4\n",
      "4 multiplied by 2 is 8\n",
      "4 multiplied by 3 is 12\n",
      "4 multiplied by 4 is 16\n",
      "4 multiplied by 5 is 20\n",
      "4 multiplied by 6 is 24\n",
      "4 multiplied by 7 is 28\n",
      "4 multiplied by 8 is 32\n",
      "4 multiplied by 9 is 36\n",
      "4 multiplied by 10 is 40\n"
     ]
    }
   ],
   "source": [
    "table = 4\n",
    "for i in range (0,11):\n",
    "    print(f\"{table} multiplied by {i} is {table*i}\")"
   ]
  },
  {
   "cell_type": "code",
   "execution_count": null,
   "id": "7d11b6b9-429e-4490-bb37-acbe561af82d",
   "metadata": {},
   "outputs": [],
   "source": []
  }
 ],
 "metadata": {
  "kernelspec": {
   "display_name": "Python 3 (ipykernel)",
   "language": "python",
   "name": "python3"
  },
  "language_info": {
   "codemirror_mode": {
    "name": "ipython",
    "version": 3
   },
   "file_extension": ".py",
   "mimetype": "text/x-python",
   "name": "python",
   "nbconvert_exporter": "python",
   "pygments_lexer": "ipython3",
   "version": "3.12.4"
  }
 },
 "nbformat": 4,
 "nbformat_minor": 5
}
