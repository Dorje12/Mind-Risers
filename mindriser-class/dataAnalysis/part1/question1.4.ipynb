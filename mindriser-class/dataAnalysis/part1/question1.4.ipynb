{
 "cells": [
  {
   "cell_type": "markdown",
   "id": "6d6f1b75-3323-4bc2-a9ea-c59637b631e6",
   "metadata": {},
   "source": [
    "#### Exercise 1.4 (multiplication table)\n",
    "In the main function print a multiplication table, which is shown below:\n",
    "\n",
    "   1   2   3   4   5   6   7   8   9  10\n",
    "   2   4   6   8  10  12  14  16  18  20\n",
    "   3   6   9  12  15  18  21  24  27  30\n",
    "   4   8  12  16  20  24  28  32  36  40\n",
    "   5  10  15  20  25  30  35  40  45  50\n",
    "   6  12  18  24  30  36  42  48  54  60\n",
    "   7  14  21  28  35  42  49  56  63  70\n",
    "   8  16  24  32  40  48  56  64  72  80\n",
    "   9  18  27  36  45  54  63  72  81  90\n",
    "  10  20  30  40  50  60  70  80  90 100\n",
    "For example at row 4 and column 9 we have 4*9=36.\n",
    "\n",
    "Use two nested for loops to achive this. Note that you can use the following form to stop the print function from automatically starting a new line:\n",
    "\n",
    "print(\"text\", end=\"\")\n",
    "print(\"more text\")\n",
    "textmore text\n",
    "Print the numbers in a field with width four, so that the numbers are nicely aligned. For instructions on how adjust the field width refer to pyformat.info."
   ]
  },
  {
   "cell_type": "code",
   "execution_count": 5,
   "id": "116f9a61-85b8-47be-affe-0b8a860a41ab",
   "metadata": {},
   "outputs": [
    {
     "name": "stdout",
     "output_type": "stream",
     "text": [
      "   1    2    3    4    5    6    7    8    9   10 \n",
      "   2    4    6    8   10   12   14   16   18   20 \n",
      "   3    6    9   12   15   18   21   24   27   30 \n",
      "   4    8   12   16   20   24   28   32   36   40 \n",
      "   5   10   15   20   25   30   35   40   45   50 \n",
      "   6   12   18   24   30   36   42   48   54   60 \n",
      "   7   14   21   28   35   42   49   56   63   70 \n",
      "   8   16   24   32   40   48   56   64   72   80 \n",
      "   9   18   27   36   45   54   63   72   81   90 \n",
      "  10   20   30   40   50   60   70   80   90  100 \n"
     ]
    }
   ],
   "source": [
    "for i in range(1, 11):\n",
    "    for j in range(1, 11):\n",
    "        print(f\"{i*j:4}\", end=\" \")\n",
    "    print()\n"
   ]
  },
  {
   "cell_type": "markdown",
   "id": "72d68b29-0579-4a4d-9e16-bd565494115f",
   "metadata": {},
   "source": [
    "\n",
    "#### Exercise 1.5 (two dice)\n",
    "Let us consider throwing two dice. (A dice can give a value between 1 and 6.) Use two nested for loops in the main function to iterate through all possible combinations the pair of dice can give. There are 36 possible combinations. Print all those combinations as (ordered) pairs that sum to 5. For example, your printout should include the pair (2,3). Print one pair per line."
   ]
  },
  {
   "cell_type": "code",
   "execution_count": 9,
   "id": "a009f306-827a-4c92-bb55-a9d83f2b650a",
   "metadata": {},
   "outputs": [
    {
     "name": "stdout",
     "output_type": "stream",
     "text": [
      "(1,4)\n",
      "(2,3)\n",
      "(3,2)\n",
      "(4,1)\n"
     ]
    }
   ],
   "source": [
    "for i in range(1,7):\n",
    "    for j in range(1,7):\n",
    "        if( i+j==5):\n",
    "            print(f\"({i},{j})\")\n",
    "        "
   ]
  },
  {
   "cell_type": "code",
   "execution_count": null,
   "id": "743601bf-0481-40ad-807c-112b1ce13661",
   "metadata": {},
   "outputs": [],
   "source": []
  }
 ],
 "metadata": {
  "kernelspec": {
   "display_name": "Python 3 (ipykernel)",
   "language": "python",
   "name": "python3"
  },
  "language_info": {
   "codemirror_mode": {
    "name": "ipython",
    "version": 3
   },
   "file_extension": ".py",
   "mimetype": "text/x-python",
   "name": "python",
   "nbconvert_exporter": "python",
   "pygments_lexer": "ipython3",
   "version": "3.12.4"
  }
 },
 "nbformat": 4,
 "nbformat_minor": 5
}
