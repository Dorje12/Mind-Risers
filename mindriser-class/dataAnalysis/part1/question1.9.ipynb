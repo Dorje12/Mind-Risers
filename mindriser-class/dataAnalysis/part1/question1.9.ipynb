{
 "cells": [
  {
   "cell_type": "markdown",
   "id": "c451b92f-fe96-4fef-bcf5-539b99535ec9",
   "metadata": {},
   "source": [
    "#### Exercise 1.9 (merge)\n",
    "Suppose we have two lists L1 and L2 that contain integers which are sorted in ascending order. Create a function merge that gets these lists as parameters and returns a new sorted list L that has all the elements of L1 and L2. So, len(L) should equal to len(L1)+len(L2). Do this using the fact that both lists are already sorted. You can’t use the sorted function or the sort method in implementing the merge method. You can however use these sorted in the main function for creating inputs to the merge function. Test with a couple of examples in the main function that your solution works correctly.\n",
    "\n",
    "Note: In Python argument lists are passed by reference to the function, they are not copied! Make sure you don't modify the original lists of the caller."
   ]
  },
  {
   "cell_type": "code",
   "execution_count": 11,
   "id": "5fdafde9-b94c-41b5-927c-b4c600fb03ed",
   "metadata": {},
   "outputs": [
    {
     "name": "stdout",
     "output_type": "stream",
     "text": [
      "[1, 2, 3, 4, 5, 6, 7, 8]\n"
     ]
    }
   ],
   "source": [
    "def merge(l1,l2):\n",
    "    l1.extend(l2)\n",
    "    print(l1)\n",
    "one= [1,2,3,4]\n",
    "two =[5,6,7,8]\n",
    "merge(one,two)"
   ]
  },
  {
   "cell_type": "markdown",
   "id": "87c8cfaf-8319-43b0-8e85-3d216d9016f5",
   "metadata": {},
   "source": [
    "\n",
    "\n",
    "#### Exercise 1.10 (detect ranges)\n",
    "Create a function named detect_ranges that gets a list of integers as a parameter. The function should then sort this list, and transform the list into another list where pairs are used for all the detected intervals. So 3,4,5,6 is replaced by the pair (3,7). Numbers that are not part of any interval result just single numbers. The resulting list consists of these numbers and pairs, separated by commas. An example of how this function works:\n",
    "\n",
    "print(detect_ranges([2,5,4,8,12,6,7,10,13]))\n",
    "[2,(4,9),10,(12,14)]\n",
    "Note that the second element of the pair does not belong to the range. This is consistent with the way Python's range function works. You may assume that no element in the input list appears multiple times."
   ]
  },
  {
   "cell_type": "code",
   "execution_count": 13,
   "id": "5f0a7e8b-be52-4aa7-983d-107c697462d9",
   "metadata": {},
   "outputs": [
    {
     "name": "stdout",
     "output_type": "stream",
     "text": [
      "[(1, 11)]\n"
     ]
    }
   ],
   "source": [
    "def detect_ranges(lst):\n",
    "    if not lst:\n",
    "        return []\n",
    "    \n",
    "    # Sort the list\n",
    "    sorted_lst = sorted(lst)\n",
    "    \n",
    "    # Initialize the result list\n",
    "    result = []\n",
    "    \n",
    "    # Initialize the start of the current range\n",
    "    start = sorted_lst[0]\n",
    "    end = start\n",
    "    \n",
    "    # Traverse the sorted list to detect ranges\n",
    "    for num in sorted_lst[1:]:\n",
    "        if num == end + 1:\n",
    "            # Extend the current range\n",
    "            end = num\n",
    "        else:\n",
    "            # End the current range and add it to the result\n",
    "            if start == end:\n",
    "                result.append(start)\n",
    "            else:\n",
    "                result.append((start, end + 1))\n",
    "            # Start a new range\n",
    "            start = num\n",
    "            end = start\n",
    "    \n",
    "    # Add the last range or single number\n",
    "    if start == end:\n",
    "        result.append(start)\n",
    "    else:\n",
    "        result.append((start, end + 1))\n",
    "    \n",
    "    return result\n",
    "\n",
    "# Test the function\n",
    "print(detect_ranges([1,2,3,4,5,6,7,8,9,10]))\n",
    "# Output should be: [2, (4, 9), 10, (12, 14)]\n"
   ]
  },
  {
   "cell_type": "code",
   "execution_count": null,
   "id": "e2ad1bde-c274-4a25-99c6-4584a4715c79",
   "metadata": {},
   "outputs": [],
   "source": []
  }
 ],
 "metadata": {
  "kernelspec": {
   "display_name": "Python 3 (ipykernel)",
   "language": "python",
   "name": "python3"
  },
  "language_info": {
   "codemirror_mode": {
    "name": "ipython",
    "version": 3
   },
   "file_extension": ".py",
   "mimetype": "text/x-python",
   "name": "python",
   "nbconvert_exporter": "python",
   "pygments_lexer": "ipython3",
   "version": "3.12.4"
  }
 },
 "nbformat": 4,
 "nbformat_minor": 5
}
