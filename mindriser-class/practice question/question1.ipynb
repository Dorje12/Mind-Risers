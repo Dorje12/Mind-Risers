{
 "cells": [
  {
   "cell_type": "code",
   "execution_count": 1,
   "id": "67b6a4f7-ace7-4548-bfc2-7433960fbee2",
   "metadata": {},
   "outputs": [],
   "source": [
    "#printing the whole numbers\n"
   ]
  },
  {
   "cell_type": "code",
   "execution_count": 1,
   "id": "1d7aa856-5acc-4eb2-9c81-f908cb5e5ede",
   "metadata": {},
   "outputs": [
    {
     "name": "stdout",
     "output_type": "stream",
     "text": [
      "2\n",
      "4\n",
      "6\n",
      "8\n",
      "10\n",
      "12\n",
      "14\n",
      "16\n",
      "18\n",
      "20\n",
      "22\n",
      "24\n",
      "26\n",
      "28\n",
      "30\n"
     ]
    }
   ],
   "source": [
    "number = 2\n",
    "while number<=30:\n",
    "    if(number%2==0):\n",
    "        print(number)\n",
    "    number+=1"
   ]
  },
  {
   "cell_type": "code",
   "execution_count": null,
   "id": "b4094ede-fb68-4f96-8921-d341c31a3253",
   "metadata": {},
   "outputs": [],
   "source": [
    "initial =0\n",
    "final =10\n",
    "number = int(input(\"Enter a number: \"))\n",
    "while initial<final:\n",
    "    multiple = number* initial \n",
    "    print(f\"{number} multiplied by {initial} is {multiple}\")\n",
    "    initial+=1\n",
    "    "
   ]
  },
  {
   "cell_type": "code",
   "execution_count": null,
   "id": "a494ff5e-5b19-45d3-aadd-b9f0591bf519",
   "metadata": {},
   "outputs": [],
   "source": []
  }
 ],
 "metadata": {
  "kernelspec": {
   "display_name": "Python 3 (ipykernel)",
   "language": "python",
   "name": "python3"
  },
  "language_info": {
   "codemirror_mode": {
    "name": "ipython",
    "version": 3
   },
   "file_extension": ".py",
   "mimetype": "text/x-python",
   "name": "python",
   "nbconvert_exporter": "python",
   "pygments_lexer": "ipython3",
   "version": "3.12.4"
  }
 },
 "nbformat": 4,
 "nbformat_minor": 5
}
