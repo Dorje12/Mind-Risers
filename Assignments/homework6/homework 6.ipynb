{
 "cells": [
  {
   "cell_type": "markdown",
   "id": "dcf9dd78-5922-46d6-9f13-9c669506fd1a",
   "metadata": {},
   "source": [
    "#### Exercise 1: Write a program that categorizes each mail message in mbox.txt by which day of the week the commit was done. To do this look for lines that start with “From”, then look for the third word and keep a running count of each of the days of the week. At the end of the program print out the contents of your dictionary (order does not matter).\n",
    "Sample Line:\n",
    "From stephen.marquard@uct.ac.za Sat Jan 5 09:14:16 2008\n",
    "Sample Execution:\n",
    "python dow.py\n",
    "Enter a file name: mbox-short.txt\n",
    "{'Fri': 20, 'Thu': 6, 'Sat': 1}\n",
    "-------------------------------------------------\n"
   ]
  },
  {
   "cell_type": "code",
   "execution_count": null,
   "id": "1548e584-20b9-4b91-a390-44f8e664efdd",
   "metadata": {},
   "outputs": [],
   "source": []
  },
  {
   "cell_type": "markdown",
   "id": "6b9b087a-3002-4b42-8e6a-a6393325f324",
   "metadata": {},
   "source": [
    "#### Exercise 2: Write a program to read through a mail log, build a histogram using a dictionary to count how many messages have come from each email address, and print the dictionary.\n",
    "Enter file name: mbox-short.txt\n",
    "{'gopal.ramasammycook@gmail.com': 1, 'louis@media.berkeley.edu': 3,\n",
    "'cwen@iupui.edu': 5, 'antranig@caret.cam.ac.uk': 1,\n",
    "'rjlowe@iupui.edu': 2, 'gsilver@umich.edu': 3,\n",
    "'david.horwitz@uct.ac.za': 4, 'wagnermr@iupui.edu': 1,\n",
    "'zqian@umich.edu': 4, 'stephen.marquard@uct.ac.za': 2,\n",
    "'ray@media.berkeley.edu': 1}\n"
   ]
  },
  {
   "cell_type": "code",
   "execution_count": null,
   "id": "430dbc8d-08c8-4acd-9c96-ac3b95365598",
   "metadata": {},
   "outputs": [],
   "source": []
  },
  {
   "cell_type": "markdown",
   "id": "1317a8e1-3d4d-415f-a87a-20acd30d7425",
   "metadata": {},
   "source": [
    "#### Exercise 3: Add code to the above program to figure out who has the most messages in the file. After all the data has been read and the dictionary has been created, look through the dictionary using a maximum loop (see Chapter 5: Maximum and minimum loops) to find who has the most messages and print how many messages the person has.\n",
    "Enter a file name: mbox-short.txt\n",
    "cwen@iupui.edu 5\n",
    "Enter a file name: mbox.txt\n",
    "zqian@umich.edu 195\n"
   ]
  },
  {
   "cell_type": "code",
   "execution_count": null,
   "id": "860395c9-1be2-4ed4-a41b-0294547b3a5f",
   "metadata": {},
   "outputs": [],
   "source": []
  },
  {
   "cell_type": "markdown",
   "id": "6fc84a40-abb9-451e-a2ee-34abe40f52d6",
   "metadata": {},
   "source": [
    "#### Exercise 4: This program records the domain name (instead of the address) where the message was sent from instead of who the mail came from (i.e., the whole email address). At the end of the program, print out the contents of your dictionary.\n",
    "python schoolcount.py\n",
    "Enter a file name: mbox-short.txt\n",
    "{'media.berkeley.edu': 4, 'uct.ac.za': 6, 'umich.edu': 7,\n",
    "'gmail.com': 1, 'caret.cam.ac.uk': 1, 'iupui.edu': 8}"
   ]
  },
  {
   "cell_type": "code",
   "execution_count": null,
   "id": "5612a59a-63b6-4fa7-bd73-8c7b16e0173b",
   "metadata": {},
   "outputs": [],
   "source": []
  }
 ],
 "metadata": {
  "kernelspec": {
   "display_name": "Python 3 (ipykernel)",
   "language": "python",
   "name": "python3"
  },
  "language_info": {
   "codemirror_mode": {
    "name": "ipython",
    "version": 3
   },
   "file_extension": ".py",
   "mimetype": "text/x-python",
   "name": "python",
   "nbconvert_exporter": "python",
   "pygments_lexer": "ipython3",
   "version": "3.12.4"
  }
 },
 "nbformat": 4,
 "nbformat_minor": 5
}
