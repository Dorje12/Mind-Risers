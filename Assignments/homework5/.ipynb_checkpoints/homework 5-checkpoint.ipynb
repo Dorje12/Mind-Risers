{
 "cells": [
  {
   "cell_type": "markdown",
   "id": "3a454669-4f1f-4e68-a1bc-13bbe0bcad32",
   "metadata": {},
   "source": [
    "#### Exercise 1: Download a copy of the file www.py4e.com/code3/romeo.txt.\n",
    "Write a program to open the file romeo.txt and read it line by line. For\n",
    "each line, split the line into a list of words using the split function.\n",
    "For each word, check to see if the word is already in a list. If the word\n",
    "is not in the list, add it to the list. When the program completes, sort\n",
    "and print the resulting words in alphabetical order.\n",
    "Enter file: romeo.txt\n",
    "['Arise', 'But', 'It', 'Juliet', 'Who', 'already',\n",
    "'and', 'breaks', 'east', 'envious', 'fair', 'grief',\n",
    "'is', 'kill', 'light', 'moon', 'pale', 'sick', 'soft',\n",
    "'sun', 'the', 'through', 'what', 'window',\n",
    "'with', 'yonder']\n"
   ]
  },
  {
   "cell_type": "code",
   "execution_count": 7,
   "id": "b12728b3-4180-4f9f-b1d2-783468238e2e",
   "metadata": {},
   "outputs": [
    {
     "name": "stdin",
     "output_type": "stream",
     "text": [
      "Enter file:  romeo.txt\n"
     ]
    },
    {
     "name": "stdout",
     "output_type": "stream",
     "text": [
      "['Arise', 'But', 'It', 'Juliet', 'Who', 'already', 'and', 'breaks', 'east', 'envious', 'fair', 'grief', 'is', 'kill', 'light', 'moon', 'pale', 'sick', 'soft', 'sun', 'the', 'through', 'what', 'window', 'with', 'yonder']\n"
     ]
    }
   ],
   "source": [
    "filename = input(\"Enter file: \")\n",
    "try:\n",
    "    file = open(filename)\n",
    "except:\n",
    "    print(f\"Cannot open file: {filename}\")\n",
    "    exit()\n",
    "unique_words = []\n",
    "\n",
    "for line in file:\n",
    "    words = line.split()\n",
    "    for word in words:\n",
    "        if word not in unique_words:\n",
    "            unique_words.append(word)\n",
    "\n",
    "unique_words.sort()\n",
    "\n",
    "print(unique_words)\n"
   ]
  },
  {
   "cell_type": "markdown",
   "id": "06757f1a-ef58-4a9e-b119-e958cee1a640",
   "metadata": {},
   "source": [
    "#### Exercise 2: Write a program to read through the mail box data (mbox.txt) and\n",
    "when you find line that starts with “From”, you will split the line into\n",
    "words using the split function. We are interested in who sent the\n",
    "message, which is the second word on the From line.\n",
    "From stephen.marquard@uct.ac.za Sat Jan 5 09:14:16 2008\n",
    "You will parse the From line and print out the second word for each\n",
    "From line, then you will also count the number of From (not From:)\n",
    "lines and print out a count at the end. This is a good sample output\n",
    "with a few lines removed:\n",
    "python fromcount.py\n",
    "Enter a file name: mbox-short.txt\n",
    "stephen.marquard@uct.ac.za\n",
    "louis@media.berkeley.edu\n",
    "zqian@umich.edu\n",
    "[...some output removed...]\n",
    "ray@media.berkeley.edu\n",
    "cwen@iupui.edu\n",
    "cwen@iupui.edu\n",
    "cwen@iupui.edu\n",
    "There were 27 lines in the file with From as the first word\n"
   ]
  },
  {
   "cell_type": "code",
   "execution_count": 15,
   "id": "94fddfe8-88fd-49ef-84f8-499a64c67ddc",
   "metadata": {},
   "outputs": [
    {
     "name": "stdin",
     "output_type": "stream",
     "text": [
      "Enter a file name:  mbox.txt\n"
     ]
    },
    {
     "name": "stdout",
     "output_type": "stream",
     "text": [
      "nima@gmail.com\n",
      "nimadorjelama19@gmail.com\n",
      "dorje@gmail.com\n",
      "lama@gmail.com\n",
      "kiyoshidorje19@gmail.com\n",
      "kiyoshi@gmail.com\n",
      "19@gmail.com\n",
      "There were 7 lines in the file with From as the first word\n"
     ]
    }
   ],
   "source": [
    "file_name = input(\"Enter a file name: \")\n",
    "\n",
    "try:\n",
    "    file = open(file_name)\n",
    "    count = 0\n",
    "\n",
    "    for line in file:\n",
    "        line = line.strip()\n",
    "        if line.startswith(\"From \"):\n",
    "            words = line.split()\n",
    "            print(words[1])\n",
    "            count += 1\n",
    "\n",
    "    print(f\"There were {count} lines in the file with From as the first word\")\n",
    "\n",
    "except FileNotFoundError:\n",
    "    print(\"File not found. Please enter a valid file name.\")\n"
   ]
  },
  {
   "cell_type": "markdown",
   "id": "402a2ed6-46b4-44c7-9dff-ad06b698b50c",
   "metadata": {},
   "source": [
    "### Exercise 3: Rewrite the program that prompts the user for a list of\n",
    "numbers and prints out the maximum and minimum of the numbers at\n",
    "the end when the user enters “done”. Write the program to store the\n",
    "numbers the user enters in a list and use the max() and min() functions to\n",
    "compute the maximum and minimum numbers after the loop completes.\n",
    "Enter a number: 6\n",
    "Enter a number: 2\n",
    "Enter a number: 9\n",
    "Enter a number: 3\n",
    "Enter a number: 5\n",
    "Enter a number: done\n",
    "Maximum: 9.0\n",
    "Minimum: 2.0"
   ]
  },
  {
   "cell_type": "code",
   "execution_count": 17,
   "id": "f5467efd-edd8-4d87-af87-522d66691508",
   "metadata": {},
   "outputs": [
    {
     "name": "stdin",
     "output_type": "stream",
     "text": [
      "Enter a number:  45\n",
      "Enter a number:  21\n",
      "Enter a number:  454\n",
      "Enter a number:  15\n",
      "Enter a number:  done\n"
     ]
    },
    {
     "name": "stdout",
     "output_type": "stream",
     "text": [
      "Maximum: 454.0\n",
      "Minimum: 15.0\n"
     ]
    }
   ],
   "source": [
    "numbers = []\n",
    "while True:\n",
    "\n",
    "    user_input = input(\"Enter a number: \")\n",
    "\n",
    "    if user_input.lower() == \"done\":\n",
    "        break\n",
    "\n",
    "    try:\n",
    "        number = float(user_input)\n",
    "        numbers.append(number)\n",
    "    except ValueError:\n",
    "        print(\"Invalid input. Please enter a valid number.\")\n",
    "\n",
    "if numbers:\n",
    "    print(\"Maximum:\", max(numbers))\n",
    "    print(\"Minimum:\", min(numbers))\n",
    "else:\n",
    "    print(\"No numbers were entered.\")\n"
   ]
  },
  {
   "cell_type": "code",
   "execution_count": null,
   "id": "689370a2-3821-428e-b863-6d250048ffbb",
   "metadata": {},
   "outputs": [],
   "source": []
  }
 ],
 "metadata": {
  "kernelspec": {
   "display_name": "Python 3 (ipykernel)",
   "language": "python",
   "name": "python3"
  },
  "language_info": {
   "codemirror_mode": {
    "name": "ipython",
    "version": 3
   },
   "file_extension": ".py",
   "mimetype": "text/x-python",
   "name": "python",
   "nbconvert_exporter": "python",
   "pygments_lexer": "ipython3",
   "version": "3.12.4"
  }
 },
 "nbformat": 4,
 "nbformat_minor": 5
}
