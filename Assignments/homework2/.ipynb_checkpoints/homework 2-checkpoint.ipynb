{
 "cells": [
  {
   "cell_type": "markdown",
   "id": "acf3807a-6c7e-424c-bb14-feb24f42d6ec",
   "metadata": {},
   "source": [
    "#### Exercise 1: Write a pay computation program to give the employee 1.5 times the hourly rate for hours worked above 40 hours.\n",
    "Enter Hours: 45\n",
    "Enter Rate: 10\n",
    "Pay: 475.0\n"
   ]
  },
  {
   "cell_type": "code",
   "execution_count": 29,
   "id": "39ad62b4-f083-4cef-bf42-dd0e19da5883",
   "metadata": {},
   "outputs": [
    {
     "name": "stdin",
     "output_type": "stream",
     "text": [
      "Enter Hours:  45\n",
      "Enter Rate:  10\n"
     ]
    },
    {
     "name": "stdout",
     "output_type": "stream",
     "text": [
      "pay :475.0\n"
     ]
    }
   ],
   "source": [
    "hours = int(input(\"Enter Hours: \"))\n",
    "rate = float(input(\"Enter Rate: \"))\n",
    "if(hours>40):\n",
    "    difference = hours-40\n",
    "    pay = rate*40+((rate*1.5)*difference)\n",
    "    print(f\"pay :{pay}\")"
   ]
  },
  {
   "cell_type": "markdown",
   "id": "a0f587d3-0e72-4f1b-8c4a-c7b325e67348",
   "metadata": {},
   "source": [
    "#### Exercise 2: Write a program to prompt for a score between 0.0 and 1.0. If the score is out of range, print an error message. If the score is between 0.0 and 1.0, print a grade using the following table:\n",
    "\n",
    "\n",
    "Range\tGrade\n",
    ">= 0.9\tA\n",
    ">= 0.8\tB\n",
    ">= 0.7\tC\n",
    ">= 0.6\tD\n",
    "< 0.6\tF\n",
    "\n",
    "Sample run:\n",
    "\n",
    "Enter score: 0.95\n",
    "A\n",
    "\n",
    "Enter score: perfect\n",
    "Bad score\n",
    "\n",
    "Enter score: 10.0\n",
    "Bad score\n",
    "\n",
    "Enter score: 0.75\n",
    "C\n",
    "\n",
    "Enter score: 0.5\n",
    "F\n",
    "\n",
    "Run the program repeatedly as shown above to test the various different values for\n",
    "input.\n",
    "\n"
   ]
  },
  {
   "cell_type": "code",
   "execution_count": 41,
   "id": "382ea021-afa4-46b8-9364-4cf0947a1568",
   "metadata": {},
   "outputs": [
    {
     "name": "stdin",
     "output_type": "stream",
     "text": [
      "Enter Score:  0.2\n"
     ]
    },
    {
     "name": "stdout",
     "output_type": "stream",
     "text": [
      "F\n"
     ]
    }
   ],
   "source": [
    "score = float(input(\"Enter Score: \"))\n",
    "if score<1 and score>0:\n",
    "    if(score>=0.9):\n",
    "        print(\"A\")\n",
    "    elif(score>=0.8):\n",
    "        print(\"B\")\n",
    "    elif(score>=0.7):\n",
    "        print(\"C\")\n",
    "    elif(score>=0.6):\n",
    "        print(\"D\")\n",
    "    elif(score<0.6):\n",
    "        print(\"F\")\n",
    "\n",
    "else:\n",
    "    print(\"Bad Score\")"
   ]
  },
  {
   "cell_type": "code",
   "execution_count": null,
   "id": "8993d571-b502-4866-97df-d45a18c2f210",
   "metadata": {},
   "outputs": [],
   "source": []
  }
 ],
 "metadata": {
  "kernelspec": {
   "display_name": "Python 3 (ipykernel)",
   "language": "python",
   "name": "python3"
  },
  "language_info": {
   "codemirror_mode": {
    "name": "ipython",
    "version": 3
   },
   "file_extension": ".py",
   "mimetype": "text/x-python",
   "name": "python",
   "nbconvert_exporter": "python",
   "pygments_lexer": "ipython3",
   "version": "3.12.4"
  }
 },
 "nbformat": 4,
 "nbformat_minor": 5
}
