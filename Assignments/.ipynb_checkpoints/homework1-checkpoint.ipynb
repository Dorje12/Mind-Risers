{
 "cells": [
  {
   "cell_type": "markdown",
   "id": "652225fa-543a-420b-bdae-fe88ee8235f7",
   "metadata": {},
   "source": [
    "#### Exercise 1: Write a program that uses input to prompt a user for their\n",
    "name and then welcomes them.\n",
    "Enter your name: …….\n",
    "Hello …..."
   ]
  },
  {
   "cell_type": "code",
   "execution_count": 4,
   "id": "da26d8a6-bd26-427b-8a95-1e0597b50549",
   "metadata": {},
   "outputs": [
    {
     "name": "stdin",
     "output_type": "stream",
     "text": [
      "Enter your name: Dorje\n"
     ]
    },
    {
     "name": "stdout",
     "output_type": "stream",
     "text": [
      "Hello Dorje\n"
     ]
    }
   ],
   "source": [
    "name = input(\"Enter your name:\")\n",
    "print(f\"Hello {name}\")"
   ]
  },
  {
   "cell_type": "markdown",
   "id": "d5c3a6d2-ebef-4040-a2f4-a6191caff3e2",
   "metadata": {},
   "source": [
    "#### Exercise 2: Write a program to prompt the user for hours and rate per\n",
    "hour to compute gross pay.\n",
    "Enter Hours: 35\n",
    "Enter Rate: 2.75\n",
    "Pay: 96.25\n",
    "\n",
    "You can play with the built-in Python round function to properly round the resulting pay to two decimal places.\r\n"
   ]
  },
  {
   "cell_type": "code",
   "execution_count": 8,
   "id": "019de1b4-435f-41d5-a561-1352d15579fb",
   "metadata": {},
   "outputs": [
    {
     "name": "stdin",
     "output_type": "stream",
     "text": [
      "Enter Hours:  35\n",
      "Enter Rate:  2.75\n"
     ]
    },
    {
     "name": "stdout",
     "output_type": "stream",
     "text": [
      "Pay: 96.25\n"
     ]
    }
   ],
   "source": [
    "hour = float(input(\"Enter Hours: \"))\n",
    "rate = float(input(\"Enter Rate: \"))\n",
    "\n",
    "pay = hour * rate\n",
    "print(f\"Pay: {pay}\")"
   ]
  },
  {
   "cell_type": "markdown",
   "id": "9a4042fb-c370-453c-9167-4329f1ff9461",
   "metadata": {},
   "source": [
    "#### Exercise 3: Assume that we execute the following assignment statements:\n",
    "width = 17\n",
    "height = 12.0\n",
    "\n",
    "For each of the following expressions, write the value of the expression and the\n",
    "type (of the value of the expression).\n",
    "1. width//2\n",
    "2. width/2.0\n",
    "3. height/3\n",
    "4. 1 + 2 * 5\n",
    "Use the Python interpreter to check your answers.\n"
   ]
  },
  {
   "cell_type": "code",
   "execution_count": 13,
   "id": "77561189-e054-41a7-8cb9-8ff986084b53",
   "metadata": {},
   "outputs": [
    {
     "name": "stdout",
     "output_type": "stream",
     "text": [
      "8\n",
      "8.5\n",
      "4.0\n",
      "11\n"
     ]
    }
   ],
   "source": [
    "width = 17\n",
    "height = 12.0\n",
    "\n",
    "print(width//2)\n",
    "print(width/2.0)\n",
    "print(height/3)\n",
    "print(1+2*5)"
   ]
  },
  {
   "cell_type": "markdown",
   "id": "3517a708-a85d-457e-93e7-82ee9df86abd",
   "metadata": {},
   "source": [
    "#### Exercise 4: Write a program which prompts the user for a Celsius temperature, convert the temperature to Fahrenheit, and print out the converted temperature."
   ]
  },
  {
   "cell_type": "code",
   "execution_count": 28,
   "id": "286c0089-c872-44a8-beac-7b4d54774b34",
   "metadata": {},
   "outputs": [
    {
     "name": "stdin",
     "output_type": "stream",
     "text": [
      "Enter temperature in Celsius:  36\n"
     ]
    },
    {
     "name": "stdout",
     "output_type": "stream",
     "text": [
      "36.0 c into farenheit : 96.8 f\n"
     ]
    }
   ],
   "source": [
    "celsius = float(input(\"Enter temperature in Celsius: \"))\n",
    "farenheit = (celsius * 9/5) + 32\n",
    "print(f\"{celsius} c into farenheit : {farenheit} f\" )"
   ]
  },
  {
   "cell_type": "code",
   "execution_count": null,
   "id": "a4fc81c3-4095-47c2-a008-82c7c1560ac7",
   "metadata": {},
   "outputs": [],
   "source": []
  }
 ],
 "metadata": {
  "kernelspec": {
   "display_name": "Python 3 (ipykernel)",
   "language": "python",
   "name": "python3"
  },
  "language_info": {
   "codemirror_mode": {
    "name": "ipython",
    "version": 3
   },
   "file_extension": ".py",
   "mimetype": "text/x-python",
   "name": "python",
   "nbconvert_exporter": "python",
   "pygments_lexer": "ipython3",
   "version": "3.12.4"
  }
 },
 "nbformat": 4,
 "nbformat_minor": 5
}
