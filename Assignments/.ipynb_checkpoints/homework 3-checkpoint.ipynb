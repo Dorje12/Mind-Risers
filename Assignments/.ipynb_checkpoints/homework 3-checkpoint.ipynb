{
 "cells": [
  {
   "cell_type": "markdown",
   "id": "58256fde-1ed0-46a6-9264-ed85ea4ae4a1",
   "metadata": {},
   "source": [
    "#### Exercise 1: Rewrite your pay computation with time-and-a-half for over-time and create a function called computepay which takes two parameters (hours and rate).\n",
    "Enter Hours: 45\n",
    "Enter Rate: 10\n",
    "Pay: 475.0\n",
    "\n",
    "-----------------------\n"
   ]
  },
  {
   "cell_type": "code",
   "execution_count": 6,
   "id": "0205c579-484d-45ee-99fb-ed0995e48e20",
   "metadata": {},
   "outputs": [
    {
     "name": "stdout",
     "output_type": "stream",
     "text": [
      "pay :475.0\n"
     ]
    }
   ],
   "source": [
    "def payment(hours,rate):\n",
    "    if(hours>40):\n",
    "        difference = hours-40\n",
    "        pay = rate*40+((rate*1.5)*difference)\n",
    "        print(f\"pay :{pay}\")\n",
    "\n",
    "payment(45,10)"
   ]
  },
  {
   "cell_type": "markdown",
   "id": "251055a6-017f-4bda-bd30-f02b8826cc7e",
   "metadata": {},
   "source": [
    "#### Exercise 2: Rewrite the grade program from the previous chapter using a function called computegrade that takes a score as its parameter and returns a grade as a string.\n",
    "\n",
    "Range\tGrade\n",
    ">= 0.9\tA\n",
    ">= 0.8\tB\n",
    ">= 0.7\tC\n",
    ">= 0.6\tD\n",
    "< 0.6\tF\n",
    "\n",
    "Enter score: 0.95\n",
    "A\n",
    "\n",
    "Enter score: perfect\n",
    "Bad score\n",
    "\n",
    "Enter score: 10.0\n",
    "Bad score\n",
    "\n",
    "Enter score: 0.75\n",
    "C\n",
    "\n",
    "Enter score: 0.5\n",
    "F\n",
    "\n",
    "Run the program repeatedly to test the various different values for input.\n",
    "--------------------------------------------------------------------------------------"
   ]
  },
  {
   "cell_type": "code",
   "execution_count": 14,
   "id": "13562145-6ea3-4fcf-8ea4-b3cb77a66f71",
   "metadata": {},
   "outputs": [
    {
     "name": "stdin",
     "output_type": "stream",
     "text": [
      "Enter Score:  0.95\n"
     ]
    },
    {
     "name": "stdout",
     "output_type": "stream",
     "text": [
      "A\n"
     ]
    }
   ],
   "source": [
    "def grade(score):\n",
    "\n",
    "    if score<1 and score>0:\n",
    "        if(score>=0.9):\n",
    "            print(\"A\")\n",
    "        elif(score>=0.8):\n",
    "            print(\"B\")\n",
    "        elif(score>=0.7):\n",
    "            print(\"C\")\n",
    "        elif(score>=0.6):\n",
    "            print(\"D\")\n",
    "        elif(score<0.6):\n",
    "            print(\"F\")\n",
    "\n",
    "    else:\n",
    "        print(\"Bad Score\")\n",
    "\n",
    "score = float(input(\"Enter Score: \"))\n",
    "grade(score)"
   ]
  },
  {
   "cell_type": "code",
   "execution_count": null,
   "id": "19fab5e7-c90d-402e-9b8b-48b731eeb199",
   "metadata": {},
   "outputs": [],
   "source": []
  }
 ],
 "metadata": {
  "kernelspec": {
   "display_name": "Python 3 (ipykernel)",
   "language": "python",
   "name": "python3"
  },
  "language_info": {
   "codemirror_mode": {
    "name": "ipython",
    "version": 3
   },
   "file_extension": ".py",
   "mimetype": "text/x-python",
   "name": "python",
   "nbconvert_exporter": "python",
   "pygments_lexer": "ipython3",
   "version": "3.12.4"
  }
 },
 "nbformat": 4,
 "nbformat_minor": 5
}
