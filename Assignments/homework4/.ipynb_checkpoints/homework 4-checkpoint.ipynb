{
 "cells": [
  {
   "cell_type": "markdown",
   "id": "86445711-3e23-48fd-8d85-8a23641425a0",
   "metadata": {},
   "source": [
    "#### Exercise 1: Write a program which repeatedly reads numbers until the user enters “done”. Once “done” is entered, print out the total, count, and average of the numbers. If the user enters anything other than a number, detect their mistake using try and except and print an error message and skip to the next number.\n",
    "\n",
    "Enter a number: 4\n",
    "Enter a number: 5\n",
    "Enter a number: bad data\n",
    "Invalid input\n",
    "Enter a number: 7\n",
    "Enter a number: done\n",
    "16 3 5.333333333333333\n",
    "\n",
    " ------------------------------------------\n"
   ]
  },
  {
   "cell_type": "code",
   "execution_count": 7,
   "id": "45ba06d0-fb47-43da-8abc-99b47207051a",
   "metadata": {},
   "outputs": [
    {
     "name": "stdin",
     "output_type": "stream",
     "text": [
      "Enter a number:  5\n",
      "Enter a number:  1\n",
      "Enter a number:  7\n",
      "Enter a number:  done\n"
     ]
    },
    {
     "name": "stdout",
     "output_type": "stream",
     "text": [
      "total: 13.0  count:3  average:4.333333333333333\n"
     ]
    }
   ],
   "source": [
    "total = 0\n",
    "count = 0\n",
    "\n",
    "while True:\n",
    "    user_input = input(\"Enter a number: \")\n",
    "    \n",
    "    if user_input.lower() == \"done\":\n",
    "        break\n",
    "    \n",
    "    try:\n",
    "        number = float(user_input)\n",
    "        total += number\n",
    "        count += 1\n",
    "    except ValueError:\n",
    "        print(\"Invalid input\")\n",
    "        continue\n",
    "\n",
    "if count > 0:\n",
    "    average = total / count\n",
    "else:\n",
    "    average = 0\n",
    "\n",
    "print(f\"total: {total}  count:{count}  average:{average}\")\n"
   ]
  },
  {
   "cell_type": "markdown",
   "id": "ef28b86d-5d62-4411-9570-2c2e8c8def86",
   "metadata": {},
   "source": [
    "#### Exercise 2: Write another program that prompts for a list of numbers as above and at the end prints out both the maximum and minimum of the numbers instead of the average.\n",
    "\n",
    " ------------------------------------------\n"
   ]
  },
  {
   "cell_type": "code",
   "execution_count": 9,
   "id": "7105ea2c-71f9-4803-99ab-a89ab53766f0",
   "metadata": {},
   "outputs": [
    {
     "name": "stdin",
     "output_type": "stream",
     "text": [
      "Enter a number:  5\n",
      "Enter a number:  1\n",
      "Enter a number:  3\n",
      "Enter a number:  7\n",
      "Enter a number:  5\n",
      "Enter a number:  done\n"
     ]
    },
    {
     "name": "stdout",
     "output_type": "stream",
     "text": [
      "Maximum: 7.0\n",
      "Minimum: 1.0\n"
     ]
    }
   ],
   "source": [
    "numbers = []\n",
    "\n",
    "while True:\n",
    "    user_input = input(\"Enter a number: \")\n",
    "    \n",
    "    if user_input.lower() == \"done\":\n",
    "        break\n",
    "    \n",
    "    try:\n",
    "        number = float(user_input)\n",
    "        numbers.append(number)\n",
    "    except ValueError:\n",
    "        print(\"Invalid input\")\n",
    "\n",
    "if numbers:\n",
    "    print(\"Maximum:\", max(numbers))\n",
    "    print(\"Minimum:\", min(numbers))\n",
    "else:\n",
    "    print(\"No valid numbers were entered.\")\n"
   ]
  },
  {
   "cell_type": "code",
   "execution_count": null,
   "id": "97abd225-f43a-4609-be1e-e6e1ff497ad7",
   "metadata": {},
   "outputs": [],
   "source": []
  }
 ],
 "metadata": {
  "kernelspec": {
   "display_name": "Python 3 (ipykernel)",
   "language": "python",
   "name": "python3"
  },
  "language_info": {
   "codemirror_mode": {
    "name": "ipython",
    "version": 3
   },
   "file_extension": ".py",
   "mimetype": "text/x-python",
   "name": "python",
   "nbconvert_exporter": "python",
   "pygments_lexer": "ipython3",
   "version": "3.12.4"
  }
 },
 "nbformat": 4,
 "nbformat_minor": 5
}
